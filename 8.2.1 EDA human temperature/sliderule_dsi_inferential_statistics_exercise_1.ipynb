{
 "cells": [
  {
   "cell_type": "markdown",
   "metadata": {},
   "source": [
    "# What is the True Normal Human Body Temperature? \n",
    "\n",
    "#### Background\n",
    "\n",
    "The mean normal body temperature was held to be 37$^{\\circ}$C or 98.6$^{\\circ}$F for more than 120 years since it was first conceptualized and reported by Carl Wunderlich in a famous 1868 book. But, is this value statistically correct?"
   ]
  },
  {
   "cell_type": "markdown",
   "metadata": {},
   "source": [
    "<h3>Exercises</h3>\n",
    "\n",
    "<p>In this exercise, you will analyze a dataset of human body temperatures and employ the concepts of hypothesis testing, confidence intervals, and statistical significance.</p>\n",
    "\n",
    "<p>Answer the following questions <b>in this notebook below and submit to your Github account</b>.</p> \n",
    "\n",
    "<ol>\n",
    "<li>  Is the distribution of body temperatures normal? \n",
    "    <ul>\n",
    "    <li> Although this is not a requirement for the Central Limit Theorem to hold (read the introduction on Wikipedia's page about the CLT carefully: https://en.wikipedia.org/wiki/Central_limit_theorem), it gives us some peace of mind that the population may also be normally distributed if we assume that this sample is representative of the population.\n",
    "    <li> Think about the way you're going to check for the normality of the distribution. Graphical methods are usually used first, but there are also other ways: https://en.wikipedia.org/wiki/Normality_test\n",
    "    </ul>\n",
    "<li>  Is the sample size large? Are the observations independent?\n",
    "    <ul>\n",
    "    <li> Remember that this is a condition for the Central Limit Theorem, and hence the statistical tests we are using, to apply.\n",
    "    </ul>\n",
    "<li>  Is the true population mean really 98.6 degrees F?\n",
    "    <ul>\n",
    "    <li> First, try a bootstrap hypothesis test.\n",
    "    <li> Now, let's try frequentist statistical testing. Would you use a one-sample or two-sample test? Why?\n",
    "    <li> In this situation, is it appropriate to use the $t$ or $z$ statistic? \n",
    "    <li> Now try using the other test. How is the result be different? Why?\n",
    "    </ul>\n",
    "<li>  Draw a small sample of size 10 from the data and repeat both frequentist tests. \n",
    "    <ul>\n",
    "    <li> Which one is the correct one to use? \n",
    "    <li> What do you notice? What does this tell you about the difference in application of the $t$ and $z$ statistic?\n",
    "    </ul>\n",
    "<li>  At what temperature should we consider someone's temperature to be \"abnormal\"?\n",
    "    <ul>\n",
    "    <li> As in the previous example, try calculating everything using the boostrap approach, as well as the frequentist approach.\n",
    "    <li> Start by computing the margin of error and confidence interval. When calculating the confidence interval, keep in mind that you should use the appropriate formula for one draw, and not N draws.\n",
    "    </ul>\n",
    "<li>  Is there a significant difference between males and females in normal temperature?\n",
    "    <ul>\n",
    "    <li> What testing approach did you use and why?\n",
    "    <li> Write a story with your conclusion in the context of the original problem.\n",
    "    </ul>\n",
    "</ol>\n",
    "\n",
    "You can include written notes in notebook cells using Markdown: \n",
    "   - In the control panel at the top, choose Cell > Cell Type > Markdown\n",
    "   - Markdown syntax: http://nestacms.com/docs/creating-content/markdown-cheat-sheet\n",
    "\n",
    "#### Resources\n",
    "\n",
    "+ Information and data sources: http://www.amstat.org/publications/jse/datasets/normtemp.txt, http://www.amstat.org/publications/jse/jse_data_archive.htm\n",
    "+ Markdown syntax: http://nestacms.com/docs/creating-content/markdown-cheat-sheet\n",
    "\n",
    "****"
   ]
  },
  {
   "cell_type": "code",
   "execution_count": 1,
   "metadata": {},
   "outputs": [],
   "source": [
    "import pandas as pd\n",
    "\n",
    "df = pd.read_csv('data/human_body_temperature.csv')"
   ]
  },
  {
   "attachments": {},
   "cell_type": "markdown",
   "metadata": {},
   "source": [
    "We start by getting some statistics of the data"
   ]
  },
  {
   "cell_type": "code",
   "execution_count": 2,
   "metadata": {},
   "outputs": [
    {
     "data": {
      "text/plain": [
       "count    130.000000\n",
       "mean      98.249231\n",
       "std        0.733183\n",
       "min       96.300000\n",
       "25%       97.800000\n",
       "50%       98.300000\n",
       "75%       98.700000\n",
       "max      100.800000\n",
       "Name: temperature, dtype: float64"
      ]
     },
     "execution_count": 2,
     "metadata": {},
     "output_type": "execute_result"
    }
   ],
   "source": [
    "df.temperature.describe()"
   ]
  },
  {
   "attachments": {},
   "cell_type": "markdown",
   "metadata": {},
   "source": [
    "**1.** To check for normality I’ll plot theand ecdf of the samples with ones produced from a normal distribution which have the same mean and variance"
   ]
  },
  {
   "cell_type": "code",
   "execution_count": 3,
   "metadata": {},
   "outputs": [],
   "source": [
    "import numpy as np\n",
    "import matplotlib.pyplot as plt\n",
    "import seaborn as sns\n",
    "from statsmodels.distributions.empirical_distribution import ECDF"
   ]
  },
  {
   "cell_type": "code",
   "execution_count": 4,
   "metadata": {},
   "outputs": [
    {
     "data": {
      "image/png": "[encoded data removed]",
      "text/plain": [
       "<matplotlib.figure.Figure at 0x1a10974860>"
      ]
     },
     "metadata": {},
     "output_type": "display_data"
    }
   ],
   "source": [
    "norm_temperature = np.random.normal(np.mean(df.temperature), np.std(df.temperature),10000)\n",
    "edcf_norm = ECDF(norm_temperature)\n",
    "ecdf_emp = ECDF(df.temperature)\n",
    "plt.plot(edcf_norm.x, edcf_norm.y, marker='.', linestyle='none', color='blue')\n",
    "plt.plot(ecdf_emp.x, ecdf_emp.y, marker='.', linestyle='none', color='red')\n",
    "plt.xlabel('Temperature (F)')\n",
    "plt.ylabel('ECDF')\n",
    "plt.legend(['Generated normal samples', 'Empirical messurments'])\n",
    "plt.margins(0.02)\n",
    "plt.show()"
   ]
  },
  {
   "attachments": {},
   "cell_type": "markdown",
   "metadata": {},
   "source": [
    "It's hard to determine, some of the values seems off. But it's looking almost O.k. \n",
    "\n",
    "let’s try a Q-Q plot"
   ]
  },
  {
   "cell_type": "code",
   "execution_count": 5,
   "metadata": {},
   "outputs": [
    {
     "data": {
      "image/png": "[encoded data removed]",
      "text/plain": [
       "<matplotlib.figure.Figure at 0x105b7ea20>"
      ]
     },
     "metadata": {},
     "output_type": "display_data"
    }
   ],
   "source": [
    "from scipy import stats\n",
    "stats.probplot(df.temperature, dist='norm', sparams=(np.mean(df.temperature), np.std(df.temperature)), plot=plt)\n",
    "plt.show()"
   ]
  },
  {
   "attachments": {},
   "cell_type": "markdown",
   "metadata": {},
   "source": [
    "This seems sort of O.k. I'm assuming we were just unlucky enough to get an outlier (if I was part of the test sample they would have gotten an insane outlier at the other side as I have the normal body temperature of a corpse)\n",
    "\n",
    "Let's try some non-graphical methods, starting with: Back-of-the-envelope test"
   ]
  },
  {
   "cell_type": "code",
   "execution_count": 6,
   "metadata": {},
   "outputs": [
    {
     "name": "stdout",
     "output_type": "stream",
     "text": [
      "maximum distance form mean (in STD): 3.4924927267747696       \n",
      "minimum distance form mean (in STD): 2.6688711006174173\n"
     ]
    }
   ],
   "source": [
    "max_in_std = (np.max(df.temperature)-np.mean(df.temperature))/np.std(df.temperature)\n",
    "min_in_std = (np.mean(df.temperature) -np.min(df.temperature))/np.std(df.temperature)\n",
    "print('maximum distance form mean (in STD): {} \\\n",
    "      \\nminimum distance form mean (in STD): {}'.format(max_in_std,min_in_std))"
   ]
  },
  {
   "attachments": {},
   "cell_type": "markdown",
   "metadata": {},
   "source": [
    "The maximum distance from the mean is larger than $3\\hat{\\sigma}$, which for this small sample should be alarming, but we already knew that, so we will continue assuming its normal. \n",
    "Just to be fancy, let’s try Kolmogorov-Smirnov test:"
   ]
  },
  {
   "cell_type": "code",
   "execution_count": 7,
   "metadata": {},
   "outputs": [
    {
     "name": "stdout",
     "output_type": "stream",
     "text": [
      "Sample is normal with p-value:0.0\n"
     ]
    }
   ],
   "source": [
    "_, p_value = stats.kstest(df.temperature, cdf='norm')\n",
    "print('Sample is normal with p-value:{:1.3}'.format(p_value))"
   ]
  },
  {
   "attachments": {},
   "cell_type": "markdown",
   "metadata": {},
   "source": [
    "*This seems reassuring*"
   ]
  },
  {
   "attachments": {},
   "cell_type": "markdown",
   "metadata": {},
   "source": [
    "**2.** It's hard to judge the sample size, it’s all depends on the confidence intervals we require. I personally would have liked a bigger sample that would convince me of the normality as it is fairly easy to get temperature measurements. Assuming that the samples are from different individuals they are supposed to be independent."
   ]
  },
  {
   "attachments": {},
   "cell_type": "markdown",
   "metadata": {},
   "source": [
    "**3.** Checking the (null) hypothesis that the mean is 98.6 degrees F\n",
    "\n",
    "Starting with bootstrapping:"
   ]
  },
  {
   "cell_type": "code",
   "execution_count": 8,
   "metadata": {},
   "outputs": [
    {
     "name": "stdout",
     "output_type": "stream",
     "text": [
      "p-value: 0.000e+00 (fraction of replicates with mean difference from 98.2 as the sample mean)\n"
     ]
    }
   ],
   "source": [
    "#shifting the empirical ditribution to have a mean of 98.6\n",
    "test_mean = 98.6\n",
    "sample_mean = np.mean(df.temperature)\n",
    "shifted_temp = df.temperature.values - sample_mean + test_mean\n",
    "# Generating bootstrap samples\n",
    "num_tests = 100000\n",
    "bs_means = np.empty(num_tests)\n",
    "for i in range(num_tests):\n",
    "    bs_means[i] = np.mean(np.random.choice(shifted_temp, size=len(shifted_temp)))\n",
    "p_val = sum(bs_means <= sample_mean)/num_tests\n",
    "print('p-value: {:1.3e} (fraction of replicates with mean difference from 98.2 as the sample mean)'.format(p_val))"
   ]
  },
  {
   "attachments": {},
   "cell_type": "markdown",
   "metadata": {},
   "source": [
    "So, according to the bootstrap test reject accept the hypothesis. (the p value is not actually zero, just very small so we never generated any sample which matches the hypothesis)\n",
    "Now trying frequentist statistical testing. I will use a one sample test, as there is only one sample we draw from, and we are not comparing between two samples. We do not know the population $\\sigma$ so we will use a $t$ test"
   ]
  },
  {
   "cell_type": "code",
   "execution_count": 9,
   "metadata": {},
   "outputs": [
    {
     "name": "stdout",
     "output_type": "stream",
     "text": [
      "p-value: 1.19e-07\n"
     ]
    }
   ],
   "source": [
    "#unbiased estimator for the std\n",
    "from scipy import stats\n",
    "sigma_hat = np.std(df.temperature, ddof=1)\n",
    "t = (test_mean - sample_mean)/(sigma_hat/np.sqrt(len(df.temperature)))\n",
    "p_val= 1- stats.t.cdf(t, len(df.temperature))\n",
    "print('p-value: {:2.2e}'.format(p_val))"
   ]
  },
  {
   "attachments": {},
   "cell_type": "markdown",
   "metadata": {},
   "source": [
    "We don’t know the population $\\sigma$ so I'm not sure how to perform a $z$ test, but I'll try with $\\hat{\\sigma}$"
   ]
  },
  {
   "cell_type": "code",
   "execution_count": 10,
   "metadata": {},
   "outputs": [
    {
     "name": "stdout",
     "output_type": "stream",
     "text": [
      "p-value: 2.45e-08\n"
     ]
    }
   ],
   "source": [
    "p_val= 1- stats.norm.cdf(t)\n",
    "print('p-value: {:2.2e}'.format(p_val))"
   ]
  },
  {
   "attachments": {},
   "cell_type": "markdown",
   "metadata": {},
   "source": [
    "**4.** Choosing a random **n**=10 sample an repeating the tests:"
   ]
  },
  {
   "cell_type": "code",
   "execution_count": 11,
   "metadata": {},
   "outputs": [
    {
     "name": "stdout",
     "output_type": "stream",
     "text": [
      "p-value: 0.0025\n"
     ]
    }
   ],
   "source": [
    "random_sample = np.random.choice(df.temperature,10, replace=False)\n",
    "sigma_hat = np.std(random_sample, ddof=1)\n",
    "t = (test_mean - np.mean(random_sample))/(sigma_hat/np.sqrt(len(random_sample)))\n",
    "p_val= 1- stats.t.cdf(t, len(random_sample))\n",
    "print('p-value: {:2.2}'.format(p_val))"
   ]
  },
  {
   "cell_type": "code",
   "execution_count": 12,
   "metadata": {},
   "outputs": [
    {
     "name": "stdout",
     "output_type": "stream",
     "text": [
      "p-value: 0.00017\n"
     ]
    }
   ],
   "source": [
    "p_val= 1- stats.norm.cdf(t)\n",
    "print('p-value: {:2.2}'.format(p_val))"
   ]
  },
  {
   "attachments": {},
   "cell_type": "markdown",
   "metadata": {},
   "source": [
    "The p-values varies depends on the random sample chosen. It is obvious that the Z test gives a lower p-value (as the tails are decaying faster). At this sample size, even if the population $\\sigma$ is knows I would have used the t-test"
   ]
  },
  {
   "attachments": {},
   "cell_type": "markdown",
   "metadata": {},
   "source": [
    "**5** What is a considered a normal temperature \n",
    "\n",
    "We start by bootstrapping a confidence interval for a single measurement\n",
    "If a measurement is within the 2.5 and 97.5 percentiles it will be considered normal. This is not extremely accurate and the values we'll get will be limited to measurements in the sample group."
   ]
  },
  {
   "cell_type": "code",
   "execution_count": 13,
   "metadata": {},
   "outputs": [
    {
     "name": "stdout",
     "output_type": "stream",
     "text": [
      "With a confidence of 95% normal temperature will fall in the range 96.7-99.5\n"
     ]
    }
   ],
   "source": [
    "num_tests = 10000\n",
    "bs_messure = np.empty(num_tests)\n",
    "for i in range(num_tests):\n",
    "    bs_messure[i] = np.mean(np.random.choice(df.temperature, 1))\n",
    "confidance = np.percentile(bs_messure, [2.5,97.5]) \n",
    "print('With a confidence of 95% normal temperature will fall in the range {}-{}'.format(confidance[0],confidance[1]))"
   ]
  },
  {
   "attachments": {},
   "cell_type": "markdown",
   "metadata": {},
   "source": [
    "I'm not really sure how to do this with a frequentist statistical testing. I can presumable get a confidence interval for the mean using a t-test and a confidence interval for $\\sigma$ using a $\\chi^2$ test, then take 95% upper and lower limit and get a confidence interval again from a z-test. But this is really not a very accurate method. \n",
    "\n",
    "Maybe I'll just assume that the population is normally distributed with $\\hat\\mu=\\mu$ and $\\hat\\sigma=\\sigma$, which is kind of wrong but it’s easier.\n",
    "\n",
    "$Z$-test"
   ]
  },
  {
   "cell_type": "code",
   "execution_count": 14,
   "metadata": {},
   "outputs": [
    {
     "name": "stdout",
     "output_type": "stream",
     "text": [
      "With a confidence of 95% normal temperature will fall in the range 96.1-100.4\n"
     ]
    }
   ],
   "source": [
    "sigma_hat = np.std(df.temperature, ddof=1)\n",
    "sigma_n = (sigma_hat)#/np.sqrt(len(df.temperature)))\n",
    "# getting 2.5% margin level on both sides\n",
    "n_conf = stats.norm.ppf(1-0.025, 1)\n",
    "print('With a confidence of 95% normal temperature will fall in the range {:2.1f}-{:2.1f}'.format(\n",
    "    sample_mean-n_conf*sigma_n,sample_mean+n_conf*sigma_n))"
   ]
  },
  {
   "attachments": {},
   "cell_type": "markdown",
   "metadata": {},
   "source": [
    "**6.** Checking whether there is a significant difference between the temperature of males and females\n",
    "\n",
    "We start with a bootstrap permutation test, which assumes nothing about the distributions"
   ]
  },
  {
   "cell_type": "code",
   "execution_count": 15,
   "metadata": {},
   "outputs": [],
   "source": [
    "male_temp = df[df.gender =='M'].temperature\n",
    "female_temp = df[df.gender =='F'].temperature\n",
    "empirical_mean_diff = np.mean(female_temp) - np.mean(male_temp)"
   ]
  },
  {
   "cell_type": "code",
   "execution_count": 16,
   "metadata": {},
   "outputs": [
    {
     "data": {
      "text/plain": [
       "0.289230769230727"
      ]
     },
     "execution_count": 16,
     "metadata": {},
     "output_type": "execute_result"
    }
   ],
   "source": [
    "empirical_mean_diff"
   ]
  },
  {
   "cell_type": "markdown",
   "metadata": {},
   "source": [
    "Permutation test"
   ]
  },
  {
   "cell_type": "code",
   "execution_count": 17,
   "metadata": {},
   "outputs": [
    {
     "name": "stdout",
     "output_type": "stream",
     "text": [
      "p-value: 1.09e-02\n"
     ]
    }
   ],
   "source": [
    "num_tests = 10000\n",
    "bs_mean_diff = np.empty(num_tests)\n",
    "males = len(male_temp)\n",
    "for i in range(num_tests):\n",
    "    permute_sample = np.random.permutation(df.temperature.values)\n",
    "    bs_male_temp = permute_sample[0:males]\n",
    "    bs_female_temp = permute_sample[males:]\n",
    "    bs_mean_diff[i] = np.mean(bs_female_temp) - np.mean(bs_male_temp)\n",
    "\n",
    "p_val = np.sum(bs_mean_diff >= empirical_mean_diff)/num_tests\n",
    "print('p-value: {:1.2e}'.format(p_val))"
   ]
  },
  {
   "attachments": {},
   "cell_type": "markdown",
   "metadata": {},
   "source": [
    "And a frequentists approach, a two sample t-test is appropriate here, as we have two samples and we do not know the population mean"
   ]
  },
  {
   "cell_type": "code",
   "execution_count": 18,
   "metadata": {},
   "outputs": [
    {
     "name": "stdout",
     "output_type": "stream",
     "text": [
      "p-value: 1.09e-02\n"
     ]
    }
   ],
   "source": [
    "_, p_al = stats.ttest_ind(female_temp,male_temp)\n",
    "print('p-value: {:1.2e}'.format(p_val))"
   ]
  },
  {
   "attachments": {},
   "cell_type": "markdown",
   "metadata": {},
   "source": [
    "This is a two-sided t-test, which accounts for the difference from the permutation test. Both are indicating there is a significant difference between the body temperatures of males and females"
   ]
  },
  {
   "attachments": {},
   "cell_type": "markdown",
   "metadata": {},
   "source": [
    "## Conclusion\n",
    "\n",
    "While my test statistics indicate the mean temperature of the sample group are lower then the believed mean of 98.6 F, this is the strongest conclusion I can reach based on the data. I do not know how the data was collected, and there are many more variables which can influence the body temperature of an individual, for example we seen that for that group gender affects the mean body temperature and I imagine that the geographic origin and age can also play a role. That said the significant difference seems promising and calls for further study.\n",
    "It is also observed that for this group female body temperature is higher than that of males."
   ]
  },
  {
   "cell_type": "markdown",
   "metadata": {},
   "source": [
    "As the table also have hear rate messurments I was windering if it is correlated with the bodey temperature"
   ]
  },
  {
   "cell_type": "code",
   "execution_count": 19,
   "metadata": {},
   "outputs": [
    {
     "data": {
      "image/png": "[encoded data removed]",
      "text/plain": [
       "<matplotlib.figure.Figure at 0x1a13ed1f60>"
      ]
     },
     "metadata": {},
     "output_type": "display_data"
    }
   ],
   "source": [
    "sns.lmplot(x='temperature', y='heart_rate', data=df, hue='gender')\n",
    "plt.show()"
   ]
  },
  {
   "attachments": {},
   "cell_type": "markdown",
   "metadata": {},
   "source": [
    "There seems to be a slight correlation (especially at the extremes) but I don’t really sure if this is meaningful, the correlation seems to be higer for females. We can also see that males have slightly higher body temperature on average"
   ]
  },
  {
   "cell_type": "code",
   "execution_count": 20,
   "metadata": {},
   "outputs": [
    {
     "name": "stdout",
     "output_type": "stream",
     "text": [
      "pearson r = 0.254\n"
     ]
    }
   ],
   "source": [
    "pearson_r, _ =stats.pearsonr(df.temperature, df.heart_rate)\n",
    "print('pearson r = {:1.3}'.format(pearson_r))"
   ]
  },
  {
   "attachments": {},
   "cell_type": "markdown",
   "metadata": {},
   "source": [
    "The correlation coefficient is pretty small, but posetive."
   ]
  }
 ],
 "metadata": {
  "kernelspec": {
   "display_name": "Python 3",
   "language": "python",
   "name": "python3"
  },
  "language_info": {
   "codemirror_mode": {
    "name": "ipython",
    "version": 3
   },
   "file_extension": ".py",
   "mimetype": "text/x-python",
   "name": "python",
   "nbconvert_exporter": "python",
   "pygments_lexer": "ipython3",
   "version": "3.6.4"
  }
 },
 "nbformat": 4,
 "nbformat_minor": 2
}
