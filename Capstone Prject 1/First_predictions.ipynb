{
 "cells": [
  {
   "cell_type": "code",
   "execution_count": 1,
   "metadata": {},
   "outputs": [],
   "source": [
    "import numpy as np\n",
    "import pandas as pd\n",
    "import seaborn as sns\n",
    "import matplotlib.pyplot as plt"
   ]
  },
  {
   "cell_type": "code",
   "execution_count": 2,
   "metadata": {},
   "outputs": [],
   "source": [
    "df= pd.read_csv('data/income_data_2017_clean_zeros.csv.bz2', compression='bz2', index_col='peridnum')"
   ]
  },
  {
   "cell_type": "markdown",
   "metadata": {},
   "source": [
    "List of features to consider"
   ]
  },
  {
   "cell_type": "code",
   "execution_count": 3,
   "metadata": {
    "code_folding": []
   },
   "outputs": [],
   "source": [
    "features_list = ['peioocc','ern_val', \n",
    "                 'a_hga', 'H_NUMPER', 'MARSUPWT', 'FKIND', 'FPERSONS', \n",
    "                 'FOWNU6', 'FOWNU18', 'a_age', 'PRDTRACE', 'A_HRS1','A_CLSWKR', 'A_USLHRS',\n",
    "                'A_WKSTAT', 'A_MJIND', 'MJOCC', 'PHMEMPRS', 'HRSWK', 'PTYN','LJCW',\n",
    "                'WEMOCG', 'MIG_CBST', 'MIGSAME', 'HNUMFAM', 'H_TYPE', 'H_LIVQRT',\n",
    "                'GTCBSA']\n",
    "features_list = [str.lower(v) for v in features_list]"
   ]
  },
  {
   "cell_type": "markdown",
   "metadata": {},
   "source": [
    "1. Filtering for individuals earning between \\$5,000 and \\$250,000 per year, \n",
    "2. Getting the features from the DataFrame, and dropping nan's"
   ]
  },
  {
   "cell_type": "code",
   "execution_count": 4,
   "metadata": {},
   "outputs": [],
   "source": [
    "df2 = df[(df['ern_val'] > 5000) & (df['ern_val'] < 250000) &(df['a_hrs1'] >= 40)]\n",
    "features_df = df2.loc[:,features_list]\n",
    "features_df = features_df.dropna()"
   ]
  },
  {
   "cell_type": "code",
   "execution_count": 5,
   "metadata": {},
   "outputs": [
    {
     "data": {
      "text/html": [
       "<div>\n",
       "<style>\n",
       "    .dataframe thead tr:only-child th {\n",
       "        text-align: right;\n",
       "    }\n",
       "\n",
       "    .dataframe thead th {\n",
       "        text-align: left;\n",
       "    }\n",
       "\n",
       "    .dataframe tbody tr th {\n",
       "        vertical-align: top;\n",
       "    }\n",
       "</style>\n",
       "<table border=\"1\" class=\"dataframe\">\n",
       "  <thead>\n",
       "    <tr style=\"text-align: right;\">\n",
       "      <th></th>\n",
       "      <th>peioocc</th>\n",
       "      <th>ern_val</th>\n",
       "      <th>a_hga</th>\n",
       "      <th>h_numper</th>\n",
       "      <th>marsupwt</th>\n",
       "      <th>fkind</th>\n",
       "      <th>fpersons</th>\n",
       "      <th>fownu6</th>\n",
       "      <th>fownu18</th>\n",
       "      <th>a_age</th>\n",
       "      <th>...</th>\n",
       "      <th>hrswk</th>\n",
       "      <th>ptyn</th>\n",
       "      <th>ljcw</th>\n",
       "      <th>wemocg</th>\n",
       "      <th>mig_cbst</th>\n",
       "      <th>migsame</th>\n",
       "      <th>hnumfam</th>\n",
       "      <th>h_type</th>\n",
       "      <th>h_livqrt</th>\n",
       "      <th>gtcbsa</th>\n",
       "    </tr>\n",
       "  </thead>\n",
       "  <tbody>\n",
       "    <tr>\n",
       "      <th>count</th>\n",
       "      <td>61183.000000</td>\n",
       "      <td>61183.000000</td>\n",
       "      <td>61183.000000</td>\n",
       "      <td>61183.000000</td>\n",
       "      <td>61183.000000</td>\n",
       "      <td>61183.000000</td>\n",
       "      <td>61183.000000</td>\n",
       "      <td>61183.000000</td>\n",
       "      <td>61183.000000</td>\n",
       "      <td>61183.000000</td>\n",
       "      <td>...</td>\n",
       "      <td>61183.000000</td>\n",
       "      <td>61183.000000</td>\n",
       "      <td>61183.000000</td>\n",
       "      <td>61183.000000</td>\n",
       "      <td>61183.000000</td>\n",
       "      <td>61183.000000</td>\n",
       "      <td>61183.000000</td>\n",
       "      <td>61183.000000</td>\n",
       "      <td>61183.000000</td>\n",
       "      <td>61183.000000</td>\n",
       "    </tr>\n",
       "    <tr>\n",
       "      <th>mean</th>\n",
       "      <td>4255.948221</td>\n",
       "      <td>44751.055996</td>\n",
       "      <td>40.534397</td>\n",
       "      <td>3.245297</td>\n",
       "      <td>149886.521207</td>\n",
       "      <td>1.497295</td>\n",
       "      <td>2.969632</td>\n",
       "      <td>0.253518</td>\n",
       "      <td>0.872890</td>\n",
       "      <td>41.618097</td>\n",
       "      <td>...</td>\n",
       "      <td>43.817368</td>\n",
       "      <td>1.901427</td>\n",
       "      <td>1.793734</td>\n",
       "      <td>12.526094</td>\n",
       "      <td>0.136786</td>\n",
       "      <td>1.114591</td>\n",
       "      <td>1.221156</td>\n",
       "      <td>2.353660</td>\n",
       "      <td>1.173905</td>\n",
       "      <td>25981.964925</td>\n",
       "    </tr>\n",
       "    <tr>\n",
       "      <th>std</th>\n",
       "      <td>2724.140091</td>\n",
       "      <td>31299.604264</td>\n",
       "      <td>2.624424</td>\n",
       "      <td>1.518794</td>\n",
       "      <td>95214.698074</td>\n",
       "      <td>0.767943</td>\n",
       "      <td>1.514456</td>\n",
       "      <td>0.575517</td>\n",
       "      <td>1.100923</td>\n",
       "      <td>11.466519</td>\n",
       "      <td>...</td>\n",
       "      <td>8.432395</td>\n",
       "      <td>0.359212</td>\n",
       "      <td>1.519312</td>\n",
       "      <td>7.101677</td>\n",
       "      <td>0.420111</td>\n",
       "      <td>0.326286</td>\n",
       "      <td>0.554159</td>\n",
       "      <td>2.088132</td>\n",
       "      <td>0.842173</td>\n",
       "      <td>20357.669180</td>\n",
       "    </tr>\n",
       "    <tr>\n",
       "      <th>min</th>\n",
       "      <td>10.000000</td>\n",
       "      <td>5002.000000</td>\n",
       "      <td>31.000000</td>\n",
       "      <td>1.000000</td>\n",
       "      <td>9281.000000</td>\n",
       "      <td>1.000000</td>\n",
       "      <td>1.000000</td>\n",
       "      <td>0.000000</td>\n",
       "      <td>0.000000</td>\n",
       "      <td>18.000000</td>\n",
       "      <td>...</td>\n",
       "      <td>1.000000</td>\n",
       "      <td>0.000000</td>\n",
       "      <td>1.000000</td>\n",
       "      <td>1.000000</td>\n",
       "      <td>0.000000</td>\n",
       "      <td>1.000000</td>\n",
       "      <td>1.000000</td>\n",
       "      <td>1.000000</td>\n",
       "      <td>1.000000</td>\n",
       "      <td>0.000000</td>\n",
       "    </tr>\n",
       "    <tr>\n",
       "      <th>25%</th>\n",
       "      <td>2040.000000</td>\n",
       "      <td>24000.000000</td>\n",
       "      <td>39.000000</td>\n",
       "      <td>2.000000</td>\n",
       "      <td>74393.000000</td>\n",
       "      <td>1.000000</td>\n",
       "      <td>2.000000</td>\n",
       "      <td>0.000000</td>\n",
       "      <td>0.000000</td>\n",
       "      <td>33.000000</td>\n",
       "      <td>...</td>\n",
       "      <td>40.000000</td>\n",
       "      <td>2.000000</td>\n",
       "      <td>1.000000</td>\n",
       "      <td>6.000000</td>\n",
       "      <td>0.000000</td>\n",
       "      <td>1.000000</td>\n",
       "      <td>1.000000</td>\n",
       "      <td>1.000000</td>\n",
       "      <td>1.000000</td>\n",
       "      <td>10420.000000</td>\n",
       "    </tr>\n",
       "    <tr>\n",
       "      <th>50%</th>\n",
       "      <td>4600.000000</td>\n",
       "      <td>36000.000000</td>\n",
       "      <td>40.000000</td>\n",
       "      <td>3.000000</td>\n",
       "      <td>143691.000000</td>\n",
       "      <td>1.000000</td>\n",
       "      <td>3.000000</td>\n",
       "      <td>0.000000</td>\n",
       "      <td>0.000000</td>\n",
       "      <td>42.000000</td>\n",
       "      <td>...</td>\n",
       "      <td>40.000000</td>\n",
       "      <td>2.000000</td>\n",
       "      <td>1.000000</td>\n",
       "      <td>15.000000</td>\n",
       "      <td>0.000000</td>\n",
       "      <td>1.000000</td>\n",
       "      <td>1.000000</td>\n",
       "      <td>1.000000</td>\n",
       "      <td>1.000000</td>\n",
       "      <td>27900.000000</td>\n",
       "    </tr>\n",
       "    <tr>\n",
       "      <th>75%</th>\n",
       "      <td>6200.000000</td>\n",
       "      <td>56000.000000</td>\n",
       "      <td>43.000000</td>\n",
       "      <td>4.000000</td>\n",
       "      <td>192011.000000</td>\n",
       "      <td>2.000000</td>\n",
       "      <td>4.000000</td>\n",
       "      <td>0.000000</td>\n",
       "      <td>2.000000</td>\n",
       "      <td>50.000000</td>\n",
       "      <td>...</td>\n",
       "      <td>45.000000</td>\n",
       "      <td>2.000000</td>\n",
       "      <td>2.000000</td>\n",
       "      <td>19.000000</td>\n",
       "      <td>0.000000</td>\n",
       "      <td>1.000000</td>\n",
       "      <td>1.000000</td>\n",
       "      <td>4.000000</td>\n",
       "      <td>1.000000</td>\n",
       "      <td>38900.000000</td>\n",
       "    </tr>\n",
       "    <tr>\n",
       "      <th>max</th>\n",
       "      <td>9750.000000</td>\n",
       "      <td>200000.000000</td>\n",
       "      <td>46.000000</td>\n",
       "      <td>15.000000</td>\n",
       "      <td>978808.000000</td>\n",
       "      <td>3.000000</td>\n",
       "      <td>15.000000</td>\n",
       "      <td>5.000000</td>\n",
       "      <td>9.000000</td>\n",
       "      <td>74.000000</td>\n",
       "      <td>...</td>\n",
       "      <td>99.000000</td>\n",
       "      <td>2.000000</td>\n",
       "      <td>6.000000</td>\n",
       "      <td>23.000000</td>\n",
       "      <td>4.000000</td>\n",
       "      <td>3.000000</td>\n",
       "      <td>11.000000</td>\n",
       "      <td>9.000000</td>\n",
       "      <td>12.000000</td>\n",
       "      <td>79600.000000</td>\n",
       "    </tr>\n",
       "  </tbody>\n",
       "</table>\n",
       "<p>8 rows × 28 columns</p>\n",
       "</div>"
      ],
      "text/plain": [
       "            peioocc        ern_val         a_hga      h_numper       marsupwt  \\\n",
       "count  61183.000000   61183.000000  61183.000000  61183.000000   61183.000000   \n",
       "mean    4255.948221   44751.055996     40.534397      3.245297  149886.521207   \n",
       "std     2724.140091   31299.604264      2.624424      1.518794   95214.698074   \n",
       "min       10.000000    5002.000000     31.000000      1.000000    9281.000000   \n",
       "25%     2040.000000   24000.000000     39.000000      2.000000   74393.000000   \n",
       "50%     4600.000000   36000.000000     40.000000      3.000000  143691.000000   \n",
       "75%     6200.000000   56000.000000     43.000000      4.000000  192011.000000   \n",
       "max     9750.000000  200000.000000     46.000000     15.000000  978808.000000   \n",
       "\n",
       "              fkind      fpersons        fownu6       fownu18         a_age  \\\n",
       "count  61183.000000  61183.000000  61183.000000  61183.000000  61183.000000   \n",
       "mean       1.497295      2.969632      0.253518      0.872890     41.618097   \n",
       "std        0.767943      1.514456      0.575517      1.100923     11.466519   \n",
       "min        1.000000      1.000000      0.000000      0.000000     18.000000   \n",
       "25%        1.000000      2.000000      0.000000      0.000000     33.000000   \n",
       "50%        1.000000      3.000000      0.000000      0.000000     42.000000   \n",
       "75%        2.000000      4.000000      0.000000      2.000000     50.000000   \n",
       "max        3.000000     15.000000      5.000000      9.000000     74.000000   \n",
       "\n",
       "           ...              hrswk          ptyn          ljcw        wemocg  \\\n",
       "count      ...       61183.000000  61183.000000  61183.000000  61183.000000   \n",
       "mean       ...          43.817368      1.901427      1.793734     12.526094   \n",
       "std        ...           8.432395      0.359212      1.519312      7.101677   \n",
       "min        ...           1.000000      0.000000      1.000000      1.000000   \n",
       "25%        ...          40.000000      2.000000      1.000000      6.000000   \n",
       "50%        ...          40.000000      2.000000      1.000000     15.000000   \n",
       "75%        ...          45.000000      2.000000      2.000000     19.000000   \n",
       "max        ...          99.000000      2.000000      6.000000     23.000000   \n",
       "\n",
       "           mig_cbst       migsame       hnumfam        h_type      h_livqrt  \\\n",
       "count  61183.000000  61183.000000  61183.000000  61183.000000  61183.000000   \n",
       "mean       0.136786      1.114591      1.221156      2.353660      1.173905   \n",
       "std        0.420111      0.326286      0.554159      2.088132      0.842173   \n",
       "min        0.000000      1.000000      1.000000      1.000000      1.000000   \n",
       "25%        0.000000      1.000000      1.000000      1.000000      1.000000   \n",
       "50%        0.000000      1.000000      1.000000      1.000000      1.000000   \n",
       "75%        0.000000      1.000000      1.000000      4.000000      1.000000   \n",
       "max        4.000000      3.000000     11.000000      9.000000     12.000000   \n",
       "\n",
       "             gtcbsa  \n",
       "count  61183.000000  \n",
       "mean   25981.964925  \n",
       "std    20357.669180  \n",
       "min        0.000000  \n",
       "25%    10420.000000  \n",
       "50%    27900.000000  \n",
       "75%    38900.000000  \n",
       "max    79600.000000  \n",
       "\n",
       "[8 rows x 28 columns]"
      ]
     },
     "execution_count": 5,
     "metadata": {},
     "output_type": "execute_result"
    }
   ],
   "source": [
    "# Examining the dataset\n",
    "features_df.describe()"
   ]
  },
  {
   "cell_type": "code",
   "execution_count": 6,
   "metadata": {},
   "outputs": [
    {
     "name": "stdout",
     "output_type": "stream",
     "text": [
      "True class to Flase class ratio = 0.4248\n"
     ]
    }
   ],
   "source": [
    "features_list.remove('ern_val')\n",
    "X = features_df[features_list]\n",
    "Y = ((features_df['ern_val'] > 40000).values)\n",
    "ratio=sum(features_df['ern_val'] > 40000)/len(features_df['ern_val'])\n",
    "print('True class to Flase class ratio = {:2.4f}'.format(ratio))"
   ]
  },
  {
   "cell_type": "markdown",
   "metadata": {},
   "source": [
    "Splitting Train/Test"
   ]
  },
  {
   "cell_type": "code",
   "execution_count": 7,
   "metadata": {},
   "outputs": [],
   "source": [
    "from sklearn.model_selection import train_test_split\n",
    "X_train, X_test, Y_train, Y_test = train_test_split(X, Y, test_size=0.15, random_state=2)"
   ]
  },
  {
   "cell_type": "markdown",
   "metadata": {},
   "source": [
    "Extracting sample weights from the data "
   ]
  },
  {
   "cell_type": "code",
   "execution_count": 8,
   "metadata": {},
   "outputs": [],
   "source": [
    "weights = X_train['marsupwt']\n",
    "X_train = X_train.drop('marsupwt',axis=1)\n",
    "X_test = X_test.drop('marsupwt', axis=1)"
   ]
  },
  {
   "cell_type": "markdown",
   "metadata": {},
   "source": [
    "Trying a desicsion tree classifier"
   ]
  },
  {
   "cell_type": "code",
   "execution_count": 9,
   "metadata": {},
   "outputs": [
    {
     "name": "stdout",
     "output_type": "stream",
     "text": [
      "0.751252996295\n"
     ]
    }
   ],
   "source": [
    "from sklearn.tree import DecisionTreeClassifier\n",
    "_=model = DecisionTreeClassifier(max_depth=8)\n",
    "_=model.fit(X_train, Y_train, sample_weight=weights)\n",
    "print(model.score(X_test, Y_test))"
   ]
  },
  {
   "cell_type": "markdown",
   "metadata": {},
   "source": [
    "While the score is not terribly bad, the confusion matrix have lots of false neatives"
   ]
  },
  {
   "cell_type": "code",
   "execution_count": 10,
   "metadata": {},
   "outputs": [
    {
     "name": "stdout",
     "output_type": "stream",
     "text": [
      "[[4128 1075]\n",
      " [1208 2767]]\n",
      "0.707944224127\n"
     ]
    }
   ],
   "source": [
    "import sklearn.metrics as met\n",
    "Y_pred = model.predict(X_test)\n",
    "print(met.confusion_matrix(Y_test,Y_pred, labels=[0,1]))\n",
    "print(met.f1_score(Y_test,Y_pred))"
   ]
  },
  {
   "cell_type": "markdown",
   "metadata": {},
   "source": [
    "Trying to gradient boosting classifier"
   ]
  },
  {
   "cell_type": "code",
   "execution_count": 11,
   "metadata": {},
   "outputs": [
    {
     "name": "stdout",
     "output_type": "stream",
     "text": [
      "0.776639790804\n"
     ]
    }
   ],
   "source": [
    "#from sklearn.ensemble import AdaBoostClassifier\n",
    "from sklearn.ensemble import GradientBoostingClassifier\n",
    "seed = 2\n",
    "num_trees = 300\n",
    "model = GradientBoostingClassifier(n_estimators=num_trees, random_state=seed)\n",
    "_=model.fit(X_train, Y_train, sample_weight=weights)\n",
    "print(model.score(X_test, Y_test))"
   ]
  },
  {
   "cell_type": "code",
   "execution_count": 12,
   "metadata": {},
   "outputs": [
    {
     "name": "stdout",
     "output_type": "stream",
     "text": [
      "[[4292  911]\n",
      " [1139 2836]]\n",
      "0.734524734525\n"
     ]
    }
   ],
   "source": [
    "Y_pred = model.predict(X_test)\n",
    "print(met.confusion_matrix(Y_test,Y_pred, labels=[0,1]))\n",
    "print(met.f1_score(Y_test,Y_pred))"
   ]
  },
  {
   "cell_type": "code",
   "execution_count": 13,
   "metadata": {},
   "outputs": [],
   "source": [
    "Y_score = model.decision_function(X_test)\n",
    "fpr, tpr, _ = met.roc_curve(Y_test, Y_score)"
   ]
  },
  {
   "cell_type": "markdown",
   "metadata": {},
   "source": [
    "#### ROC and Learning curves"
   ]
  },
  {
   "cell_type": "code",
   "execution_count": 14,
   "metadata": {},
   "outputs": [
    {
     "data": {
      "image/png": "[encoded data removed]",
      "text/plain": [
       "<matplotlib.figure.Figure at 0x1a1e7dd160>"
      ]
     },
     "metadata": {},
     "output_type": "display_data"
    }
   ],
   "source": [
    "plt.figure()\n",
    "lw = 2\n",
    "auc = met.auc(fpr, tpr)\n",
    "plt.plot(fpr, tpr, color='darkorange',\n",
    "         lw=lw, label='ROC curve (area = {:0.2f})'.format(auc))\n",
    "plt.plot([0, 1], [0, 1], color='navy', lw=lw, linestyle='--')\n",
    "plt.xlim([0.0, 1.0])\n",
    "plt.ylim([0.0, 1.05])\n",
    "plt.xlabel('False Positive Rate')\n",
    "plt.ylabel('True Positive Rate')\n",
    "plt.title('ROC')\n",
    "plt.legend(loc=\"lower right\")\n",
    "plt.show()"
   ]
  },
  {
   "cell_type": "code",
   "execution_count": 15,
   "metadata": {},
   "outputs": [],
   "source": [
    "from sklearn.model_selection import learning_curve"
   ]
  },
  {
   "cell_type": "code",
   "execution_count": 16,
   "metadata": {},
   "outputs": [],
   "source": [
    "train_sizes, train_scores, test_scores = learning_curve(\n",
    "        model, X, Y, n_jobs=2, train_sizes=np.linspace(.05, 1.0, 10))"
   ]
  },
  {
   "cell_type": "code",
   "execution_count": 17,
   "metadata": {},
   "outputs": [
    {
     "data": {
      "image/png": "[encoded data removed]",
      "text/plain": [
       "<matplotlib.figure.Figure at 0x111912da0>"
      ]
     },
     "metadata": {},
     "output_type": "display_data"
    }
   ],
   "source": [
    "train_scores_mean = np.mean(train_scores, axis=1)\n",
    "train_scores_std = np.std(train_scores, axis=1)\n",
    "test_scores_mean = np.mean(test_scores, axis=1)\n",
    "test_scores_std = np.std(test_scores, axis=1)\n",
    "plt.xlabel(\"Training examples\")\n",
    "plt.ylabel(\"Score\")\n",
    "plt.fill_between(train_sizes, train_scores_mean - train_scores_std,\n",
    "                     train_scores_mean + train_scores_std, alpha=0.1,\n",
    "                     color=\"r\")\n",
    "plt.fill_between(train_sizes, test_scores_mean - test_scores_std,\n",
    "                     test_scores_mean + test_scores_std, alpha=0.1, color=\"g\")\n",
    "plt.plot(train_sizes, train_scores_mean, 'o-', color=\"r\",\n",
    "             label=\"Training score\")\n",
    "plt.plot(train_sizes, test_scores_mean, 'o-', color=\"g\",\n",
    "             label=\"Cross-validation score\")\n",
    "\n",
    "plt.legend(loc=\"best\")\n",
    "plt.show()"
   ]
  },
  {
   "cell_type": "markdown",
   "metadata": {},
   "source": [
    "### Some more classifiers\n",
    "Trying a begging classifier"
   ]
  },
  {
   "cell_type": "code",
   "execution_count": 18,
   "metadata": {},
   "outputs": [
    {
     "name": "stdout",
     "output_type": "stream",
     "text": [
      "0.764109827849\n"
     ]
    }
   ],
   "source": [
    "from sklearn.ensemble import BaggingClassifier\n",
    "model = BaggingClassifier(n_estimators=num_trees, random_state=seed)\n",
    "_=model.fit(X_train, Y_train, sample_weight=weights)\n",
    "print(model.score(X_test, Y_test))"
   ]
  },
  {
   "cell_type": "code",
   "execution_count": 19,
   "metadata": {},
   "outputs": [
    {
     "name": "stdout",
     "output_type": "stream",
     "text": [
      "[[4249  954]\n",
      " [1211 2764]]\n",
      "0.71857532822\n"
     ]
    }
   ],
   "source": [
    "Y_pred = model.predict(X_test)\n",
    "print(met.confusion_matrix(Y_test,Y_pred, labels=[0,1]))\n",
    "print(met.f1_score(Y_test,Y_pred))"
   ]
  },
  {
   "cell_type": "markdown",
   "metadata": {},
   "source": [
    "Finally, trying a simple naive Bayes  and logistic regression classifiers"
   ]
  },
  {
   "cell_type": "code",
   "execution_count": 20,
   "metadata": {},
   "outputs": [
    {
     "data": {
      "text/plain": [
       "0.68620614512965783"
      ]
     },
     "execution_count": 20,
     "metadata": {},
     "output_type": "execute_result"
    }
   ],
   "source": [
    "from sklearn.naive_bayes import GaussianNB\n",
    "model = GaussianNB()\n",
    "model.fit(X_train, Y_train,sample_weight=weights)\n",
    "model.score(X_test, Y_test)"
   ]
  },
  {
   "cell_type": "code",
   "execution_count": 21,
   "metadata": {},
   "outputs": [
    {
     "data": {
      "text/plain": [
       "array([[3466, 1737],\n",
       "       [1143, 2832]])"
      ]
     },
     "execution_count": 21,
     "metadata": {},
     "output_type": "execute_result"
    }
   ],
   "source": [
    "Y_pred = model.predict(X_test)\n",
    "met.confusion_matrix(Y_test,Y_pred, labels=[0,1])"
   ]
  },
  {
   "cell_type": "markdown",
   "metadata": {},
   "source": [
    "Naive Bayes seems to get less false positives (though it's worse overall), so maybe some hybrid approch can improve the results"
   ]
  },
  {
   "cell_type": "code",
   "execution_count": 22,
   "metadata": {},
   "outputs": [
    {
     "name": "stdout",
     "output_type": "stream",
     "text": [
      "0.709631728045\n"
     ]
    }
   ],
   "source": [
    "from sklearn.linear_model import LogisticRegression\n",
    "model = LogisticRegression()\n",
    "_=model.fit(X_train, Y_train, sample_weight=weights)\n",
    "print(model.score(X_test, Y_test))"
   ]
  },
  {
   "cell_type": "code",
   "execution_count": 23,
   "metadata": {},
   "outputs": [
    {
     "data": {
      "text/plain": [
       "array([[4241,  962],\n",
       "       [1703, 2272]])"
      ]
     },
     "execution_count": 23,
     "metadata": {},
     "output_type": "execute_result"
    }
   ],
   "source": [
    "Y_pred = model.predict(X_test)\n",
    "met.confusion_matrix(Y_test,Y_pred, labels=[0,1])"
   ]
  },
  {
   "cell_type": "markdown",
   "metadata": {},
   "source": [
    "Suprisingly SVM is the worst of all"
   ]
  },
  {
   "cell_type": "markdown",
   "metadata": {},
   "source": [
    "from sklearn.svm import SVC\n",
    "model = SVC()\n",
    "_=model.fit(X_train, Y_train, sample_weight=weights)\n",
    "print(model.score(X_test, y_test))"
   ]
  },
  {
   "cell_type": "code",
   "execution_count": null,
   "metadata": {},
   "outputs": [],
   "source": [
    "\n"
   ]
  },
  {
   "cell_type": "code",
   "execution_count": null,
   "metadata": {},
   "outputs": [],
   "source": []
  }
 ],
 "metadata": {
  "kernelspec": {
   "display_name": "Python 3",
   "language": "python",
   "name": "python3"
  },
  "language_info": {
   "codemirror_mode": {
    "name": "ipython",
    "version": 3
   },
   "file_extension": ".py",
   "mimetype": "text/x-python",
   "name": "python",
   "nbconvert_exporter": "python",
   "pygments_lexer": "ipython3",
   "version": "3.6.4"
  },
  "toc": {
   "base_numbering": 1,
   "nav_menu": {},
   "number_sections": true,
   "sideBar": true,
   "skip_h1_title": false,
   "title_cell": "Table of Contents",
   "title_sidebar": "Contents",
   "toc_cell": false,
   "toc_position": {},
   "toc_section_display": true,
   "toc_window_display": false
  },
  "varInspector": {
   "cols": {
    "lenName": 16,
    "lenType": 16,
    "lenVar": 40
   },
   "kernels_config": {
    "python": {
     "delete_cmd_postfix": "",
     "delete_cmd_prefix": "del ",
     "library": "var_list.py",
     "varRefreshCmd": "print(var_dic_list())"
    },
    "r": {
     "delete_cmd_postfix": ") ",
     "delete_cmd_prefix": "rm(",
     "library": "var_list.r",
     "varRefreshCmd": "cat(var_dic_list()) "
    }
   },
   "types_to_exclude": [
    "module",
    "function",
    "builtin_function_or_method",
    "instance",
    "_Feature"
   ],
   "window_display": false
  }
 },
 "nbformat": 4,
 "nbformat_minor": 2
}
