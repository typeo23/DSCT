{
 "cells": [
  {
   "cell_type": "code",
   "execution_count": 2,
   "metadata": {},
   "outputs": [],
   "source": [
    "import numpy as np\n",
    "import pandas as pd\n",
    "import seaborn as sns\n",
    "import matplotlib.pyplot as plt"
   ]
  },
  {
   "cell_type": "code",
   "execution_count": 3,
   "metadata": {},
   "outputs": [],
   "source": [
    "df= pd.read_csv('data/income_data_2017_clean_zeros.csv.bz2', compression='bz2', index_col='peridnum')"
   ]
  },
  {
   "cell_type": "markdown",
   "metadata": {},
   "source": [
    "List of features to consider"
   ]
  },
  {
   "cell_type": "code",
   "execution_count": 1,
   "metadata": {},
   "outputs": [],
   "source": [
    "features_list = ['peioocc','ern_val', 'a_hga', 'H_NUMPER', 'MARSUPWT', 'FKIND', 'FPERSONS', \n",
    "                 'FOWNU6', 'FOWNU18', 'a_age']\n",
    "features_list = [str.lower(v) for v in features_list]"
   ]
  },
  {
   "cell_type": "markdown",
   "metadata": {},
   "source": [
    "1. Filtering for individuals eraning between \\$1,000 and \\$200,000 per year, \n",
    "2. Getting the features from the DataFrame, and droping nan's"
   ]
  },
  {
   "cell_type": "code",
   "execution_count": 5,
   "metadata": {},
   "outputs": [],
   "source": [
    "df2 = df[(df['ern_val'] > 10000) & (df['ern_val'] < 200000) &(df['a_hrs1'] >= 40)]\n",
    "features_df = df2.loc[:,features_list]\n",
    "features_df = features_df.dropna()"
   ]
  },
  {
   "cell_type": "code",
   "execution_count": 6,
   "metadata": {},
   "outputs": [
    {
     "data": {
      "text/html": [
       "<div>\n",
       "<style>\n",
       "    .dataframe thead tr:only-child th {\n",
       "        text-align: right;\n",
       "    }\n",
       "\n",
       "    .dataframe thead th {\n",
       "        text-align: left;\n",
       "    }\n",
       "\n",
       "    .dataframe tbody tr th {\n",
       "        vertical-align: top;\n",
       "    }\n",
       "</style>\n",
       "<table border=\"1\" class=\"dataframe\">\n",
       "  <thead>\n",
       "    <tr style=\"text-align: right;\">\n",
       "      <th></th>\n",
       "      <th>peioocc</th>\n",
       "      <th>ern_val</th>\n",
       "      <th>a_hga</th>\n",
       "      <th>h_numper</th>\n",
       "      <th>marsupwt</th>\n",
       "      <th>fkind</th>\n",
       "      <th>fpersons</th>\n",
       "      <th>fownu6</th>\n",
       "      <th>fownu18</th>\n",
       "      <th>a_age</th>\n",
       "    </tr>\n",
       "  </thead>\n",
       "  <tbody>\n",
       "    <tr>\n",
       "      <th>count</th>\n",
       "      <td>58439.000000</td>\n",
       "      <td>58439.000000</td>\n",
       "      <td>58439.000000</td>\n",
       "      <td>58439.000000</td>\n",
       "      <td>58439.000000</td>\n",
       "      <td>58439.000000</td>\n",
       "      <td>58439.000000</td>\n",
       "      <td>58439.000000</td>\n",
       "      <td>58439.000000</td>\n",
       "      <td>58439.000000</td>\n",
       "    </tr>\n",
       "    <tr>\n",
       "      <th>mean</th>\n",
       "      <td>4233.423228</td>\n",
       "      <td>45706.656616</td>\n",
       "      <td>40.575249</td>\n",
       "      <td>3.237547</td>\n",
       "      <td>149642.294906</td>\n",
       "      <td>1.488732</td>\n",
       "      <td>2.970876</td>\n",
       "      <td>0.254282</td>\n",
       "      <td>0.876196</td>\n",
       "      <td>41.845035</td>\n",
       "    </tr>\n",
       "    <tr>\n",
       "      <th>std</th>\n",
       "      <td>2730.958227</td>\n",
       "      <td>29552.755455</td>\n",
       "      <td>2.608772</td>\n",
       "      <td>1.513848</td>\n",
       "      <td>94971.419929</td>\n",
       "      <td>0.762995</td>\n",
       "      <td>1.509773</td>\n",
       "      <td>0.576075</td>\n",
       "      <td>1.102357</td>\n",
       "      <td>11.321998</td>\n",
       "    </tr>\n",
       "    <tr>\n",
       "      <th>min</th>\n",
       "      <td>10.000000</td>\n",
       "      <td>10002.000000</td>\n",
       "      <td>31.000000</td>\n",
       "      <td>1.000000</td>\n",
       "      <td>9281.000000</td>\n",
       "      <td>1.000000</td>\n",
       "      <td>1.000000</td>\n",
       "      <td>0.000000</td>\n",
       "      <td>0.000000</td>\n",
       "      <td>18.000000</td>\n",
       "    </tr>\n",
       "    <tr>\n",
       "      <th>25%</th>\n",
       "      <td>2010.000000</td>\n",
       "      <td>25000.000000</td>\n",
       "      <td>39.000000</td>\n",
       "      <td>2.000000</td>\n",
       "      <td>74047.000000</td>\n",
       "      <td>1.000000</td>\n",
       "      <td>2.000000</td>\n",
       "      <td>0.000000</td>\n",
       "      <td>0.000000</td>\n",
       "      <td>33.000000</td>\n",
       "    </tr>\n",
       "    <tr>\n",
       "      <th>50%</th>\n",
       "      <td>4600.000000</td>\n",
       "      <td>38000.000000</td>\n",
       "      <td>40.000000</td>\n",
       "      <td>3.000000</td>\n",
       "      <td>143627.000000</td>\n",
       "      <td>1.000000</td>\n",
       "      <td>3.000000</td>\n",
       "      <td>0.000000</td>\n",
       "      <td>0.000000</td>\n",
       "      <td>42.000000</td>\n",
       "    </tr>\n",
       "    <tr>\n",
       "      <th>75%</th>\n",
       "      <td>6200.000000</td>\n",
       "      <td>57057.500000</td>\n",
       "      <td>43.000000</td>\n",
       "      <td>4.000000</td>\n",
       "      <td>191577.000000</td>\n",
       "      <td>2.000000</td>\n",
       "      <td>4.000000</td>\n",
       "      <td>0.000000</td>\n",
       "      <td>2.000000</td>\n",
       "      <td>50.000000</td>\n",
       "    </tr>\n",
       "    <tr>\n",
       "      <th>max</th>\n",
       "      <td>9750.000000</td>\n",
       "      <td>199000.000000</td>\n",
       "      <td>46.000000</td>\n",
       "      <td>15.000000</td>\n",
       "      <td>978808.000000</td>\n",
       "      <td>3.000000</td>\n",
       "      <td>15.000000</td>\n",
       "      <td>5.000000</td>\n",
       "      <td>9.000000</td>\n",
       "      <td>74.000000</td>\n",
       "    </tr>\n",
       "  </tbody>\n",
       "</table>\n",
       "</div>"
      ],
      "text/plain": [
       "            peioocc        ern_val         a_hga      h_numper       marsupwt  \\\n",
       "count  58439.000000   58439.000000  58439.000000  58439.000000   58439.000000   \n",
       "mean    4233.423228   45706.656616     40.575249      3.237547  149642.294906   \n",
       "std     2730.958227   29552.755455      2.608772      1.513848   94971.419929   \n",
       "min       10.000000   10002.000000     31.000000      1.000000    9281.000000   \n",
       "25%     2010.000000   25000.000000     39.000000      2.000000   74047.000000   \n",
       "50%     4600.000000   38000.000000     40.000000      3.000000  143627.000000   \n",
       "75%     6200.000000   57057.500000     43.000000      4.000000  191577.000000   \n",
       "max     9750.000000  199000.000000     46.000000     15.000000  978808.000000   \n",
       "\n",
       "              fkind      fpersons        fownu6       fownu18         a_age  \n",
       "count  58439.000000  58439.000000  58439.000000  58439.000000  58439.000000  \n",
       "mean       1.488732      2.970876      0.254282      0.876196     41.845035  \n",
       "std        0.762995      1.509773      0.576075      1.102357     11.321998  \n",
       "min        1.000000      1.000000      0.000000      0.000000     18.000000  \n",
       "25%        1.000000      2.000000      0.000000      0.000000     33.000000  \n",
       "50%        1.000000      3.000000      0.000000      0.000000     42.000000  \n",
       "75%        2.000000      4.000000      0.000000      2.000000     50.000000  \n",
       "max        3.000000     15.000000      5.000000      9.000000     74.000000  "
      ]
     },
     "execution_count": 6,
     "metadata": {},
     "output_type": "execute_result"
    }
   ],
   "source": [
    "# Examining the dataset\n",
    "features_df.describe()"
   ]
  },
  {
   "cell_type": "code",
   "execution_count": 7,
   "metadata": {},
   "outputs": [],
   "source": [
    "features_list.remove('ern_val')\n",
    "X = features_df[features_list]\n",
    "Y = ((features_df['ern_val'] > 55000).values)"
   ]
  },
  {
   "cell_type": "markdown",
   "metadata": {},
   "source": [
    "Splitting Train/Test"
   ]
  },
  {
   "cell_type": "code",
   "execution_count": 10,
   "metadata": {},
   "outputs": [],
   "source": [
    "from sklearn.model_selection import train_test_split\n",
    "X_train, X_test, Y_train, Y_test = train_test_split(X, Y, test_size=0.5, random_state=0)"
   ]
  },
  {
   "cell_type": "markdown",
   "metadata": {},
   "source": [
    "Extracting sample weights from the data "
   ]
  },
  {
   "cell_type": "code",
   "execution_count": 11,
   "metadata": {},
   "outputs": [],
   "source": [
    "weights = X_train['marsupwt']\n",
    "X_train = X_train.drop('marsupwt',axis=1)\n",
    "X_test = X_test.drop('marsupwt', axis=1)"
   ]
  },
  {
   "cell_type": "markdown",
   "metadata": {},
   "source": [
    "Trying a desicsion tree classifier"
   ]
  },
  {
   "cell_type": "code",
   "execution_count": 23,
   "metadata": {},
   "outputs": [
    {
     "name": "stdout",
     "output_type": "stream",
     "text": [
      "0.796064339493\n"
     ]
    }
   ],
   "source": [
    "from sklearn.tree import DecisionTreeClassifier\n",
    "_=model = DecisionTreeClassifier(max_depth=8)\n",
    "_=model.fit(X_train, y_train, sample_weight=weights)\n",
    "print(model.score(X_test, y_test))"
   ]
  },
  {
   "cell_type": "markdown",
   "metadata": {},
   "source": [
    "While the score is not terribly bad, the confusion matrix whows a different picture"
   ]
  },
  {
   "cell_type": "code",
   "execution_count": 24,
   "metadata": {},
   "outputs": [
    {
     "data": {
      "text/plain": [
       "array([[20002,  1665],\n",
       "       [ 4294,  3259]])"
      ]
     },
     "execution_count": 24,
     "metadata": {},
     "output_type": "execute_result"
    }
   ],
   "source": [
    "import sklearn.metrics as met\n",
    "Y_pred = model.predict(X_test)\n",
    "met.confusion_matrix(y_test,Y_pred, labels=[0,1])"
   ]
  },
  {
   "cell_type": "markdown",
   "metadata": {},
   "source": [
    "Trying to adaptive boosting classifier"
   ]
  },
  {
   "cell_type": "code",
   "execution_count": 28,
   "metadata": {},
   "outputs": [
    {
     "name": "stdout",
     "output_type": "stream",
     "text": [
      "0.798323066393\n"
     ]
    }
   ],
   "source": [
    "from sklearn.ensemble import AdaBoostClassifier\n",
    "seed = 7\n",
    "num_trees = 50\n",
    "_model = AdaBoostClassifier(n_estimators=num_trees, random_state=seed)\n",
    "_=model.fit(X_train, y_train, sample_weight=weights)\n",
    "print(model.score(X_test, y_test))"
   ]
  },
  {
   "cell_type": "code",
   "execution_count": 29,
   "metadata": {},
   "outputs": [
    {
     "data": {
      "text/plain": [
       "array([[20016,  1651],\n",
       "       [ 4242,  3311]])"
      ]
     },
     "execution_count": 29,
     "metadata": {},
     "output_type": "execute_result"
    }
   ],
   "source": [
    "Y_pred = model.predict(X_test)\n",
    "met.confusion_matrix(y_test,Y_pred, labels=[0,1])"
   ]
  },
  {
   "cell_type": "markdown",
   "metadata": {},
   "source": [
    "A bit better, but still problematic,\n",
    "Trying a begging classifier"
   ]
  },
  {
   "cell_type": "code",
   "execution_count": 31,
   "metadata": {},
   "outputs": [
    {
     "name": "stdout",
     "output_type": "stream",
     "text": [
      "0.798323066393\n"
     ]
    }
   ],
   "source": [
    "from sklearn.ensemble import BaggingClassifier\n",
    "_model = BaggingClassifier(n_estimators=num_trees, random_state=seed)\n",
    "_=model.fit(X_train, y_train, sample_weight=weights)\n",
    "print(model.score(X_test, y_test))"
   ]
  },
  {
   "cell_type": "code",
   "execution_count": 32,
   "metadata": {},
   "outputs": [
    {
     "data": {
      "text/plain": [
       "array([[20016,  1651],\n",
       "       [ 4242,  3311]])"
      ]
     },
     "execution_count": 32,
     "metadata": {},
     "output_type": "execute_result"
    }
   ],
   "source": [
    "Y_pred = model.predict(X_test)\n",
    "met.confusion_matrix(y_test,Y_pred, labels=[0,1])"
   ]
  },
  {
   "cell_type": "markdown",
   "metadata": {},
   "source": [
    "Finally, trying a simple naive Bayes  and logistic regression classifiers"
   ]
  },
  {
   "cell_type": "code",
   "execution_count": 35,
   "metadata": {},
   "outputs": [
    {
     "data": {
      "text/plain": [
       "0.76054072553045859"
      ]
     },
     "execution_count": 35,
     "metadata": {},
     "output_type": "execute_result"
    }
   ],
   "source": [
    "from sklearn.naive_bayes import GaussianNB\n",
    "model = GaussianNB()\n",
    "model.fit(X_train, y_train,sample_weight=weights)\n",
    "model.score(X_test, y_test)"
   ]
  },
  {
   "cell_type": "code",
   "execution_count": 36,
   "metadata": {},
   "outputs": [
    {
     "data": {
      "text/plain": [
       "array([[18379,  3288],\n",
       "       [ 3709,  3844]])"
      ]
     },
     "execution_count": 36,
     "metadata": {},
     "output_type": "execute_result"
    }
   ],
   "source": [
    "Y_pred = model.predict(X_test)\n",
    "met.confusion_matrix(y_test,Y_pred, labels=[0,1])"
   ]
  },
  {
   "cell_type": "code",
   "execution_count": 41,
   "metadata": {},
   "outputs": [
    {
     "name": "stdout",
     "output_type": "stream",
     "text": [
      "0.756570841889\n"
     ]
    }
   ],
   "source": [
    "from sklearn.linear_model import LogisticRegression\n",
    "model = LogisticRegression()\n",
    "_=model.fit(X_train, y_train, sample_weight=weights)\n",
    "print(model.score(X_test, y_test))"
   ]
  },
  {
   "cell_type": "markdown",
   "metadata": {},
   "source": [
    "Suprisingly SVM is the worst of all"
   ]
  },
  {
   "cell_type": "code",
   "execution_count": 42,
   "metadata": {},
   "outputs": [
    {
     "name": "stdout",
     "output_type": "stream",
     "text": [
      "0.737885010267\n"
     ]
    }
   ],
   "source": [
    "from sklearn.svm import SVC\n",
    "model = SVC()\n",
    "_=model.fit(X_train, y_train, sample_weight=weights)\n",
    "print(model.score(X_test, y_test))"
   ]
  }
 ],
 "metadata": {
  "kernelspec": {
   "display_name": "Python 3",
   "language": "python",
   "name": "python3"
  },
  "language_info": {
   "codemirror_mode": {
    "name": "ipython",
    "version": 3
   },
   "file_extension": ".py",
   "mimetype": "text/x-python",
   "name": "python",
   "nbconvert_exporter": "python",
   "pygments_lexer": "ipython3",
   "version": "3.6.4"
  }
 },
 "nbformat": 4,
 "nbformat_minor": 2
}
