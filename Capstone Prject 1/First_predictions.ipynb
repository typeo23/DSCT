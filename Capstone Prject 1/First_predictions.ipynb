{
 "cells": [
  {
   "cell_type": "code",
   "execution_count": 1,
   "metadata": {},
   "outputs": [],
   "source": [
    "import numpy as np\n",
    "import pandas as pd\n",
    "import seaborn as sns\n",
    "import matplotlib.pyplot as plt"
   ]
  },
  {
   "cell_type": "code",
   "execution_count": 2,
   "metadata": {},
   "outputs": [],
   "source": [
    "df= pd.read_csv('data/income_data_2017_clean_zeros.csv.bz2', compression='bz2', index_col='peridnum')"
   ]
  },
  {
   "cell_type": "markdown",
   "metadata": {},
   "source": [
    "List of features to consider"
   ]
  },
  {
   "cell_type": "code",
   "execution_count": 3,
   "metadata": {},
   "outputs": [],
   "source": [
    "features_list = ['peioocc','ern_val', 'a_hga', 'H_NUMPER', 'MARSUPWT', 'FKIND', 'FPERSONS', \n",
    "                 'FOWNU6', 'FOWNU18', 'a_age']\n",
    "features_list = [str.lower(v) for v in features_list]"
   ]
  },
  {
   "cell_type": "markdown",
   "metadata": {},
   "source": [
    "1. Filtering for individuals eraning between \\$1,000 and \\$200,000 per year, \n",
    "2. Getting the features from the DataFrame, and droping nan's"
   ]
  },
  {
   "cell_type": "code",
   "execution_count": 4,
   "metadata": {},
   "outputs": [],
   "source": [
    "df2 = df[(df['ern_val'] > 8000) & (df['ern_val'] < 250000) &(df['a_hrs1'] >= 40)]\n",
    "features_df = df2.loc[:,features_list]\n",
    "features_df = features_df.dropna()"
   ]
  },
  {
   "cell_type": "code",
   "execution_count": 5,
   "metadata": {},
   "outputs": [
    {
     "data": {
      "text/html": [
       "<div>\n",
       "<style>\n",
       "    .dataframe thead tr:only-child th {\n",
       "        text-align: right;\n",
       "    }\n",
       "\n",
       "    .dataframe thead th {\n",
       "        text-align: left;\n",
       "    }\n",
       "\n",
       "    .dataframe tbody tr th {\n",
       "        vertical-align: top;\n",
       "    }\n",
       "</style>\n",
       "<table border=\"1\" class=\"dataframe\">\n",
       "  <thead>\n",
       "    <tr style=\"text-align: right;\">\n",
       "      <th></th>\n",
       "      <th>peioocc</th>\n",
       "      <th>ern_val</th>\n",
       "      <th>a_hga</th>\n",
       "      <th>h_numper</th>\n",
       "      <th>marsupwt</th>\n",
       "      <th>fkind</th>\n",
       "      <th>fpersons</th>\n",
       "      <th>fownu6</th>\n",
       "      <th>fownu18</th>\n",
       "      <th>a_age</th>\n",
       "    </tr>\n",
       "  </thead>\n",
       "  <tbody>\n",
       "    <tr>\n",
       "      <th>count</th>\n",
       "      <td>60045.000000</td>\n",
       "      <td>60045.000000</td>\n",
       "      <td>60045.000000</td>\n",
       "      <td>60045.000000</td>\n",
       "      <td>60045.00000</td>\n",
       "      <td>60045.000000</td>\n",
       "      <td>60045.000000</td>\n",
       "      <td>60045.000000</td>\n",
       "      <td>60045.000000</td>\n",
       "      <td>60045.000000</td>\n",
       "    </tr>\n",
       "    <tr>\n",
       "      <th>mean</th>\n",
       "      <td>4243.000583</td>\n",
       "      <td>45468.161845</td>\n",
       "      <td>40.554301</td>\n",
       "      <td>3.242568</td>\n",
       "      <td>149723.51115</td>\n",
       "      <td>1.492914</td>\n",
       "      <td>2.971055</td>\n",
       "      <td>0.254043</td>\n",
       "      <td>0.874877</td>\n",
       "      <td>41.733883</td>\n",
       "    </tr>\n",
       "    <tr>\n",
       "      <th>std</th>\n",
       "      <td>2727.607514</td>\n",
       "      <td>31153.957657</td>\n",
       "      <td>2.623450</td>\n",
       "      <td>1.516722</td>\n",
       "      <td>95081.60086</td>\n",
       "      <td>0.765620</td>\n",
       "      <td>1.511110</td>\n",
       "      <td>0.576198</td>\n",
       "      <td>1.101314</td>\n",
       "      <td>11.391952</td>\n",
       "    </tr>\n",
       "    <tr>\n",
       "      <th>min</th>\n",
       "      <td>10.000000</td>\n",
       "      <td>8001.000000</td>\n",
       "      <td>31.000000</td>\n",
       "      <td>1.000000</td>\n",
       "      <td>9281.00000</td>\n",
       "      <td>1.000000</td>\n",
       "      <td>1.000000</td>\n",
       "      <td>0.000000</td>\n",
       "      <td>0.000000</td>\n",
       "      <td>18.000000</td>\n",
       "    </tr>\n",
       "    <tr>\n",
       "      <th>25%</th>\n",
       "      <td>2020.000000</td>\n",
       "      <td>24960.000000</td>\n",
       "      <td>39.000000</td>\n",
       "      <td>2.000000</td>\n",
       "      <td>74180.00000</td>\n",
       "      <td>1.000000</td>\n",
       "      <td>2.000000</td>\n",
       "      <td>0.000000</td>\n",
       "      <td>0.000000</td>\n",
       "      <td>33.000000</td>\n",
       "    </tr>\n",
       "    <tr>\n",
       "      <th>50%</th>\n",
       "      <td>4600.000000</td>\n",
       "      <td>37239.000000</td>\n",
       "      <td>40.000000</td>\n",
       "      <td>3.000000</td>\n",
       "      <td>143622.00000</td>\n",
       "      <td>1.000000</td>\n",
       "      <td>3.000000</td>\n",
       "      <td>0.000000</td>\n",
       "      <td>0.000000</td>\n",
       "      <td>42.000000</td>\n",
       "    </tr>\n",
       "    <tr>\n",
       "      <th>75%</th>\n",
       "      <td>6200.000000</td>\n",
       "      <td>57000.000000</td>\n",
       "      <td>43.000000</td>\n",
       "      <td>4.000000</td>\n",
       "      <td>191769.00000</td>\n",
       "      <td>2.000000</td>\n",
       "      <td>4.000000</td>\n",
       "      <td>0.000000</td>\n",
       "      <td>2.000000</td>\n",
       "      <td>50.000000</td>\n",
       "    </tr>\n",
       "    <tr>\n",
       "      <th>max</th>\n",
       "      <td>9750.000000</td>\n",
       "      <td>200000.000000</td>\n",
       "      <td>46.000000</td>\n",
       "      <td>15.000000</td>\n",
       "      <td>978808.00000</td>\n",
       "      <td>3.000000</td>\n",
       "      <td>15.000000</td>\n",
       "      <td>5.000000</td>\n",
       "      <td>9.000000</td>\n",
       "      <td>74.000000</td>\n",
       "    </tr>\n",
       "  </tbody>\n",
       "</table>\n",
       "</div>"
      ],
      "text/plain": [
       "            peioocc        ern_val         a_hga      h_numper      marsupwt  \\\n",
       "count  60045.000000   60045.000000  60045.000000  60045.000000   60045.00000   \n",
       "mean    4243.000583   45468.161845     40.554301      3.242568  149723.51115   \n",
       "std     2727.607514   31153.957657      2.623450      1.516722   95081.60086   \n",
       "min       10.000000    8001.000000     31.000000      1.000000    9281.00000   \n",
       "25%     2020.000000   24960.000000     39.000000      2.000000   74180.00000   \n",
       "50%     4600.000000   37239.000000     40.000000      3.000000  143622.00000   \n",
       "75%     6200.000000   57000.000000     43.000000      4.000000  191769.00000   \n",
       "max     9750.000000  200000.000000     46.000000     15.000000  978808.00000   \n",
       "\n",
       "              fkind      fpersons        fownu6       fownu18         a_age  \n",
       "count  60045.000000  60045.000000  60045.000000  60045.000000  60045.000000  \n",
       "mean       1.492914      2.971055      0.254043      0.874877     41.733883  \n",
       "std        0.765620      1.511110      0.576198      1.101314     11.391952  \n",
       "min        1.000000      1.000000      0.000000      0.000000     18.000000  \n",
       "25%        1.000000      2.000000      0.000000      0.000000     33.000000  \n",
       "50%        1.000000      3.000000      0.000000      0.000000     42.000000  \n",
       "75%        2.000000      4.000000      0.000000      2.000000     50.000000  \n",
       "max        3.000000     15.000000      5.000000      9.000000     74.000000  "
      ]
     },
     "execution_count": 5,
     "metadata": {},
     "output_type": "execute_result"
    }
   ],
   "source": [
    "# Examining the dataset\n",
    "features_df.describe()"
   ]
  },
  {
   "cell_type": "code",
   "execution_count": 6,
   "metadata": {},
   "outputs": [
    {
     "name": "stdout",
     "output_type": "stream",
     "text": [
      "True class to Flase class ratio = 0.4328\n"
     ]
    }
   ],
   "source": [
    "features_list.remove('ern_val')\n",
    "X = features_df[features_list]\n",
    "Y = ((features_df['ern_val'] > 40000).values)\n",
    "ratio=sum(features_df['ern_val'] > 40000)/len(features_df['ern_val'])\n",
    "print('True class to Flase class ratio = {:2.4f}'.format(ratio))"
   ]
  },
  {
   "cell_type": "markdown",
   "metadata": {},
   "source": [
    "Splitting Train/Test"
   ]
  },
  {
   "cell_type": "code",
   "execution_count": 43,
   "metadata": {},
   "outputs": [],
   "source": [
    "from sklearn.model_selection import train_test_split\n",
    "X_train, X_test, Y_train, Y_test = train_test_split(X, Y, test_size=0.15, random_state=2)"
   ]
  },
  {
   "cell_type": "markdown",
   "metadata": {},
   "source": [
    "Extracting sample weights from the data "
   ]
  },
  {
   "cell_type": "code",
   "execution_count": 44,
   "metadata": {},
   "outputs": [],
   "source": [
    "weights = X_train['marsupwt']\n",
    "X_train = X_train.drop('marsupwt',axis=1)\n",
    "X_test = X_test.drop('marsupwt', axis=1)"
   ]
  },
  {
   "cell_type": "markdown",
   "metadata": {},
   "source": [
    "Trying a desicsion tree classifier"
   ]
  },
  {
   "cell_type": "code",
   "execution_count": 45,
   "metadata": {},
   "outputs": [
    {
     "name": "stdout",
     "output_type": "stream",
     "text": [
      "0.724658598868\n"
     ]
    }
   ],
   "source": [
    "from sklearn.tree import DecisionTreeClassifier\n",
    "_=model = DecisionTreeClassifier(max_depth=8)\n",
    "_=model.fit(X_train, Y_train, sample_weight=weights)\n",
    "print(model.score(X_test, Y_test))"
   ]
  },
  {
   "cell_type": "markdown",
   "metadata": {},
   "source": [
    "While the score is not terribly bad, the confusion matrix whows a different picture"
   ]
  },
  {
   "cell_type": "code",
   "execution_count": 46,
   "metadata": {},
   "outputs": [
    {
     "name": "stdout",
     "output_type": "stream",
     "text": [
      "[[4082 1086]\n",
      " [1394 2445]]\n",
      "0.431193413735\n"
     ]
    }
   ],
   "source": [
    "import sklearn.metrics as met\n",
    "Y_pred = model.predict(X_test)\n",
    "print(met.confusion_matrix(Y_test,Y_pred, labels=[0,1]))\n",
    "print(met.cohen_kappa_score(Y_test,Y_pred))"
   ]
  },
  {
   "cell_type": "markdown",
   "metadata": {},
   "source": [
    "Trying to adaptive boosting classifier"
   ]
  },
  {
   "cell_type": "code",
   "execution_count": 47,
   "metadata": {},
   "outputs": [
    {
     "name": "stdout",
     "output_type": "stream",
     "text": [
      "0.737870545132\n"
     ]
    }
   ],
   "source": [
    "from sklearn.ensemble import AdaBoostClassifier\n",
    "seed = 9\n",
    "num_trees = 500\n",
    "model = AdaBoostClassifier(n_estimators=num_trees, random_state=seed)\n",
    "_=model.fit(X_train, Y_train, sample_weight=weights)\n",
    "print(model.score(X_test, Y_test))"
   ]
  },
  {
   "cell_type": "code",
   "execution_count": 42,
   "metadata": {},
   "outputs": [
    {
     "name": "stdout",
     "output_type": "stream",
     "text": [
      "[[1348  386]\n",
      " [ 397  872]]\n",
      "0.690146418678\n"
     ]
    }
   ],
   "source": [
    "Y_pred = model.predict(X_test)\n",
    "print(met.confusion_matrix(Y_test,Y_pred, labels=[0,1]))\n",
    "print(met.f1_score(Y_test,Y_pred))"
   ]
  },
  {
   "cell_type": "markdown",
   "metadata": {},
   "source": [
    "A bit better, but still problematic,\n",
    "Trying a begging classifier"
   ]
  },
  {
   "cell_type": "code",
   "execution_count": 13,
   "metadata": {},
   "outputs": [
    {
     "name": "stdout",
     "output_type": "stream",
     "text": [
      "0.712572855953\n"
     ]
    }
   ],
   "source": [
    "from sklearn.ensemble import BaggingClassifier\n",
    "model = BaggingClassifier(n_estimators=num_trees, random_state=seed)\n",
    "_=model.fit(X_train, Y_train, sample_weight=weights)\n",
    "print(model.score(X_test, Y_test))"
   ]
  },
  {
   "cell_type": "code",
   "execution_count": 14,
   "metadata": {},
   "outputs": [
    {
     "name": "stdout",
     "output_type": "stream",
     "text": [
      "[[2635  857]\n",
      " [ 869 1644]]\n",
      "0.409053880018\n"
     ]
    }
   ],
   "source": [
    "Y_pred = model.predict(X_test)\n",
    "print(met.confusion_matrix(Y_test,Y_pred, labels=[0,1]))\n",
    "print(met.cohen_kappa_score(Y_test,Y_pred))"
   ]
  },
  {
   "cell_type": "markdown",
   "metadata": {},
   "source": [
    "Finally, trying a simple naive Bayes  and logistic regression classifiers"
   ]
  },
  {
   "cell_type": "code",
   "execution_count": 15,
   "metadata": {},
   "outputs": [
    {
     "data": {
      "text/plain": [
       "0.68892589508742719"
      ]
     },
     "execution_count": 15,
     "metadata": {},
     "output_type": "execute_result"
    }
   ],
   "source": [
    "from sklearn.naive_bayes import GaussianNB\n",
    "model = GaussianNB()\n",
    "model.fit(X_train, Y_train,sample_weight=weights)\n",
    "model.score(X_test, Y_test)"
   ]
  },
  {
   "cell_type": "code",
   "execution_count": 16,
   "metadata": {},
   "outputs": [
    {
     "data": {
      "text/plain": [
       "array([[2549,  943],\n",
       "       [ 925, 1588]])"
      ]
     },
     "execution_count": 16,
     "metadata": {},
     "output_type": "execute_result"
    }
   ],
   "source": [
    "Y_pred = model.predict(X_test)\n",
    "met.confusion_matrix(Y_test,Y_pred, labels=[0,1])"
   ]
  },
  {
   "cell_type": "code",
   "execution_count": 17,
   "metadata": {},
   "outputs": [
    {
     "name": "stdout",
     "output_type": "stream",
     "text": [
      "0.672606161532\n"
     ]
    }
   ],
   "source": [
    "from sklearn.linear_model import LogisticRegression\n",
    "model = LogisticRegression()\n",
    "_=model.fit(X_train, Y_train, sample_weight=weights)\n",
    "print(model.score(X_test, Y_test))"
   ]
  },
  {
   "cell_type": "code",
   "execution_count": 48,
   "metadata": {},
   "outputs": [
    {
     "data": {
      "text/plain": [
       "array([[4024, 1144],\n",
       "       [1217, 2622]])"
      ]
     },
     "execution_count": 48,
     "metadata": {},
     "output_type": "execute_result"
    }
   ],
   "source": [
    "Y_pred = model.predict(X_test)\n",
    "met.confusion_matrix(Y_test,Y_pred, labels=[0,1])"
   ]
  },
  {
   "cell_type": "markdown",
   "metadata": {},
   "source": [
    "Suprisingly SVM is the worst of all"
   ]
  },
  {
   "cell_type": "markdown",
   "metadata": {},
   "source": [
    "from sklearn.svm import SVC\n",
    "model = SVC()\n",
    "_=model.fit(X_train, Y_train, sample_weight=weights)\n",
    "print(model.score(X_test, y_test))"
   ]
  },
  {
   "cell_type": "code",
   "execution_count": 49,
   "metadata": {},
   "outputs": [],
   "source": [
    "import xgboost as xgb\n"
   ]
  },
  {
   "cell_type": "code",
   "execution_count": null,
   "metadata": {},
   "outputs": [],
   "source": []
  }
 ],
 "metadata": {
  "kernelspec": {
   "display_name": "Python 3",
   "language": "python",
   "name": "python3"
  },
  "language_info": {
   "codemirror_mode": {
    "name": "ipython",
    "version": 3
   },
   "file_extension": ".py",
   "mimetype": "text/x-python",
   "name": "python",
   "nbconvert_exporter": "python",
   "pygments_lexer": "ipython3",
   "version": "3.6.4"
  }
 },
 "nbformat": 4,
 "nbformat_minor": 2
}
