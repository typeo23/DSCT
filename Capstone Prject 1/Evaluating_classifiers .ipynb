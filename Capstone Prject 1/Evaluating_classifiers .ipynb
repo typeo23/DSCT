{
 "cells": [
  {
   "cell_type": "markdown",
   "metadata": {},
   "source": [
    "In the folowing notebook I will evaluate some of the more popular calssifiers, while doing a grid search with cross validation to find good meta parameters. I will then run a broader grid search on the best classifier."
   ]
  },
  {
   "cell_type": "code",
   "execution_count": null,
   "metadata": {
    "ExecuteTime": {
     "end_time": "2018-04-27T07:08:56.929909Z",
     "start_time": "2018-04-27T07:08:56.894769Z"
    }
   },
   "outputs": [],
   "source": [
    "%load_ext autoreload\n",
    "%autoreload 2\n",
    "import numpy as np\n",
    "import pandas as pd\n",
    "import matplotlib.pyplot as plt\n",
    "from ScalerAndOneHotEncoder import ScalerAndOneHotEncoder\n",
    "from sklearn.preprocessing import StandardScaler\n",
    "from Filter_extreme_earns import filter_extreme_earns\n",
    "from sklearn.preprocessing import RobustScaler"
   ]
  },
  {
   "cell_type": "markdown",
   "metadata": {},
   "source": [
    "Loading the data"
   ]
  },
  {
   "cell_type": "code",
   "execution_count": null,
   "metadata": {
    "ExecuteTime": {
     "end_time": "2018-04-27T07:09:09.389624Z",
     "start_time": "2018-04-27T07:08:56.932050Z"
    }
   },
   "outputs": [],
   "source": [
    "df = pd.read_csv(\n",
    "    'Data/income_data_2017_clean_zeros.csv.bz2',\n",
    "    compression='bz2',\n",
    "    index_col='peridnum')"
   ]
  },
  {
   "cell_type": "markdown",
   "metadata": {},
   "source": [
    "Defining the numerical and categorical variables"
   ]
  },
  {
   "cell_type": "code",
   "execution_count": null,
   "metadata": {
    "ExecuteTime": {
     "end_time": "2018-04-27T07:09:09.417842Z",
     "start_time": "2018-04-27T07:09:09.392124Z"
    }
   },
   "outputs": [],
   "source": [
    "categorical_features = [\n",
    "    'PEIOOCC', 'A_HGA', 'PRDTRACE', 'FKIND', 'A_CLSWKR', 'A_WKSTAT', 'A_MJIND',\n",
    "    'MJOCC', 'PTYN', 'LJCW', 'A_SEX', 'WEMOCG', 'MIG_CBST', 'MIGSAME',\n",
    "    'H_TYPE', 'H_LIVQRT', 'GTCBSA', 'GESTFIPS'\n",
    "]\n",
    "numerical_features = [\n",
    "    'H_NUMPER', 'FPERSONS', 'FOWNU6', 'FOWNU18', 'A_AGE', 'A_HRS1', 'A_USLHRS',\n",
    "    'PHMEMPRS', 'HRSWK', 'HNUMFAM'\n",
    "]\n",
    "labels = ['ERN_VAL']\n",
    "features = categorical_features + numerical_features"
   ]
  },
  {
   "cell_type": "markdown",
   "metadata": {},
   "source": [
    "Filtering out people who earn more then 250k per year or less then 7K per year and people making more then 3$\\sigma$ than the mean for their occupation"
   ]
  },
  {
   "cell_type": "code",
   "execution_count": null,
   "metadata": {
    "ExecuteTime": {
     "end_time": "2018-04-27T07:09:12.573913Z",
     "start_time": "2018-04-27T07:09:09.419576Z"
    }
   },
   "outputs": [],
   "source": [
    "df_filt = df[(df['ern_val'] > 3000) & (df['ern_val'] < 250000)]\n",
    "df_filt = filter_extreme_earns(df_filt, 3)\n",
    "# converting colum names to uppercase\n",
    "df_filt.columns = df_filt.columns.str.upper()\n",
    "\n",
    "df_filt = df_filt[features + labels]\n",
    "\n",
    "# Getting the index of categorical variables for the OneHot encoder.\n",
    "categorical_index = [\n",
    "    i for i, x in enumerate(df_filt.columns.values)\n",
    "    if x in categorical_features\n",
    "]"
   ]
  },
  {
   "cell_type": "markdown",
   "metadata": {},
   "source": [
    "Preparing the pipeline"
   ]
  },
  {
   "cell_type": "code",
   "execution_count": null,
   "metadata": {
    "ExecuteTime": {
     "end_time": "2018-04-27T07:09:12.623388Z",
     "start_time": "2018-04-27T07:09:12.576315Z"
    }
   },
   "outputs": [],
   "source": [
    "from sklearn.model_selection import train_test_split\n",
    "from sklearn.pipeline import Pipeline"
   ]
  },
  {
   "cell_type": "code",
   "execution_count": null,
   "metadata": {
    "ExecuteTime": {
     "end_time": "2018-04-27T07:09:12.740538Z",
     "start_time": "2018-04-27T07:09:12.625354Z"
    }
   },
   "outputs": [],
   "source": [
    "# getting features\n",
    "X = df_filt[features].values\n",
    "# Setting a binary tager from the ern_val column\n",
    "y = (df_filt.ERN_VAL > 40000).values\n",
    "# Spliting to train and test\n",
    "X_train, X_test, y_train, y_test = train_test_split(X, y, test_size=0.25) \n",
    "\n",
    "#defining RobustScaler for the nuerical and onehot for categorical features to be used in the pipeline\n",
    "scaler_encoder = ScalerAndOneHotEncoder(\n",
    "    RobustScaler(), categorical_index=categorical_index)\n",
    "\n"
   ]
  },
  {
   "cell_type": "markdown",
   "metadata": {},
   "source": [
    "Starting with Logistic Regression"
   ]
  },
  {
   "cell_type": "code",
   "execution_count": null,
   "metadata": {
    "ExecuteTime": {
     "end_time": "2018-04-27T07:09:12.818714Z",
     "start_time": "2018-04-27T07:09:12.742703Z"
    }
   },
   "outputs": [],
   "source": [
    "from sklearn.linear_model import LogisticRegression\n",
    "\n",
    "steps = [('scaler_encoder', scaler_encoder),\n",
    "        ('logistic', LogisticRegression() )]\n",
    "pipeline = Pipeline(steps)"
   ]
  },
  {
   "cell_type": "markdown",
   "metadata": {},
   "source": [
    "Definig search paramerts and running grid search"
   ]
  },
  {
   "cell_type": "code",
   "execution_count": null,
   "metadata": {
    "ExecuteTime": {
     "end_time": "2018-04-27T07:09:12.853960Z",
     "start_time": "2018-04-27T07:09:12.820896Z"
    }
   },
   "outputs": [],
   "source": [
    "from sklearn.model_selection import GridSearchCV\n",
    "# Meta parameters\n",
    "cs = np.logspace(-2, 2, 40)\n",
    "penalty = ['l2', 'l1']\n",
    "class_weight = [None, 'balanced']\n",
    "\n",
    "logistic_estimator = GridSearchCV(pipeline,\n",
    "                         dict(\n",
    "                             logistic__C=cs,\n",
    "                             logistic__penalty=penalty,\n",
    "                             logistic__class_weight=class_weight),\n",
    "                        cv=5,\n",
    "                        scoring='f1',\n",
    "                        n_jobs=20)"
   ]
  },
  {
   "cell_type": "code",
   "execution_count": null,
   "metadata": {
    "ExecuteTime": {
     "end_time": "2018-04-27T07:22:10.141845Z",
     "start_time": "2018-04-27T07:09:12.856449Z"
    }
   },
   "outputs": [],
   "source": [
    "logistic_estimator.fit(X_train, y_train)\n",
    "print (logistic_estimator.best_score_) \n",
    "print (logistic_estimator.best_params_)"
   ]
  },
  {
   "cell_type": "code",
   "execution_count": null,
   "metadata": {
    "ExecuteTime": {
     "end_time": "2018-04-27T07:22:10.418226Z",
     "start_time": "2018-04-27T07:22:10.144529Z"
    }
   },
   "outputs": [],
   "source": [
    "import sklearn.metrics as met\n",
    "y_pred = logistic_estimator.predict(X_test)\n",
    "print(met.confusion_matrix(y_test,y_pred, labels=[0,1]))\n",
    "print(met.f1_score(y_test,y_pred))"
   ]
  },
  {
   "cell_type": "code",
   "execution_count": null,
   "metadata": {
    "ExecuteTime": {
     "end_time": "2018-04-27T07:22:10.811506Z",
     "start_time": "2018-04-27T07:22:10.420157Z"
    }
   },
   "outputs": [],
   "source": [
    "from plotting_funcs import plot_roc\n",
    "plot_roc(logistic_estimator, X_test, y_test)\n",
    "_= plt.show()"
   ]
  },
  {
   "cell_type": "markdown",
   "metadata": {
    "ExecuteTime": {
     "end_time": "2018-04-25T06:07:53.690587Z",
     "start_time": "2018-04-25T06:07:53.640205Z"
    }
   },
   "source": [
    "### Random Forest"
   ]
  },
  {
   "cell_type": "code",
   "execution_count": null,
   "metadata": {
    "ExecuteTime": {
     "end_time": "2018-04-27T07:22:10.846893Z",
     "start_time": "2018-04-27T07:22:10.813580Z"
    }
   },
   "outputs": [],
   "source": [
    "from sklearn.ensemble import RandomForestClassifier"
   ]
  },
  {
   "cell_type": "code",
   "execution_count": null,
   "metadata": {
    "ExecuteTime": {
     "end_time": "2018-04-27T07:22:10.916912Z",
     "start_time": "2018-04-27T07:22:10.848588Z"
    }
   },
   "outputs": [],
   "source": [
    "#Preparing the pipeline\n",
    "steps = [('scaler_encoder', scaler_encoder),\n",
    "        ('rf', RandomForestClassifier(n_jobs=20) )]\n",
    "pipeline = Pipeline(steps)"
   ]
  },
  {
   "cell_type": "markdown",
   "metadata": {},
   "source": [
    "Defining the search grid"
   ]
  },
  {
   "cell_type": "code",
   "execution_count": null,
   "metadata": {
    "ExecuteTime": {
     "end_time": "2018-04-27T07:22:11.016070Z",
     "start_time": "2018-04-27T07:22:10.919044Z"
    }
   },
   "outputs": [],
   "source": [
    "# Meta parameters\n",
    "n_estimators = [100, 200, 300, 400]\n",
    "criterion = ['gini', 'entropy']\n",
    "max_features = ['sqrt', 'log2', None]\n",
    "max_depth = [None, 3, 5]\n",
    "min_samples_leaf = [1, 2, 4]\n",
    "min_samples_split = [2, 3]\n",
    "\n",
    "rf_estimator = GridSearchCV(pipeline,\n",
    "                         dict(\n",
    "                             rf__n_estimators=n_estimators,\n",
    "                             rf__criterion=criterion,\n",
    "                             rf__max_features=max_features,\n",
    "                             rf__min_samples_leaf=min_samples_leaf,\n",
    "                             rf__min_samples_split=min_samples_split),\n",
    "                        cv=5,\n",
    "                        scoring='f1',\n",
    "                        verbose=0)"
   ]
  },
  {
   "cell_type": "code",
   "execution_count": null,
   "metadata": {
    "ExecuteTime": {
     "end_time": "2018-04-27T16:33:23.701709Z",
     "start_time": "2018-04-27T07:22:11.018090Z"
    },
    "scrolled": true
   },
   "outputs": [],
   "source": [
    "rf_estimator.fit(X_train, y_train)"
   ]
  },
  {
   "cell_type": "code",
   "execution_count": null,
   "metadata": {
    "ExecuteTime": {
     "end_time": "2018-04-27T16:33:24.477961Z",
     "start_time": "2018-04-27T16:33:23.703907Z"
    }
   },
   "outputs": [],
   "source": [
    "print (rf_estimator.best_score_) \n",
    "print (rf_estimator.best_params_)\n",
    "y_pred = rf_estimator.predict(X_test)\n",
    "print(met.confusion_matrix(y_test,y_pred, labels=[0,1]))\n",
    "print(met.f1_score(y_test,y_pred))\n",
    "plot_roc(rf_estimator, X_test, y_test)\n",
    "_= plt.show()"
   ]
  },
  {
   "cell_type": "markdown",
   "metadata": {},
   "source": [
    "### SVM Classifier"
   ]
  },
  {
   "cell_type": "code",
   "execution_count": null,
   "metadata": {
    "ExecuteTime": {
     "end_time": "2018-04-27T21:48:46.854090Z",
     "start_time": "2018-04-27T21:48:46.823450Z"
    }
   },
   "outputs": [],
   "source": [
    "from sklearn.svm import SVC"
   ]
  },
  {
   "cell_type": "code",
   "execution_count": null,
   "metadata": {
    "ExecuteTime": {
     "end_time": "2018-04-27T21:48:47.390719Z",
     "start_time": "2018-04-27T21:48:47.364321Z"
    }
   },
   "outputs": [],
   "source": [
    "#Preparing the pipeline\n",
    "steps = [('scaler_encoder', scaler_encoder),\n",
    "        ('svc', SVC() )]\n",
    "pipeline = Pipeline(steps)"
   ]
  },
  {
   "cell_type": "code",
   "execution_count": null,
   "metadata": {
    "ExecuteTime": {
     "end_time": "2018-04-27T21:48:48.050985Z",
     "start_time": "2018-04-27T21:48:48.022727Z"
    }
   },
   "outputs": [],
   "source": [
    "# Meta parameters\n",
    "C = [0.1, 1, 5, 10, 30]\n",
    "gamma =  ['auto', 1e-2, 1e-3]\n",
    "\n",
    "\n",
    "svc_estimator = GridSearchCV(pipeline,\n",
    "                         dict(\n",
    "                             svc__C=C,\n",
    "                             svc__gamma=gamma\n",
    "                             ),\n",
    "                        cv=5,\n",
    "                        scoring='f1',\n",
    "                        verbose=0,\n",
    "                        n_jobs=20)"
   ]
  },
  {
   "cell_type": "code",
   "execution_count": null,
   "metadata": {
    "ExecuteTime": {
     "end_time": "2018-04-27T22:16:36.363731Z",
     "start_time": "2018-04-27T21:48:49.952120Z"
    }
   },
   "outputs": [],
   "source": [
    "svc_estimator.fit(X_train, y_train)"
   ]
  },
  {
   "cell_type": "code",
   "execution_count": null,
   "metadata": {
    "ExecuteTime": {
     "end_time": "2018-04-27T22:16:36.370525Z",
     "start_time": "2018-04-27T21:48:52.912Z"
    }
   },
   "outputs": [],
   "source": [
    "print (rf_estimator.best_score_) \n",
    "print (rf_estimator.best_params_)\n",
    "y_pred = rf_estimator.predict(X_test)\n",
    "print(met.confusion_matrix(y_test,y_pred, labels=[0,1]))\n",
    "print(met.f1_score(y_test,y_pred))\n",
    "plot_roc(rf_estimator, X_test, y_test)\n",
    "_= plt.show()"
   ]
  },
  {
   "cell_type": "code",
   "execution_count": null,
   "metadata": {
    "ExecuteTime": {
     "end_time": "2018-04-27T22:17:07.403825Z",
     "start_time": "2018-04-27T22:17:07.374494Z"
    }
   },
   "outputs": [],
   "source": [
    "best_params = {'Logistic Regression': \n",
    "               {'Parameters': logistic_estimator.best_params_ ,\n",
    "                'Best Score': logistic_estimator.best_score_},\n",
    "              'Random Forest': \n",
    "               {'Parameters': rf_estimator.best_params_ ,\n",
    "                'Best Score': rf_estimator.best_score_},\n",
    "              'SVM Classifier':\n",
    "              {'Parameters': svc_estimator.best_params_ ,\n",
    "                'Best Score': svc_estimator.best_score_}\n",
    "              }"
   ]
  },
  {
   "cell_type": "code",
   "execution_count": null,
   "metadata": {
    "ExecuteTime": {
     "end_time": "2018-04-27T22:17:09.333243Z",
     "start_time": "2018-04-27T22:17:09.300523Z"
    }
   },
   "outputs": [],
   "source": [
    "import pickle\n",
    "pickle.dump( best_params, open( 'best_params_Log_Forest_SVM.p', 'wb' ) )"
   ]
  },
  {
   "cell_type": "code",
   "execution_count": null,
   "metadata": {},
   "outputs": [],
   "source": []
  }
 ],
 "metadata": {
  "kernelspec": {
   "display_name": "Python 3",
   "language": "python",
   "name": "python3"
  },
  "language_info": {
   "codemirror_mode": {
    "name": "ipython",
    "version": 3
   },
   "file_extension": ".py",
   "mimetype": "text/x-python",
   "name": "python",
   "nbconvert_exporter": "python",
   "pygments_lexer": "ipython3",
   "version": "3.6.4"
  },
  "varInspector": {
   "cols": {
    "lenName": 16,
    "lenType": 16,
    "lenVar": 40
   },
   "kernels_config": {
    "python": {
     "delete_cmd_postfix": "",
     "delete_cmd_prefix": "del ",
     "library": "var_list.py",
     "varRefreshCmd": "print(var_dic_list())"
    },
    "r": {
     "delete_cmd_postfix": ") ",
     "delete_cmd_prefix": "rm(",
     "library": "var_list.r",
     "varRefreshCmd": "cat(var_dic_list()) "
    }
   },
   "types_to_exclude": [
    "module",
    "function",
    "builtin_function_or_method",
    "instance",
    "_Feature"
   ],
   "window_display": false
  }
 },
 "nbformat": 4,
 "nbformat_minor": 2
}
