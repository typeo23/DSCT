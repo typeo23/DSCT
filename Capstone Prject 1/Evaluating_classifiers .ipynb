{
 "cells": [
  {
   "cell_type": "markdown",
   "metadata": {},
   "source": [
    "In the folowing notebook I will evaluate some of the more popular calssifiers, while doing a grid search with cross validation to find good meta parameters. I will then run a broader grid search on the best classifier."
   ]
  },
  {
   "cell_type": "code",
   "execution_count": 4,
   "metadata": {
    "ExecuteTime": {
     "end_time": "2018-04-27T00:45:12.194387Z",
     "start_time": "2018-04-27T00:45:12.163846Z"
    }
   },
   "outputs": [
    {
     "name": "stdout",
     "output_type": "stream",
     "text": [
      "The autoreload extension is already loaded. To reload it, use:\n",
      "  %reload_ext autoreload\n"
     ]
    }
   ],
   "source": [
    "%load_ext autoreload\n",
    "%autoreload 2\n",
    "import numpy as np\n",
    "import pandas as pd\n",
    "import matplotlib.pyplot as plt\n",
    "from ScalerAndOneHotEncoder import ScalerAndOneHotEncoder\n",
    "from sklearn.preprocessing import StandardScaler\n",
    "from Filter_extreme_earns import filter_extreme_earns\n",
    "from sklearn.preprocessing import RobustScaler"
   ]
  },
  {
   "cell_type": "markdown",
   "metadata": {},
   "source": [
    "Loading the data"
   ]
  },
  {
   "cell_type": "code",
   "execution_count": 5,
   "metadata": {
    "ExecuteTime": {
     "end_time": "2018-04-27T00:45:25.782705Z",
     "start_time": "2018-04-27T00:45:12.196683Z"
    }
   },
   "outputs": [],
   "source": [
    "df = pd.read_csv(\n",
    "    'Data/income_data_2017_clean_zeros.csv.bz2',\n",
    "    compression='bz2',\n",
    "    index_col='peridnum')"
   ]
  },
  {
   "cell_type": "markdown",
   "metadata": {},
   "source": [
    "Defining the numerical and categorical variables"
   ]
  },
  {
   "cell_type": "code",
   "execution_count": 6,
   "metadata": {
    "ExecuteTime": {
     "end_time": "2018-04-27T00:45:25.811726Z",
     "start_time": "2018-04-27T00:45:25.785291Z"
    }
   },
   "outputs": [],
   "source": [
    "categorical_features = [\n",
    "    'PEIOOCC', 'A_HGA', 'PRDTRACE', 'FKIND', 'A_CLSWKR', 'A_WKSTAT', 'A_MJIND',\n",
    "    'MJOCC', 'PTYN', 'LJCW', 'A_SEX', 'WEMOCG', 'MIG_CBST', 'MIGSAME',\n",
    "    'H_TYPE', 'H_LIVQRT', 'GTCBSA', 'GESTFIPS'\n",
    "]\n",
    "numerical_features = [\n",
    "    'H_NUMPER', 'FPERSONS', 'FOWNU6', 'FOWNU18', 'A_AGE', 'A_HRS1', 'A_USLHRS',\n",
    "    'PHMEMPRS', 'HRSWK', 'HNUMFAM'\n",
    "]\n",
    "labels = ['ERN_VAL']\n",
    "features = categorical_features + numerical_features"
   ]
  },
  {
   "cell_type": "markdown",
   "metadata": {},
   "source": [
    "Filtering out people who earn more then 250k per year or less then 7K per year and people making more then 3$\\sigma$ than the mean for their occupation"
   ]
  },
  {
   "cell_type": "code",
   "execution_count": 7,
   "metadata": {
    "ExecuteTime": {
     "end_time": "2018-04-27T00:45:29.506257Z",
     "start_time": "2018-04-27T00:45:25.813814Z"
    }
   },
   "outputs": [],
   "source": [
    "df_filt = df[(df['ern_val'] > 3000) & (df['ern_val'] < 250000)]\n",
    "df_filt = filter_extreme_earns(df_filt, 3)\n",
    "# converting colum names to uppercase\n",
    "df_filt.columns = df_filt.columns.str.upper()\n",
    "\n",
    "df_filt = df_filt[features + labels]\n",
    "\n",
    "# Getting the index of categorical variables for the OneHot encoder.\n",
    "categorical_index = [\n",
    "    i for i, x in enumerate(df_filt.columns.values)\n",
    "    if x in categorical_features\n",
    "]"
   ]
  },
  {
   "cell_type": "markdown",
   "metadata": {},
   "source": [
    "Preparing the pipeline"
   ]
  },
  {
   "cell_type": "code",
   "execution_count": 8,
   "metadata": {
    "ExecuteTime": {
     "end_time": "2018-04-27T00:45:29.763406Z",
     "start_time": "2018-04-27T00:45:29.508323Z"
    }
   },
   "outputs": [],
   "source": [
    "from sklearn.model_selection import train_test_split\n",
    "from sklearn.pipeline import Pipeline"
   ]
  },
  {
   "cell_type": "code",
   "execution_count": 9,
   "metadata": {
    "ExecuteTime": {
     "end_time": "2018-04-27T00:45:29.831053Z",
     "start_time": "2018-04-27T00:45:29.765699Z"
    }
   },
   "outputs": [],
   "source": [
    "# getting features\n",
    "X = df_filt[features].values\n",
    "# Setting a binary tager from the ern_val column\n",
    "y = (df_filt.ERN_VAL > 40000).values\n",
    "# Spliting to train and test\n",
    "X_train, X_test, y_train, y_test = train_test_split(X, y, test_size=0.25) \n",
    "\n",
    "#defining RobustScaler for the nuerical and onehot for categorical features to be used in the pipeline\n",
    "scaler_encoder = ScalerAndOneHotEncoder(\n",
    "    RobustScaler(), categorical_index=categorical_index)\n",
    "\n"
   ]
  },
  {
   "cell_type": "markdown",
   "metadata": {},
   "source": [
    "Starting with Logistic Regression"
   ]
  },
  {
   "cell_type": "code",
   "execution_count": 10,
   "metadata": {
    "ExecuteTime": {
     "end_time": "2018-04-27T00:45:30.273186Z",
     "start_time": "2018-04-27T00:45:29.833222Z"
    }
   },
   "outputs": [],
   "source": [
    "from sklearn.linear_model import LogisticRegression\n",
    "\n",
    "steps = [('scaler_encoder', scaler_encoder),\n",
    "        ('logistic', LogisticRegression() )]\n",
    "pipeline = Pipeline(steps)"
   ]
  },
  {
   "cell_type": "markdown",
   "metadata": {},
   "source": [
    "Definig search paramerts and running grid search"
   ]
  },
  {
   "cell_type": "code",
   "execution_count": 11,
   "metadata": {
    "ExecuteTime": {
     "end_time": "2018-04-27T00:45:30.305231Z",
     "start_time": "2018-04-27T00:45:30.276356Z"
    }
   },
   "outputs": [],
   "source": [
    "from sklearn.model_selection import GridSearchCV\n",
    "# Meta parameters\n",
    "cs = np.logspace(-2, 2, 4)\n",
    "penalty = ['l2', 'l1']\n",
    "class_weight = [None, 'balanced']\n",
    "\n",
    "logistic_estimator = GridSearchCV(pipeline,\n",
    "                         dict(\n",
    "                             logistic__C=cs,\n",
    "                             logistic__penalty=penalty,\n",
    "                             logistic__class_weight=class_weight),\n",
    "                        cv=5,\n",
    "                        scoring='f1',\n",
    "                        n_jobs=15)"
   ]
  },
  {
   "cell_type": "code",
   "execution_count": 13,
   "metadata": {
    "ExecuteTime": {
     "end_time": "2018-04-27T00:47:10.334448Z",
     "start_time": "2018-04-27T00:45:51.404791Z"
    }
   },
   "outputs": [
    {
     "name": "stdout",
     "output_type": "stream",
     "text": [
      "0.7270562174684025\n",
      "{'logistic__C': 0.21544346900318834, 'logistic__class_weight': 'balanced', 'logistic__penalty': 'l2'}\n"
     ]
    }
   ],
   "source": [
    "logistic_estimator.fit(X_train, y_train)\n",
    "print (logistic_estimator.best_score_) \n",
    "print (logistic_estimator.best_params_)"
   ]
  },
  {
   "cell_type": "code",
   "execution_count": 14,
   "metadata": {
    "ExecuteTime": {
     "end_time": "2018-04-27T00:47:10.876928Z",
     "start_time": "2018-04-27T00:47:10.610104Z"
    }
   },
   "outputs": [
    {
     "name": "stdout",
     "output_type": "stream",
     "text": [
      "[[11524  3315]\n",
      " [ 1457  6334]]\n",
      "0.7263761467889909\n"
     ]
    }
   ],
   "source": [
    "import sklearn.metrics as met\n",
    "y_pred = logistic_estimator.predict(X_test)\n",
    "print(met.confusion_matrix(y_test,y_pred, labels=[0,1]))\n",
    "print(met.f1_score(y_test,y_pred))"
   ]
  },
  {
   "cell_type": "code",
   "execution_count": 15,
   "metadata": {
    "ExecuteTime": {
     "end_time": "2018-04-27T00:47:11.376019Z",
     "start_time": "2018-04-27T00:47:11.085426Z"
    }
   },
   "outputs": [
    {
     "data": {
      "image/png": "[encoded data removed]",
      "text/plain": [
       "<matplotlib.figure.Figure at 0x7f41ee269e10>"
      ]
     },
     "metadata": {},
     "output_type": "display_data"
    }
   ],
   "source": [
    "from plotting_funcs import plot_roc\n",
    "plot_roc(logistic_estimator, X_test, y_test)\n",
    "_= plt.show()"
   ]
  },
  {
   "cell_type": "code",
   "execution_count": null,
   "metadata": {
    "ExecuteTime": {
     "end_time": "2018-04-25T06:07:53.690587Z",
     "start_time": "2018-04-25T06:07:53.640205Z"
    }
   },
   "outputs": [],
   "source": []
  },
  {
   "cell_type": "code",
   "execution_count": null,
   "metadata": {
    "ExecuteTime": {
     "end_time": "2018-04-25T06:07:59.359506Z",
     "start_time": "2018-04-25T06:07:59.312051Z"
    }
   },
   "outputs": [],
   "source": []
  },
  {
   "cell_type": "code",
   "execution_count": null,
   "metadata": {},
   "outputs": [],
   "source": []
  }
 ],
 "metadata": {
  "kernelspec": {
   "display_name": "Python 3",
   "language": "python",
   "name": "python3"
  },
  "language_info": {
   "codemirror_mode": {
    "name": "ipython",
    "version": 3
   },
   "file_extension": ".py",
   "mimetype": "text/x-python",
   "name": "python",
   "nbconvert_exporter": "python",
   "pygments_lexer": "ipython3",
   "version": "3.6.4"
  },
  "varInspector": {
   "cols": {
    "lenName": 16,
    "lenType": 16,
    "lenVar": 40
   },
   "kernels_config": {
    "python": {
     "delete_cmd_postfix": "",
     "delete_cmd_prefix": "del ",
     "library": "var_list.py",
     "varRefreshCmd": "print(var_dic_list())"
    },
    "r": {
     "delete_cmd_postfix": ") ",
     "delete_cmd_prefix": "rm(",
     "library": "var_list.r",
     "varRefreshCmd": "cat(var_dic_list()) "
    }
   },
   "types_to_exclude": [
    "module",
    "function",
    "builtin_function_or_method",
    "instance",
    "_Feature"
   ],
   "window_display": false
  }
 },
 "nbformat": 4,
 "nbformat_minor": 2
}
