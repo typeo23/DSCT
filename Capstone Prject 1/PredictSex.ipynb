{
 "cells": [
  {
   "cell_type": "markdown",
   "metadata": {},
   "source": [
    "# Testing the best classifier and applying for prediction of sex\n",
    "\n",
    "Importing libraries"
   ]
  },
  {
   "cell_type": "code",
   "execution_count": 1,
   "metadata": {
    "ExecuteTime": {
     "end_time": "2018-05-05T04:17:56.480371Z",
     "start_time": "2018-05-05T04:17:55.643395Z"
    }
   },
   "outputs": [],
   "source": [
    "import numpy as np\n",
    "import pandas as pd\n",
    "import matplotlib.pyplot as plt\n",
    "from ScalerAndOneHotEncoder import ScalerAndOneHotEncoder\n",
    "from sklearn.preprocessing import StandardScaler\n",
    "from Filter_extreme_earns import filter_extreme_earns\n",
    "from sklearn.preprocessing import RobustScaler\n",
    "\n",
    "from sklearn.model_selection import train_test_split\n",
    "from sklearn.pipeline import Pipeline\n",
    "import lightgbm as lgb\n",
    "\n",
    "import sklearn.metrics as met\n",
    "\n",
    "from dataset_manipulation_funcs import load_filter_dataset\n",
    "\n",
    "import pickle\n",
    "\n",
    "import warnings\n",
    "\n",
    "warnings.simplefilter('ignore', DeprecationWarning)"
   ]
  },
  {
   "cell_type": "markdown",
   "metadata": {},
   "source": [
    "### Loading the dataset and filtering features and splitting a test set"
   ]
  },
  {
   "cell_type": "code",
   "execution_count": 2,
   "metadata": {
    "ExecuteTime": {
     "end_time": "2018-05-05T04:18:12.453061Z",
     "start_time": "2018-05-05T04:17:56.482834Z"
    }
   },
   "outputs": [],
   "source": [
    "categorical_features = [\n",
    "    'PEIOOCC', 'A_HGA', 'PRDTRACE', 'FKIND', 'A_CLSWKR', 'A_WKSTAT', 'A_MJIND',\n",
    "    'MJOCC', 'PTYN', 'LJCW', 'WEMOCG', 'MIG_CBST', 'MIGSAME',\n",
    "    'H_TYPE', 'H_LIVQRT', 'GTCBSA', 'GESTFIPS', 'A_SEX'\n",
    "]\n",
    "numerical_features = [\n",
    "    'H_NUMPER', 'FPERSONS', 'FOWNU6', 'FOWNU18', 'A_AGE', 'A_HRS1', 'A_USLHRS',\n",
    "    'PHMEMPRS', 'HRSWK', 'HNUMFAM'\n",
    "]\n",
    "#prediction label\n",
    "labels = ['ERN_VAL']\n",
    "features = categorical_features + numerical_features\n",
    "#Dont load the dataset again if it is already loaded (for debuging purpose)\n",
    "if 'X'  not in locals():\n",
    "    X, y, categorical_index = load_filter_dataset(\n",
    "            'data/income_data_2017_clean_zeros.csv.bz2',\n",
    "            max_ern=250000, min_ern=5000,\n",
    "            categorical_features=categorical_features, \n",
    "            numerical_features=numerical_features,\n",
    "            labels=labels, threshold=40000)\n",
    "\n",
    "\n",
    "# Spliting to train and test\n",
    "y2 = np.ravel(y)\n",
    "X_train, X_test, y_train, y_test = train_test_split(X, y2, test_size=0.3) "
   ]
  },
  {
   "cell_type": "markdown",
   "metadata": {},
   "source": [
    "Loading the saved best classifier"
   ]
  },
  {
   "cell_type": "code",
   "execution_count": 3,
   "metadata": {
    "ExecuteTime": {
     "end_time": "2018-05-05T04:18:12.461495Z",
     "start_time": "2018-05-05T04:18:12.456966Z"
    }
   },
   "outputs": [],
   "source": [
    "est = pickle.load(open( 'best_estimators/best_params_gbm_estimator_2.p', 'rb' ))\n",
    "params = est['gbm_estimator']['Parameters']\n",
    "estimator = lgb.LGBMClassifier(nthread=15,silent=False, **params)"
   ]
  },
  {
   "cell_type": "markdown",
   "metadata": {},
   "source": [
    "Fitting to predict income"
   ]
  },
  {
   "cell_type": "code",
   "execution_count": 4,
   "metadata": {
    "ExecuteTime": {
     "end_time": "2018-05-05T04:18:17.219715Z",
     "start_time": "2018-05-05T04:18:12.463086Z"
    }
   },
   "outputs": [
    {
     "data": {
      "text/plain": [
       "LGBMClassifier(boost_from_average=True, boosting_type='gbdt',\n",
       "        categorical_features=[0, 1, 2, 3, 4, 5, 6, 7, 8, 9, 10, 11, 12, 13, 14, 15, 16, 17],\n",
       "        class_weight=None, colsample_bytree=1, is_unbalance=True,\n",
       "        learning_rate=0.04, max_depth=6, min_child_samples=20,\n",
       "        min_child_weight=0.001, min_split_gain=0.0, n_estimators=900,\n",
       "        n_jobs=-1, nthread=15, num_leaves=31, objective='binary',\n",
       "        random_state=None, reg_alpha=0, reg_lambda=1, seed=777,\n",
       "        silent=False, subsample=0.8, subsample_for_bin=200000,\n",
       "        subsample_freq=1)"
      ]
     },
     "execution_count": 4,
     "metadata": {},
     "output_type": "execute_result"
    }
   ],
   "source": [
    "estimator.fit(X_train, (y_train))"
   ]
  },
  {
   "cell_type": "code",
   "execution_count": 5,
   "metadata": {
    "ExecuteTime": {
     "end_time": "2018-05-05T04:18:17.623226Z",
     "start_time": "2018-05-05T04:18:17.221987Z"
    }
   },
   "outputs": [
    {
     "name": "stdout",
     "output_type": "stream",
     "text": [
      "[[13454  3466]\n",
      " [ 1843  7518]]\n",
      "0.7390513639714917\n",
      "0.7390513639714917\n"
     ]
    }
   ],
   "source": [
    "y_pred = estimator.predict(X_test)\n",
    "print(met.confusion_matrix(y_test,y_pred, labels=[0,1]))\n",
    "print(met.f1_score(y_test,y_pred))\n",
    "print(met.f1_score(y_test,y_pred))"
   ]
  },
  {
   "cell_type": "code",
   "execution_count": 6,
   "metadata": {
    "ExecuteTime": {
     "end_time": "2018-05-05T04:18:17.996759Z",
     "start_time": "2018-05-05T04:18:17.625291Z"
    }
   },
   "outputs": [
    {
     "data": {
      "image/png": "[encoded data removed]",
      "text/plain": [
       "<Figure size 432x288 with 1 Axes>"
      ]
     },
     "metadata": {},
     "output_type": "display_data"
    }
   ],
   "source": [
    "preds = estimator.predict_proba(X_test)[:,1]\n",
    "fpr, tpr, _ = met.roc_curve(y_test, preds)\n",
    "\n",
    "plt.figure()\n",
    "lw = 2\n",
    "auc = met.auc(fpr, tpr)\n",
    "plt.plot(fpr, tpr, color='navy',\n",
    "         lw=lw, label='ROC curve (area = {:0.2f})'.format(auc))\n",
    "plt.plot([0, 1], [0, 1], color='lightblue', lw=lw, linestyle='--')\n",
    "plt.xlim([0.0, 1.0])\n",
    "plt.ylim([0.0, 1.01])\n",
    "plt.xlabel('False Positive Rate')\n",
    "plt.ylabel('True Positive Rate')\n",
    "plt.title('ROC')\n",
    "plt.legend(loc=\"lower right\")\n",
    "plt.show()"
   ]
  },
  {
   "cell_type": "markdown",
   "metadata": {},
   "source": [
    "## Loading the data, this time the labels are the persons' sex (0 male 1 female)"
   ]
  },
  {
   "cell_type": "code",
   "execution_count": 7,
   "metadata": {
    "ExecuteTime": {
     "end_time": "2018-05-05T04:18:35.862063Z",
     "start_time": "2018-05-05T04:18:17.998598Z"
    }
   },
   "outputs": [],
   "source": [
    "# Import the dataset\n",
    "del X\n",
    "categorical_features = [\n",
    "    'PEIOOCC', 'A_HGA', 'PRDTRACE', 'FKIND', 'A_CLSWKR', 'A_WKSTAT', 'A_MJIND',\n",
    "    'MJOCC', 'PTYN', 'LJCW', 'WEMOCG', 'MIG_CBST', 'MIGSAME',\n",
    "    'H_TYPE', 'H_LIVQRT', 'GTCBSA', 'GESTFIPS'\n",
    "]\n",
    "numerical_features = [\n",
    "    'H_NUMPER', 'FPERSONS', 'FOWNU6', 'FOWNU18', 'A_AGE', 'A_HRS1', 'A_USLHRS',\n",
    "    'PHMEMPRS', 'HRSWK', 'HNUMFAM', 'PEIOOCC'\n",
    "]\n",
    "#prediction label\n",
    "labels = ['A_SEX']\n",
    "features = categorical_features + numerical_features\n",
    "#Dont load the dataset again if it is already loaded (for debuging purpose)\n",
    "if 'X'  not in locals():\n",
    "    X, y, categorical_index = load_filter_dataset(\n",
    "            'data/income_data_2017_clean_zeros.csv.bz2',\n",
    "            max_ern=250000, min_ern=5000,\n",
    "            categorical_features=categorical_features, \n",
    "            numerical_features=numerical_features,\n",
    "            labels=labels, threshold=1)\n",
    "\n",
    "\n",
    "# Spliting to train and test\n",
    "y2 = np.ravel(y)\n",
    "X_train, X_test, y_train, y_test = train_test_split(X, y2, test_size=0.3) "
   ]
  },
  {
   "cell_type": "markdown",
   "metadata": {},
   "source": [
    "Fitting the classifier (without adjusting metaparameters)"
   ]
  },
  {
   "cell_type": "code",
   "execution_count": 8,
   "metadata": {
    "ExecuteTime": {
     "end_time": "2018-05-05T04:18:40.133433Z",
     "start_time": "2018-05-05T04:18:35.864534Z"
    }
   },
   "outputs": [
    {
     "data": {
      "text/plain": [
       "LGBMClassifier(boost_from_average=True, boosting_type='gbdt',\n",
       "        categorical_features=[0, 1, 2, 3, 4, 5, 6, 7, 8, 9, 10, 11, 12, 13, 14, 15, 16, 17],\n",
       "        class_weight=None, colsample_bytree=1, is_unbalance=True,\n",
       "        learning_rate=0.04, max_depth=6, min_child_samples=20,\n",
       "        min_child_weight=0.001, min_split_gain=0.0, n_estimators=900,\n",
       "        n_jobs=-1, nthread=15, num_leaves=31, objective='binary',\n",
       "        random_state=None, reg_alpha=0, reg_lambda=1, seed=777,\n",
       "        silent=False, subsample=0.8, subsample_for_bin=200000,\n",
       "        subsample_freq=1)"
      ]
     },
     "execution_count": 8,
     "metadata": {},
     "output_type": "execute_result"
    }
   ],
   "source": [
    "estimator.fit(X_train, (y_train))"
   ]
  },
  {
   "cell_type": "markdown",
   "metadata": {},
   "source": [
    "### The f-1 score is pretty good"
   ]
  },
  {
   "cell_type": "code",
   "execution_count": 9,
   "metadata": {
    "ExecuteTime": {
     "end_time": "2018-05-05T04:18:40.548254Z",
     "start_time": "2018-05-05T04:18:40.136871Z"
    }
   },
   "outputs": [
    {
     "name": "stdout",
     "output_type": "stream",
     "text": [
      "[[12139  1889]\n",
      " [ 1797 10456]]\n",
      "0.8501504187332304\n"
     ]
    }
   ],
   "source": [
    "y_pred = estimator.predict(X_test)\n",
    "print(met.confusion_matrix(y_test,y_pred, labels=[0,1]))\n",
    "print(met.f1_score(y_test,y_pred))"
   ]
  },
  {
   "cell_type": "code",
   "execution_count": 10,
   "metadata": {
    "ExecuteTime": {
     "end_time": "2018-05-05T04:18:40.931732Z",
     "start_time": "2018-05-05T04:18:40.550311Z"
    }
   },
   "outputs": [
    {
     "data": {
      "image/png": "[encoded data removed]",
      "text/plain": [
       "<Figure size 432x288 with 1 Axes>"
      ]
     },
     "metadata": {},
     "output_type": "display_data"
    }
   ],
   "source": [
    "preds = estimator.predict_proba(X_test)[:,1]\n",
    "fpr, tpr, _ = met.roc_curve(y_test, preds)\n",
    "\n",
    "plt.figure()\n",
    "lw = 2\n",
    "auc = met.auc(fpr, tpr)\n",
    "plt.plot(fpr, tpr, color='navy',\n",
    "         lw=lw, label='ROC curve (area = {:0.2f})'.format(auc))\n",
    "plt.plot([0, 1], [0, 1], color='lightblue', lw=lw, linestyle='--')\n",
    "plt.xlim([0.0, 1.0])\n",
    "plt.ylim([0.0, 1.01])\n",
    "plt.xlabel('False Positive Rate')\n",
    "plt.ylabel('True Positive Rate')\n",
    "plt.title('ROC')\n",
    "plt.legend(loc=\"lower right\")\n",
    "plt.show()"
   ]
  },
  {
   "cell_type": "code",
   "execution_count": null,
   "metadata": {},
   "outputs": [],
   "source": []
  }
 ],
 "metadata": {
  "kernelspec": {
   "display_name": "Python 3",
   "language": "python",
   "name": "python3"
  },
  "language_info": {
   "codemirror_mode": {
    "name": "ipython",
    "version": 3
   },
   "file_extension": ".py",
   "mimetype": "text/x-python",
   "name": "python",
   "nbconvert_exporter": "python",
   "pygments_lexer": "ipython3",
   "version": "3.6.4"
  },
  "varInspector": {
   "cols": {
    "lenName": 16,
    "lenType": 16,
    "lenVar": 40
   },
   "kernels_config": {
    "python": {
     "delete_cmd_postfix": "",
     "delete_cmd_prefix": "del ",
     "library": "var_list.py",
     "varRefreshCmd": "print(var_dic_list())"
    },
    "r": {
     "delete_cmd_postfix": ") ",
     "delete_cmd_prefix": "rm(",
     "library": "var_list.r",
     "varRefreshCmd": "cat(var_dic_list()) "
    }
   },
   "types_to_exclude": [
    "module",
    "function",
    "builtin_function_or_method",
    "instance",
    "_Feature"
   ],
   "window_display": false
  }
 },
 "nbformat": 4,
 "nbformat_minor": 2
}
