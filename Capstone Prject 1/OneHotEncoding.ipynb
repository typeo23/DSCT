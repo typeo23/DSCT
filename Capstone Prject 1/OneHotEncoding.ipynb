{
 "cells": [
  {
   "cell_type": "code",
   "execution_count": 1,
   "metadata": {
    "ExecuteTime": {
     "end_time": "2018-04-22T04:39:46.938428Z",
     "start_time": "2018-04-22T04:39:46.523160Z"
    }
   },
   "outputs": [],
   "source": [
    "import numpy as np\n",
    "import pandas as pd\n",
    "import matplotlib.pyplot as plt"
   ]
  },
  {
   "cell_type": "markdown",
   "metadata": {},
   "source": [
    "### First exploration of machine learning, adding one hot encoding for categorical features"
   ]
  },
  {
   "cell_type": "code",
   "execution_count": 2,
   "metadata": {
    "ExecuteTime": {
     "end_time": "2018-04-22T04:39:59.444559Z",
     "start_time": "2018-04-22T04:39:46.940982Z"
    }
   },
   "outputs": [],
   "source": [
    "df= pd.read_csv('Data/income_data_2017_clean_zeros.csv.bz2', compression='bz2', index_col='peridnum')"
   ]
  },
  {
   "cell_type": "code",
   "execution_count": 3,
   "metadata": {
    "ExecuteTime": {
     "end_time": "2018-04-22T04:39:59.454724Z",
     "start_time": "2018-04-22T04:39:59.447513Z"
    }
   },
   "outputs": [],
   "source": [
    "categorical_features = ['PEIOOCC', 'A_HGA', 'PRDTRACE', 'FKIND', 'A_CLSWKR', 'A_WKSTAT',\n",
    "                       'A_MJIND', 'MJOCC', 'PTYN', 'LJCW', 'A_SEX', 'WEMOCG', 'MIG_CBST',\n",
    "                       'MIGSAME', 'H_TYPE', 'H_LIVQRT', 'GTCBSA', 'GESTFIPS']\n",
    "numerical_features = ['H_NUMPER', 'FPERSONS', 'FOWNU6', 'FOWNU18', 'A_AGE', 'A_HRS1',\n",
    "                     'A_USLHRS', 'PHMEMPRS', 'HRSWK', 'HNUMFAM']\n",
    "labels = ['ERN_VAL']\n",
    "features = categorical_features + numerical_features"
   ]
  },
  {
   "cell_type": "markdown",
   "metadata": {},
   "source": [
    "The column names in the the documentation are uppercase and in the csv file lowercase. Until I decide on a uniform format I just convert the csv to uppercase after loading."
   ]
  },
  {
   "cell_type": "code",
   "execution_count": 4,
   "metadata": {
    "ExecuteTime": {
     "end_time": "2018-04-22T04:39:59.638310Z",
     "start_time": "2018-04-22T04:39:59.456436Z"
    }
   },
   "outputs": [],
   "source": [
    "# converting colum names to uppercase\n",
    "df.columns = df.columns.str.upper()"
   ]
  },
  {
   "cell_type": "code",
   "execution_count": 5,
   "metadata": {
    "ExecuteTime": {
     "end_time": "2018-04-22T04:39:59.741477Z",
     "start_time": "2018-04-22T04:39:59.640497Z"
    }
   },
   "outputs": [],
   "source": [
    "df_filt = df[features + labels]\n",
    "df_filt = df_filt[(df_filt['ERN_VAL'] > 3000) & (df['ERN_VAL'] < 250000)]"
   ]
  },
  {
   "cell_type": "code",
   "execution_count": 6,
   "metadata": {
    "ExecuteTime": {
     "end_time": "2018-04-22T04:39:59.820621Z",
     "start_time": "2018-04-22T04:39:59.744040Z"
    }
   },
   "outputs": [],
   "source": [
    "# Getting the index of categorical variables for the OneHot encoder.\n",
    "categorical_index = [i for i,x in enumerate(df_filt.columns.values) if x in categorical_features]"
   ]
  },
  {
   "cell_type": "code",
   "execution_count": 7,
   "metadata": {
    "ExecuteTime": {
     "end_time": "2018-04-22T04:40:00.255836Z",
     "start_time": "2018-04-22T04:39:59.824743Z"
    }
   },
   "outputs": [],
   "source": [
    "from sklearn.model_selection import train_test_split\n",
    "from sklearn.preprocessing import OneHotEncoder\n",
    "from sklearn.ensemble import GradientBoostingClassifier\n",
    "from sklearn.pipeline import Pipeline"
   ]
  },
  {
   "cell_type": "code",
   "execution_count": 8,
   "metadata": {
    "ExecuteTime": {
     "end_time": "2018-04-22T04:40:00.291652Z",
     "start_time": "2018-04-22T04:40:00.258368Z"
    }
   },
   "outputs": [],
   "source": [
    "X = df_filt[features].values\n",
    "# Setting a binary tager from the ern_val column\n",
    "y = (df_filt.ERN_VAL > 40000).values\n",
    "X_train, X_test, y_train, y_test = train_test_split(X, y, test_size=0.2) "
   ]
  },
  {
   "cell_type": "markdown",
   "metadata": {},
   "source": [
    "In the preliminary tests Gradient Boosting classifier was the most promising, so I'm using it. I'm still not adjusting parameters, so there is no need for cross validation. Later I will do a grid search with cross validation for this and some other promising classifiers. "
   ]
  },
  {
   "cell_type": "code",
   "execution_count": 9,
   "metadata": {
    "ExecuteTime": {
     "end_time": "2018-04-22T04:40:00.353442Z",
     "start_time": "2018-04-22T04:40:00.294035Z"
    }
   },
   "outputs": [],
   "source": [
    "steps = [('onehot', OneHotEncoder(categorical_features=categorical_index)),\n",
    "        ('gradientboost', GradientBoostingClassifier(n_estimators=320,subsample=0.3\n",
    "                                                     , learning_rate=0.2, max_depth=3))]\n",
    "pipeline = Pipeline(steps)"
   ]
  },
  {
   "cell_type": "code",
   "execution_count": 10,
   "metadata": {
    "ExecuteTime": {
     "end_time": "2018-04-22T04:40:28.629881Z",
     "start_time": "2018-04-22T04:40:00.356491Z"
    }
   },
   "outputs": [
    {
     "data": {
      "text/plain": [
       "Pipeline(memory=None,\n",
       "     steps=[('onehot', OneHotEncoder(categorical_features=[0, 1, 2, 3, 4, 5, 6, 7, 8, 9, 10, 11, 12, 13, 14, 15, 16, 17],\n",
       "       dtype=<class 'numpy.float64'>, handle_unknown='error',\n",
       "       n_values='auto', sparse=True)), ('gradientboost', GradientBoostingClassifier(criterion='friedman_mse', init=None,\n",
       "...      presort='auto', random_state=None, subsample=0.3, verbose=0,\n",
       "              warm_start=False))])"
      ]
     },
     "execution_count": 10,
     "metadata": {},
     "output_type": "execute_result"
    }
   ],
   "source": [
    "pipeline.fit(X_train,y_train)"
   ]
  },
  {
   "cell_type": "code",
   "execution_count": 11,
   "metadata": {
    "ExecuteTime": {
     "end_time": "2018-04-22T04:40:28.805622Z",
     "start_time": "2018-04-22T04:40:28.632193Z"
    }
   },
   "outputs": [
    {
     "name": "stdout",
     "output_type": "stream",
     "text": [
      "0.803674626540181\n"
     ]
    }
   ],
   "source": [
    "print(pipeline.score(X_test, y_test))"
   ]
  },
  {
   "cell_type": "markdown",
   "metadata": {},
   "source": [
    "### Evaluating the classifier \n",
    "\n",
    "As an initial evaluation I'll get the f-1 score and the AUC for the model. This will be used as a baseline for comparison for later optimizations."
   ]
  },
  {
   "cell_type": "code",
   "execution_count": 12,
   "metadata": {
    "ExecuteTime": {
     "end_time": "2018-04-22T04:40:29.123374Z",
     "start_time": "2018-04-22T04:40:28.807708Z"
    }
   },
   "outputs": [
    {
     "name": "stdout",
     "output_type": "stream",
     "text": [
      "[[10372  1494]\n",
      " [ 2107  4369]]\n",
      "0.7081611151633034\n"
     ]
    }
   ],
   "source": [
    "import sklearn.metrics as met\n",
    "y_pred = pipeline.predict(X_test)\n",
    "print(met.confusion_matrix(y_test,y_pred, labels=[0,1]))\n",
    "print(f'{f-1 Score: {met.f1_score(y_test,y_pred)}')"
   ]
  },
  {
   "cell_type": "code",
   "execution_count": 13,
   "metadata": {
    "ExecuteTime": {
     "end_time": "2018-04-22T04:40:29.295700Z",
     "start_time": "2018-04-22T04:40:29.126491Z"
    }
   },
   "outputs": [],
   "source": [
    "y_score = pipeline.decision_function(X_test)\n",
    "fpr, tpr, threshold = met.roc_curve(y_test, y_score)"
   ]
  },
  {
   "cell_type": "code",
   "execution_count": 14,
   "metadata": {
    "ExecuteTime": {
     "end_time": "2018-04-22T04:40:29.471801Z",
     "start_time": "2018-04-22T04:40:29.298488Z"
    }
   },
   "outputs": [
    {
     "data": {
      "image/png": "[encoded data removed]",
      "text/plain": [
       "<matplotlib.figure.Figure at 0x7ff7a489f860>"
      ]
     },
     "metadata": {},
     "output_type": "display_data"
    },
    {
     "data": {
      "text/plain": [
       "array([ 1.33674330e+32,  1.33674330e+32,  5.97969491e+00, ...,\n",
       "       -5.52434370e+00, -5.53795819e+00, -7.43419243e+00])"
      ]
     },
     "execution_count": 14,
     "metadata": {},
     "output_type": "execute_result"
    }
   ],
   "source": [
    "plt.figure()\n",
    "lw = 2\n",
    "auc = met.auc(fpr, tpr)\n",
    "plt.plot(fpr, tpr, color='darkorange',\n",
    "         lw=lw, label='ROC curve (area = {:0.2f})'.format(auc))\n",
    "plt.plot([0, 1], [0, 1], color='navy', lw=lw, linestyle='--')\n",
    "plt.xlim([0.0, 1.0])\n",
    "plt.ylim([0.0, 1.01])\n",
    "plt.xlabel('False Positive Rate')\n",
    "plt.ylabel('True Positive Rate')\n",
    "plt.title('ROC')\n",
    "plt.legend(loc=\"lower right\")\n",
    "plt.show()\n",
    "threshold"
   ]
  },
  {
   "cell_type": "code",
   "execution_count": 15,
   "metadata": {
    "ExecuteTime": {
     "end_time": "2018-04-22T04:40:29.499873Z",
     "start_time": "2018-04-22T04:40:29.473417Z"
    }
   },
   "outputs": [],
   "source": [
    "from sklearn.decomposition import TruncatedSVD\n",
    "from sklearn.neighbors import KNeighborsClassifier"
   ]
  },
  {
   "attachments": {},
   "cell_type": "markdown",
   "metadata": {},
   "source": [
    "### Dimensionality  reduction\n",
    "\n",
    "PCA does not accept sparse matrices, so I'm trying tsvd. "
   ]
  },
  {
   "cell_type": "code",
   "execution_count": 16,
   "metadata": {
    "ExecuteTime": {
     "end_time": "2018-04-22T04:40:29.575115Z",
     "start_time": "2018-04-22T04:40:29.501530Z"
    }
   },
   "outputs": [],
   "source": [
    "steps = [('onehot', OneHotEncoder(categorical_features=categorical_index)),\n",
    "         ('tsvd', TruncatedSVD(n_components=50)),\n",
    "        ('gradientboost', GradientBoostingClassifier(n_estimators=400,subsample=0.1\n",
    "                                                     , learning_rate=0.06, max_depth=5))]\n",
    "pipeline = Pipeline(steps)"
   ]
  },
  {
   "cell_type": "code",
   "execution_count": 17,
   "metadata": {
    "ExecuteTime": {
     "end_time": "2018-04-22T04:42:43.641124Z",
     "start_time": "2018-04-22T04:40:29.577824Z"
    }
   },
   "outputs": [
    {
     "data": {
      "text/plain": [
       "Pipeline(memory=None,\n",
       "     steps=[('onehot', OneHotEncoder(categorical_features=[0, 1, 2, 3, 4, 5, 6, 7, 8, 9, 10, 11, 12, 13, 14, 15, 16, 17],\n",
       "       dtype=<class 'numpy.float64'>, handle_unknown='error',\n",
       "       n_values='auto', sparse=True)), ('tsvd', TruncatedSVD(algorithm='randomized', n_components=50, n_iter=5,\n",
       "       ra...      presort='auto', random_state=None, subsample=0.1, verbose=0,\n",
       "              warm_start=False))])"
      ]
     },
     "execution_count": 17,
     "metadata": {},
     "output_type": "execute_result"
    }
   ],
   "source": [
    "pipeline.fit(X_train,y_train)"
   ]
  },
  {
   "cell_type": "code",
   "execution_count": 18,
   "metadata": {
    "ExecuteTime": {
     "end_time": "2018-04-22T04:42:44.995844Z",
     "start_time": "2018-04-22T04:42:43.643643Z"
    }
   },
   "outputs": [
    {
     "name": "stdout",
     "output_type": "stream",
     "text": [
      "0.8162066380426634\n",
      "0.6757879306132422\n"
     ]
    }
   ],
   "source": [
    "y_pred = pipeline.predict(X_test)\n",
    "print(pipeline.score(X_train, y_train))\n",
    "print(f'{f-1 Score: {met.f1_score(y_test,y_pred)}')"
   ]
  },
  {
   "cell_type": "code",
   "execution_count": 19,
   "metadata": {
    "ExecuteTime": {
     "end_time": "2018-04-22T04:42:45.384902Z",
     "start_time": "2018-04-22T04:42:44.997822Z"
    }
   },
   "outputs": [
    {
     "data": {
      "image/png": "[encoded data removed]",
      "text/plain": [
       "<matplotlib.figure.Figure at 0x7ff80bd61588>"
      ]
     },
     "metadata": {},
     "output_type": "display_data"
    }
   ],
   "source": [
    "y_score = pipeline.decision_function(X_test)\n",
    "fpr, tpr, threshold = met.roc_curve(y_test, y_score)\n",
    "plt.figure()\n",
    "lw = 2\n",
    "auc = met.auc(fpr, tpr)\n",
    "plt.plot(fpr, tpr, color='darkorange',\n",
    "         lw=lw, label='ROC curve (area = {:0.2f})'.format(auc))\n",
    "plt.plot([0, 1], [0, 1], color='navy', lw=lw, linestyle='--')\n",
    "plt.xlim([0.0, 1.0])\n",
    "plt.ylim([0.0, 1.05])\n",
    "plt.xlabel('False Positive Rate')\n",
    "plt.ylabel('True Positive Rate')\n",
    "plt.title('ROC')\n",
    "plt.legend(loc=\"lower right\")\n",
    "plt.show()"
   ]
  },
  {
   "cell_type": "markdown",
   "metadata": {},
   "source": [
    "This is a lower score then before. The score did not improve above the basline with more components, so unless the goal is to reduce computation time for the classifier by sacrificing accuracy it is not very helpfull. "
   ]
  },
  {
   "cell_type": "markdown",
   "metadata": {},
   "source": [
    "#### Trying to predict sex\n",
    "I tried to check if I can predict the sex of an individual based on the other attributes in the dataset (which I guess is sort of a messure of discrimination)"
   ]
  },
  {
   "cell_type": "code",
   "execution_count": 20,
   "metadata": {
    "ExecuteTime": {
     "end_time": "2018-04-22T04:42:45.474185Z",
     "start_time": "2018-04-22T04:42:45.387287Z"
    }
   },
   "outputs": [],
   "source": [
    "categorical_features = ['PEIOOCC', 'A_HGA', 'PRDTRACE', 'FKIND', 'A_CLSWKR', 'A_WKSTAT',\n",
    "                       'A_MJIND', 'MJOCC', 'PTYN', 'LJCW', 'WEMOCG', 'MIG_CBST',\n",
    "                       'MIGSAME', 'H_TYPE', 'H_LIVQRT', 'GTCBSA', 'GESTFIPS']\n",
    "numerical_features = ['H_NUMPER', 'FPERSONS', 'FOWNU6', 'FOWNU18', 'A_AGE', 'A_HRS1',\n",
    "                     'A_USLHRS', 'PHMEMPRS', 'HRSWK', 'HNUMFAM', 'ERN_VAL']\n",
    "labels = ['A_SEX']\n",
    "features = categorical_features + numerical_features\n",
    "# converting colum names to uppercase\n",
    "df.columns = df.columns.str.upper()\n",
    "df_filt = df[features + labels]\n",
    "df_filt = df_filt[(df_filt['ERN_VAL'] > 3000) & (df['ERN_VAL'] < 250000)]\n",
    "categorical_index = [i for i,x in enumerate(df_filt.columns.values) if x in categorical_features]\n",
    "X = df_filt[features].values\n",
    "y = (df_filt.A_SEX == 1 ).values\n",
    "X_train, X_test, y_train, y_test = train_test_split(X, y, test_size=0.2) "
   ]
  },
  {
   "cell_type": "code",
   "execution_count": 21,
   "metadata": {
    "ExecuteTime": {
     "end_time": "2018-04-22T04:42:45.549617Z",
     "start_time": "2018-04-22T04:42:45.476088Z"
    }
   },
   "outputs": [],
   "source": [
    "steps = [('onehot', OneHotEncoder(categorical_features=categorical_index)),\n",
    "        ('gradientboost', GradientBoostingClassifier(n_estimators=300,subsample=0.3\n",
    "                                                     , learning_rate=0.2))]\n",
    "pipeline = Pipeline(steps)"
   ]
  },
  {
   "cell_type": "code",
   "execution_count": 22,
   "metadata": {
    "ExecuteTime": {
     "end_time": "2018-04-22T04:43:12.387875Z",
     "start_time": "2018-04-22T04:42:45.551601Z"
    }
   },
   "outputs": [
    {
     "data": {
      "text/plain": [
       "Pipeline(memory=None,\n",
       "     steps=[('onehot', OneHotEncoder(categorical_features=[0, 1, 2, 3, 4, 5, 6, 7, 8, 9, 10, 11, 12, 13, 14, 15, 16],\n",
       "       dtype=<class 'numpy.float64'>, handle_unknown='error',\n",
       "       n_values='auto', sparse=True)), ('gradientboost', GradientBoostingClassifier(criterion='friedman_mse', init=None,\n",
       "    ...      presort='auto', random_state=None, subsample=0.3, verbose=0,\n",
       "              warm_start=False))])"
      ]
     },
     "execution_count": 22,
     "metadata": {},
     "output_type": "execute_result"
    }
   ],
   "source": [
    "pipeline.fit(X_train,y_train)"
   ]
  },
  {
   "cell_type": "code",
   "execution_count": 23,
   "metadata": {
    "ExecuteTime": {
     "end_time": "2018-04-22T04:43:12.551337Z",
     "start_time": "2018-04-22T04:43:12.391115Z"
    }
   },
   "outputs": [
    {
     "name": "stdout",
     "output_type": "stream",
     "text": [
      "0.8604296150910479\n"
     ]
    }
   ],
   "source": [
    "print(pipeline.score(X_test, y_test))"
   ]
  },
  {
   "cell_type": "code",
   "execution_count": 24,
   "metadata": {
    "ExecuteTime": {
     "end_time": "2018-04-22T04:43:12.857002Z",
     "start_time": "2018-04-22T04:43:12.553533Z"
    }
   },
   "outputs": [
    {
     "data": {
      "image/png": "[encoded data removed]",
      "text/plain": [
       "<matplotlib.figure.Figure at 0x7ff7a1e8ba58>"
      ]
     },
     "metadata": {},
     "output_type": "display_data"
    }
   ],
   "source": [
    "y_score = pipeline.decision_function(X_test)\n",
    "fpr, tpr, threshold = met.roc_curve(y_test, y_score)\n",
    "plt.figure()\n",
    "lw = 2\n",
    "auc = met.auc(fpr, tpr)\n",
    "plt.plot(fpr, tpr, color='darkorange',\n",
    "         lw=lw, label='ROC curve (area = {:0.2f})'.format(auc))\n",
    "plt.plot([0, 1], [0, 1], color='navy', lw=lw, linestyle='--')\n",
    "plt.xlim([0.0, 1.0])\n",
    "plt.ylim([0.0, 1.01])\n",
    "plt.xlabel('False Positive Rate')\n",
    "plt.ylabel('True Positive Rate')\n",
    "plt.title('ROC')\n",
    "plt.legend(loc=\"lower right\")\n",
    "plt.show()"
   ]
  },
  {
   "cell_type": "code",
   "execution_count": 25,
   "metadata": {
    "ExecuteTime": {
     "end_time": "2018-04-22T04:43:13.019681Z",
     "start_time": "2018-04-22T04:43:12.858911Z"
    }
   },
   "outputs": [
    {
     "name": "stdout",
     "output_type": "stream",
     "text": [
      "0.8695740778479722\n"
     ]
    }
   ],
   "source": [
    "y_pred = pipeline.predict(X_test)\n",
    "print(met.f1_score(y_test,y_pred))"
   ]
  },
  {
   "attachments": {},
   "cell_type": "markdown",
   "metadata": {},
   "source": [
    "Apparently this is much easier task then classifying income"
   ]
  },
  {
   "cell_type": "code",
   "execution_count": null,
   "metadata": {},
   "outputs": [],
   "source": []
  }
 ],
 "metadata": {
  "kernelspec": {
   "display_name": "Python 3",
   "language": "python",
   "name": "python3"
  },
  "language_info": {
   "codemirror_mode": {
    "name": "ipython",
    "version": 3
   },
   "file_extension": ".py",
   "mimetype": "text/x-python",
   "name": "python",
   "nbconvert_exporter": "python",
   "pygments_lexer": "ipython3",
   "version": "3.6.4"
  },
  "varInspector": {
   "cols": {
    "lenName": 16,
    "lenType": 16,
    "lenVar": 40
   },
   "kernels_config": {
    "python": {
     "delete_cmd_postfix": "",
     "delete_cmd_prefix": "del ",
     "library": "var_list.py",
     "varRefreshCmd": "print(var_dic_list())"
    },
    "r": {
     "delete_cmd_postfix": ") ",
     "delete_cmd_prefix": "rm(",
     "library": "var_list.r",
     "varRefreshCmd": "cat(var_dic_list()) "
    }
   },
   "types_to_exclude": [
    "module",
    "function",
    "builtin_function_or_method",
    "instance",
    "_Feature"
   ],
   "window_display": false
  }
 },
 "nbformat": 4,
 "nbformat_minor": 2
}
