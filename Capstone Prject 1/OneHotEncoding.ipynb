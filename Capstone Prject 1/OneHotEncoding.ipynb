{
 "cells": [
  {
   "cell_type": "code",
   "execution_count": 6,
   "metadata": {
    "ExecuteTime": {
     "end_time": "2018-04-21T00:31:16.046363Z",
     "start_time": "2018-04-21T00:31:16.041096Z"
    }
   },
   "outputs": [],
   "source": [
    "import numpy as np\n",
    "import pandas as pd\n",
    "import matplotlib.pyplot as plt"
   ]
  },
  {
   "cell_type": "code",
   "execution_count": 7,
   "metadata": {
    "ExecuteTime": {
     "end_time": "2018-04-21T00:31:35.801748Z",
     "start_time": "2018-04-21T00:31:16.053218Z"
    }
   },
   "outputs": [],
   "source": [
    "df= pd.read_csv('data/income_data_2017_clean_zeros.csv.bz2', compression='bz2', index_col='peridnum')"
   ]
  },
  {
   "cell_type": "code",
   "execution_count": 8,
   "metadata": {
    "ExecuteTime": {
     "end_time": "2018-04-21T00:31:35.818782Z",
     "start_time": "2018-04-21T00:31:35.804923Z"
    }
   },
   "outputs": [],
   "source": [
    "categorical_features = ['PEIOOCC', 'A_HGA', 'PRDTRACE', 'FKIND', 'A_CLSWKR', 'A_WKSTAT',\n",
    "                       'A_MJIND', 'MJOCC', 'PTYN', 'LJCW', 'A_SEX', 'WEMOCG', 'MIG_CBST',\n",
    "                       'MIGSAME', 'H_TYPE', 'H_LIVQRT', 'GTCBSA', 'GESTFIPS']\n",
    "numerical_features = ['H_NUMPER', 'FPERSONS', 'FOWNU6', 'FOWNU18', 'A_AGE', 'A_HRS1',\n",
    "                     'A_USLHRS', 'PHMEMPRS', 'HRSWK', 'HNUMFAM']\n",
    "labels = ['ERN_VAL']\n",
    "features = categorical_features + numerical_features"
   ]
  },
  {
   "cell_type": "code",
   "execution_count": 9,
   "metadata": {
    "ExecuteTime": {
     "end_time": "2018-04-21T00:31:35.844932Z",
     "start_time": "2018-04-21T00:31:35.823175Z"
    }
   },
   "outputs": [],
   "source": [
    "# converting colum names to uppercase\n",
    "df.columns = df.columns.str.upper()"
   ]
  },
  {
   "cell_type": "code",
   "execution_count": 10,
   "metadata": {
    "ExecuteTime": {
     "end_time": "2018-04-21T00:31:36.131296Z",
     "start_time": "2018-04-21T00:31:35.861125Z"
    }
   },
   "outputs": [],
   "source": [
    "df_filt = df[features + labels]\n",
    "df_filt = df_filt[(df_filt['ERN_VAL'] > 3000) & (df['ERN_VAL'] < 250000)]"
   ]
  },
  {
   "cell_type": "code",
   "execution_count": 11,
   "metadata": {
    "ExecuteTime": {
     "end_time": "2018-04-21T00:31:36.148329Z",
     "start_time": "2018-04-21T00:31:36.135048Z"
    }
   },
   "outputs": [],
   "source": [
    "categorical_index = [i for i,x in enumerate(df_filt.columns.values) if x in categorical_features]"
   ]
  },
  {
   "cell_type": "code",
   "execution_count": 12,
   "metadata": {
    "ExecuteTime": {
     "end_time": "2018-04-21T00:31:37.388976Z",
     "start_time": "2018-04-21T00:31:36.153210Z"
    }
   },
   "outputs": [],
   "source": [
    "from sklearn.model_selection import train_test_split\n",
    "from sklearn.preprocessing import OneHotEncoder\n",
    "from sklearn.ensemble import GradientBoostingClassifier\n",
    "from sklearn.pipeline import Pipeline"
   ]
  },
  {
   "cell_type": "code",
   "execution_count": 13,
   "metadata": {
    "ExecuteTime": {
     "end_time": "2018-04-21T00:31:37.475700Z",
     "start_time": "2018-04-21T00:31:37.392581Z"
    }
   },
   "outputs": [],
   "source": [
    "X = df_filt[features].values\n",
    "y = (df_filt.ERN_VAL > 40000).values\n",
    "X_train, X_test, y_train, y_test = train_test_split(X, y, test_size=0.2) "
   ]
  },
  {
   "cell_type": "code",
   "execution_count": 14,
   "metadata": {
    "ExecuteTime": {
     "end_time": "2018-04-21T00:31:37.488490Z",
     "start_time": "2018-04-21T00:31:37.479805Z"
    }
   },
   "outputs": [],
   "source": [
    "steps = [('onehot', OneHotEncoder(categorical_features=categorical_index)),\n",
    "        ('gradientboost', GradientBoostingClassifier(n_estimators=300,subsample=0.3\n",
    "                                                     , learning_rate=0.2))]\n",
    "pipeline = Pipeline(steps)"
   ]
  },
  {
   "cell_type": "code",
   "execution_count": 15,
   "metadata": {
    "ExecuteTime": {
     "end_time": "2018-04-21T00:32:07.580530Z",
     "start_time": "2018-04-21T00:31:37.492800Z"
    }
   },
   "outputs": [
    {
     "data": {
      "text/plain": [
       "Pipeline(memory=None,\n",
       "     steps=[('onehot', OneHotEncoder(categorical_features=[0, 1, 2, 3, 4, 5, 6, 7, 8, 9, 10, 11, 12, 13, 14, 15, 16, 17],\n",
       "       dtype=<class 'numpy.float64'>, handle_unknown='error',\n",
       "       n_values='auto', sparse=True)), ('gradientboost', GradientBoostingClassifier(criterion='friedman_mse', init=None,\n",
       "...      presort='auto', random_state=None, subsample=0.3, verbose=0,\n",
       "              warm_start=False))])"
      ]
     },
     "execution_count": 15,
     "metadata": {},
     "output_type": "execute_result"
    }
   ],
   "source": [
    "pipeline.fit(X_train,y_train)"
   ]
  },
  {
   "cell_type": "code",
   "execution_count": 16,
   "metadata": {
    "ExecuteTime": {
     "end_time": "2018-04-21T00:32:07.872459Z",
     "start_time": "2018-04-21T00:32:07.584834Z"
    }
   },
   "outputs": [
    {
     "name": "stdout",
     "output_type": "stream",
     "text": [
      "0.807709082979\n"
     ]
    }
   ],
   "source": [
    "print(pipeline.score(X_test, y_test))"
   ]
  },
  {
   "cell_type": "code",
   "execution_count": 17,
   "metadata": {
    "ExecuteTime": {
     "end_time": "2018-04-21T00:32:08.190992Z",
     "start_time": "2018-04-21T00:32:07.876182Z"
    }
   },
   "outputs": [
    {
     "name": "stdout",
     "output_type": "stream",
     "text": [
      "[[10387  1495]\n",
      " [ 2032  4428]]\n",
      "0.715174028911\n"
     ]
    }
   ],
   "source": [
    "import sklearn.metrics as met\n",
    "y_pred = pipeline.predict(X_test)\n",
    "print(met.confusion_matrix(y_test,y_pred, labels=[0,1]))\n",
    "print(met.f1_score(y_test,y_pred))"
   ]
  },
  {
   "cell_type": "code",
   "execution_count": 18,
   "metadata": {
    "ExecuteTime": {
     "end_time": "2018-04-21T00:32:08.465678Z",
     "start_time": "2018-04-21T00:32:08.195264Z"
    }
   },
   "outputs": [],
   "source": [
    "y_score = pipeline.decision_function(X_test)\n",
    "fpr, tpr, threshold = met.roc_curve(y_test, y_score)"
   ]
  },
  {
   "cell_type": "code",
   "execution_count": 19,
   "metadata": {
    "ExecuteTime": {
     "end_time": "2018-04-21T00:32:08.877483Z",
     "start_time": "2018-04-21T00:32:08.469673Z"
    }
   },
   "outputs": [
    {
     "data": {
      "image/png": "[encoded data removed]",
      "text/plain": [
       "<matplotlib.figure.Figure at 0x119dcae48>"
      ]
     },
     "metadata": {},
     "output_type": "display_data"
    },
    {
     "data": {
      "text/plain": [
       "array([ 28.86283942,  27.10388967,  26.37343473, ...,  -4.686921  ,\n",
       "        -4.68820798,  -6.37030381])"
      ]
     },
     "execution_count": 19,
     "metadata": {},
     "output_type": "execute_result"
    }
   ],
   "source": [
    "plt.figure()\n",
    "lw = 2\n",
    "auc = met.auc(fpr, tpr)\n",
    "plt.plot(fpr, tpr, color='darkorange',\n",
    "         lw=lw, label='ROC curve (area = {:0.2f})'.format(auc))\n",
    "plt.plot([0, 1], [0, 1], color='navy', lw=lw, linestyle='--')\n",
    "plt.xlim([0.0, 1.0])\n",
    "plt.ylim([0.0, 1.05])\n",
    "plt.xlabel('False Positive Rate')\n",
    "plt.ylabel('True Positive Rate')\n",
    "plt.title('ROC')\n",
    "plt.legend(loc=\"lower right\")\n",
    "plt.show()\n",
    "threshold"
   ]
  },
  {
   "cell_type": "code",
   "execution_count": 20,
   "metadata": {
    "ExecuteTime": {
     "end_time": "2018-04-21T00:32:09.002504Z",
     "start_time": "2018-04-21T00:32:08.880804Z"
    }
   },
   "outputs": [],
   "source": [
    "from sklearn.decomposition import TruncatedSVD\n",
    "from sklearn.neighbors import KNeighborsClassifier"
   ]
  },
  {
   "cell_type": "code",
   "execution_count": 39,
   "metadata": {
    "ExecuteTime": {
     "end_time": "2018-04-21T01:20:30.656524Z",
     "start_time": "2018-04-21T01:20:30.650040Z"
    }
   },
   "outputs": [],
   "source": [
    "steps = [('onehot', OneHotEncoder(categorical_features=categorical_index)),\n",
    "         ('tsvd', TruncatedSVD(n_components=50)),\n",
    "        ('gradientboost', GradientBoostingClassifier(n_estimators=400,subsample=0.1\n",
    "                                                     , learning_rate=0.06, warm_start=True))]\n",
    "pipeline = Pipeline(steps)"
   ]
  },
  {
   "cell_type": "code",
   "execution_count": 42,
   "metadata": {
    "ExecuteTime": {
     "end_time": "2018-04-21T01:27:45.128226Z",
     "start_time": "2018-04-21T01:27:41.881483Z"
    }
   },
   "outputs": [
    {
     "data": {
      "text/plain": [
       "Pipeline(memory=None,\n",
       "     steps=[('onehot', OneHotEncoder(categorical_features=[0, 1, 2, 3, 4, 5, 6, 7, 8, 9, 10, 11, 12, 13, 14, 15, 16, 17],\n",
       "       dtype=<class 'numpy.float64'>, handle_unknown='error',\n",
       "       n_values='auto', sparse=True)), ('tsvd', TruncatedSVD(algorithm='randomized', n_components=50, n_iter=5,\n",
       "       ra...       presort='auto', random_state=None, subsample=0.1, verbose=0,\n",
       "              warm_start=True))])"
      ]
     },
     "execution_count": 42,
     "metadata": {},
     "output_type": "execute_result"
    }
   ],
   "source": [
    "pipeline.fit(X_train,y_train)"
   ]
  },
  {
   "cell_type": "code",
   "execution_count": 44,
   "metadata": {
    "ExecuteTime": {
     "end_time": "2018-04-21T01:28:06.125506Z",
     "start_time": "2018-04-21T01:28:05.137136Z"
    }
   },
   "outputs": [
    {
     "name": "stdout",
     "output_type": "stream",
     "text": [
      "0.798964083691\n"
     ]
    }
   ],
   "source": [
    "print(pipeline.score(X_train, y_train))"
   ]
  },
  {
   "cell_type": "code",
   "execution_count": null,
   "metadata": {},
   "outputs": [],
   "source": []
  },
  {
   "cell_type": "code",
   "execution_count": 57,
   "metadata": {
    "ExecuteTime": {
     "end_time": "2018-04-21T02:45:17.783602Z",
     "start_time": "2018-04-21T02:45:17.632141Z"
    }
   },
   "outputs": [],
   "source": [
    "categorical_features = ['PEIOOCC', 'A_HGA', 'PRDTRACE', 'FKIND', 'A_CLSWKR', 'A_WKSTAT',\n",
    "                       'A_MJIND', 'MJOCC', 'PTYN', 'LJCW', 'WEMOCG', 'MIG_CBST',\n",
    "                       'MIGSAME', 'H_TYPE', 'H_LIVQRT', 'GTCBSA', 'GESTFIPS']\n",
    "numerical_features = ['H_NUMPER', 'FPERSONS', 'FOWNU6', 'FOWNU18', 'A_AGE', 'A_HRS1',\n",
    "                     'A_USLHRS', 'PHMEMPRS', 'HRSWK', 'HNUMFAM', 'ERN_VAL']\n",
    "labels = ['A_SEX']\n",
    "features = categorical_features + numerical_features\n",
    "# converting colum names to uppercase\n",
    "df.columns = df.columns.str.upper()\n",
    "df_filt = df[features + labels]\n",
    "df_filt = df_filt[(df_filt['ERN_VAL'] > 3000) & (df['ERN_VAL'] < 250000)]\n",
    "categorical_index = [i for i,x in enumerate(df_filt.columns.values) if x in categorical_features]\n",
    "X = df_filt[features].values\n",
    "y = (df_filt.A_SEX == 1 ).values\n",
    "X_train, X_test, y_train, y_test = train_test_split(X, y, test_size=0.2) "
   ]
  },
  {
   "cell_type": "code",
   "execution_count": 59,
   "metadata": {
    "ExecuteTime": {
     "end_time": "2018-04-21T02:45:28.645323Z",
     "start_time": "2018-04-21T02:45:28.639778Z"
    }
   },
   "outputs": [],
   "source": [
    "steps = [('onehot', OneHotEncoder(categorical_features=categorical_index)),\n",
    "        ('gradientboost', GradientBoostingClassifier(n_estimators=300,subsample=0.3\n",
    "                                                     , learning_rate=0.2))]\n",
    "pipeline = Pipeline(steps)"
   ]
  },
  {
   "cell_type": "code",
   "execution_count": 60,
   "metadata": {
    "ExecuteTime": {
     "end_time": "2018-04-21T02:46:03.347494Z",
     "start_time": "2018-04-21T02:45:29.687005Z"
    }
   },
   "outputs": [
    {
     "data": {
      "text/plain": [
       "Pipeline(memory=None,\n",
       "     steps=[('onehot', OneHotEncoder(categorical_features=[0, 1, 2, 3, 4, 5, 6, 7, 8, 9, 10, 11, 12, 13, 14, 15, 16],\n",
       "       dtype=<class 'numpy.float64'>, handle_unknown='error',\n",
       "       n_values='auto', sparse=True)), ('gradientboost', GradientBoostingClassifier(criterion='friedman_mse', init=None,\n",
       "    ...      presort='auto', random_state=None, subsample=0.3, verbose=0,\n",
       "              warm_start=False))])"
      ]
     },
     "execution_count": 60,
     "metadata": {},
     "output_type": "execute_result"
    }
   ],
   "source": [
    "pipeline.fit(X_train,y_train)"
   ]
  },
  {
   "cell_type": "code",
   "execution_count": 61,
   "metadata": {
    "ExecuteTime": {
     "end_time": "2018-04-21T02:46:04.335745Z",
     "start_time": "2018-04-21T02:46:03.688935Z"
    }
   },
   "outputs": [
    {
     "name": "stdout",
     "output_type": "stream",
     "text": [
      "0.858957583688\n"
     ]
    }
   ],
   "source": [
    "print(pipeline.score(X_test, y_test))"
   ]
  },
  {
   "cell_type": "code",
   "execution_count": 65,
   "metadata": {
    "ExecuteTime": {
     "end_time": "2018-04-21T02:52:58.043876Z",
     "start_time": "2018-04-21T02:52:57.428191Z"
    }
   },
   "outputs": [
    {
     "data": {
      "image/png": "[encoded data removed]",
      "text/plain": [
       "<matplotlib.figure.Figure at 0x11a6b22e8>"
      ]
     },
     "metadata": {},
     "output_type": "display_data"
    }
   ],
   "source": [
    "y_score = pipeline.decision_function(X_test)\n",
    "fpr, tpr, threshold = met.roc_curve(y_test, y_score)\n",
    "plt.figure()\n",
    "lw = 2\n",
    "auc = met.auc(fpr, tpr)\n",
    "plt.plot(fpr, tpr, color='darkorange',\n",
    "         lw=lw, label='ROC curve (area = {:0.2f})'.format(auc))\n",
    "plt.plot([0, 1], [0, 1], color='navy', lw=lw, linestyle='--')\n",
    "plt.xlim([0.0, 1.0])\n",
    "plt.ylim([0.0, 1.05])\n",
    "plt.xlabel('False Positive Rate')\n",
    "plt.ylabel('True Positive Rate')\n",
    "plt.title('ROC')\n",
    "plt.legend(loc=\"lower right\")\n",
    "plt.show()"
   ]
  },
  {
   "cell_type": "code",
   "execution_count": 67,
   "metadata": {
    "ExecuteTime": {
     "end_time": "2018-04-21T02:53:52.467158Z",
     "start_time": "2018-04-21T02:53:52.213624Z"
    }
   },
   "outputs": [
    {
     "name": "stdout",
     "output_type": "stream",
     "text": [
      "0.869560832955\n"
     ]
    }
   ],
   "source": [
    "y_pred = pipeline.predict(X_test)\n",
    "print(met.f1_score(y_test,y_pred))"
   ]
  },
  {
   "cell_type": "code",
   "execution_count": null,
   "metadata": {},
   "outputs": [],
   "source": []
  }
 ],
 "metadata": {
  "kernelspec": {
   "display_name": "Python 3",
   "language": "python",
   "name": "python3"
  },
  "language_info": {
   "codemirror_mode": {
    "name": "ipython",
    "version": 3
   },
   "file_extension": ".py",
   "mimetype": "text/x-python",
   "name": "python",
   "nbconvert_exporter": "python",
   "pygments_lexer": "ipython3",
   "version": "3.6.4"
  },
  "varInspector": {
   "cols": {
    "lenName": 16,
    "lenType": 16,
    "lenVar": 40
   },
   "kernels_config": {
    "python": {
     "delete_cmd_postfix": "",
     "delete_cmd_prefix": "del ",
     "library": "var_list.py",
     "varRefreshCmd": "print(var_dic_list())"
    },
    "r": {
     "delete_cmd_postfix": ") ",
     "delete_cmd_prefix": "rm(",
     "library": "var_list.r",
     "varRefreshCmd": "cat(var_dic_list()) "
    }
   },
   "types_to_exclude": [
    "module",
    "function",
    "builtin_function_or_method",
    "instance",
    "_Feature"
   ],
   "window_display": false
  }
 },
 "nbformat": 4,
 "nbformat_minor": 2
}
