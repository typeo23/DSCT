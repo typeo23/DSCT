{
 "cells": [
  {
   "cell_type": "markdown",
   "metadata": {},
   "source": [
    "# First Test of The Model\n",
    "\n",
    "Testing the model after training it on one of the forty files in the dataset. Unfortunately the trained model is takes about 1GB so  cannot upload it to github. "
   ]
  },
  {
   "cell_type": "code",
   "execution_count": 37,
   "metadata": {
    "ExecuteTime": {
     "end_time": "2018-06-02T07:27:10.178419Z",
     "start_time": "2018-06-02T07:27:10.173915Z"
    }
   },
   "outputs": [],
   "source": [
    "import gensim\n",
    "import pandas as pd"
   ]
  },
  {
   "cell_type": "markdown",
   "metadata": {},
   "source": [
    "Loading the filtered dataset"
   ]
  },
  {
   "cell_type": "code",
   "execution_count": 38,
   "metadata": {
    "ExecuteTime": {
     "end_time": "2018-06-02T07:27:10.957650Z",
     "start_time": "2018-06-02T07:27:10.953428Z"
    }
   },
   "outputs": [],
   "source": [
    "data_dir = '../data/csvTrain/'\n",
    "filename = 's2-corpus-002_lang.csv'"
   ]
  },
  {
   "cell_type": "code",
   "execution_count": 39,
   "metadata": {
    "ExecuteTime": {
     "end_time": "2018-06-02T07:27:21.367675Z",
     "start_time": "2018-06-02T07:27:11.456304Z"
    }
   },
   "outputs": [],
   "source": [
    "df = pd.read_csv(data_dir+filename)"
   ]
  },
  {
   "cell_type": "markdown",
   "metadata": {},
   "source": [
    "Finding a paper from PRL (I have some domain knowledge in the field):"
   ]
  },
  {
   "cell_type": "code",
   "execution_count": 85,
   "metadata": {
    "ExecuteTime": {
     "end_time": "2018-06-02T07:34:43.218645Z",
     "start_time": "2018-06-02T07:34:42.915310Z"
    },
    "scrolled": true
   },
   "outputs": [
    {
     "data": {
      "text/html": [
       "<div>\n",
       "<style scoped>\n",
       "    .dataframe tbody tr th:only-of-type {\n",
       "        vertical-align: middle;\n",
       "    }\n",
       "\n",
       "    .dataframe tbody tr th {\n",
       "        vertical-align: top;\n",
       "    }\n",
       "\n",
       "    .dataframe thead th {\n",
       "        text-align: right;\n",
       "    }\n",
       "</style>\n",
       "<table border=\"1\" class=\"dataframe\">\n",
       "  <thead>\n",
       "    <tr style=\"text-align: right;\">\n",
       "      <th></th>\n",
       "      <th>Unnamed: 0</th>\n",
       "      <th>id</th>\n",
       "      <th>paperAbstract</th>\n",
       "      <th>title</th>\n",
       "      <th>year</th>\n",
       "      <th>journalName</th>\n",
       "      <th>lang</th>\n",
       "    </tr>\n",
       "  </thead>\n",
       "  <tbody>\n",
       "    <tr>\n",
       "      <th>1917</th>\n",
       "      <td>1917</td>\n",
       "      <td>c367c5744775fa3d79404e1a5ad8cb0f9107655f</td>\n",
       "      <td>The branching fraction ratio R(D^{*})≡B(B[over...</td>\n",
       "      <td>Measurement of the ratio of branching fraction...</td>\n",
       "      <td>2015.0</td>\n",
       "      <td>Physical review letters</td>\n",
       "      <td>English</td>\n",
       "    </tr>\n",
       "    <tr>\n",
       "      <th>2952</th>\n",
       "      <td>2952</td>\n",
       "      <td>3758ce746008b7d6ccc06d49e57a235a4c21c6f0</td>\n",
       "      <td>We grew tetragonally distorted FexCo1-x alloy ...</td>\n",
       "      <td>Perpendicular magnetic anisotropy induced by t...</td>\n",
       "      <td>2006.0</td>\n",
       "      <td>Physical review letters</td>\n",
       "      <td>English</td>\n",
       "    </tr>\n",
       "    <tr>\n",
       "      <th>6422</th>\n",
       "      <td>6422</td>\n",
       "      <td>202dd914cbaadbd5ee76c1ddc919750f949c669b</td>\n",
       "      <td>We introduce state-independent, nonperturbativ...</td>\n",
       "      <td>Quantum Speed Limits for Leakage and Decoherence.</td>\n",
       "      <td>2015.0</td>\n",
       "      <td>Physical review letters</td>\n",
       "      <td>English</td>\n",
       "    </tr>\n",
       "    <tr>\n",
       "      <th>9082</th>\n",
       "      <td>9082</td>\n",
       "      <td>e93d5a8632797df8201733ff347f81e5cc3ef5a8</td>\n",
       "      <td>In this study we report on jumps in the magnet...</td>\n",
       "      <td>Interaction-induced partitioning and magnetiza...</td>\n",
       "      <td>2011.0</td>\n",
       "      <td>Physical review letters</td>\n",
       "      <td>English</td>\n",
       "    </tr>\n",
       "    <tr>\n",
       "      <th>9427</th>\n",
       "      <td>9427</td>\n",
       "      <td>1384974a2b790d01ffa237bd084eec0af62688f7</td>\n",
       "      <td>Quantum teleportation faces increasingly deman...</td>\n",
       "      <td>Remote preparation of single-photon \"hybrid\" e...</td>\n",
       "      <td>2010.0</td>\n",
       "      <td>Physical review letters</td>\n",
       "      <td>English</td>\n",
       "    </tr>\n",
       "  </tbody>\n",
       "</table>\n",
       "</div>"
      ],
      "text/plain": [
       "      Unnamed: 0                                        id  \\\n",
       "1917        1917  c367c5744775fa3d79404e1a5ad8cb0f9107655f   \n",
       "2952        2952  3758ce746008b7d6ccc06d49e57a235a4c21c6f0   \n",
       "6422        6422  202dd914cbaadbd5ee76c1ddc919750f949c669b   \n",
       "9082        9082  e93d5a8632797df8201733ff347f81e5cc3ef5a8   \n",
       "9427        9427  1384974a2b790d01ffa237bd084eec0af62688f7   \n",
       "\n",
       "                                          paperAbstract  \\\n",
       "1917  The branching fraction ratio R(D^{*})≡B(B[over...   \n",
       "2952  We grew tetragonally distorted FexCo1-x alloy ...   \n",
       "6422  We introduce state-independent, nonperturbativ...   \n",
       "9082  In this study we report on jumps in the magnet...   \n",
       "9427  Quantum teleportation faces increasingly deman...   \n",
       "\n",
       "                                                  title    year  \\\n",
       "1917  Measurement of the ratio of branching fraction...  2015.0   \n",
       "2952  Perpendicular magnetic anisotropy induced by t...  2006.0   \n",
       "6422  Quantum Speed Limits for Leakage and Decoherence.  2015.0   \n",
       "9082  Interaction-induced partitioning and magnetiza...  2011.0   \n",
       "9427  Remote preparation of single-photon \"hybrid\" e...  2010.0   \n",
       "\n",
       "                  journalName     lang  \n",
       "1917  Physical review letters  English  \n",
       "2952  Physical review letters  English  \n",
       "6422  Physical review letters  English  \n",
       "9082  Physical review letters  English  \n",
       "9427  Physical review letters  English  "
      ]
     },
     "execution_count": 85,
     "metadata": {},
     "output_type": "execute_result"
    }
   ],
   "source": [
    "df[df.journalName.str.contains('review letters')].head()"
   ]
  },
  {
   "cell_type": "markdown",
   "metadata": {},
   "source": [
    "4195 seems promising. It's quantum mechanics and according to the abstract I would put it in either a condensed matter journal or physical chemistry journal (as this kind of quantum calculation are heavily used in computational chemistry) (ie. PRL, PRE, journal of chemical physics PCCP or somthing like that)<br>\n",
    "Loading the model and finding the top 500 similar abstracts:"
   ]
  },
  {
   "cell_type": "code",
   "execution_count": 86,
   "metadata": {
    "ExecuteTime": {
     "end_time": "2018-06-02T07:38:55.254404Z",
     "start_time": "2018-06-02T07:38:50.756250Z"
    }
   },
   "outputs": [],
   "source": [
    "from gensim.models.word2vec import Word2Vec\n",
    "model= Word2Vec.load('../models/doc2vec/doc2vec_one_file_filter.model')"
   ]
  },
  {
   "cell_type": "code",
   "execution_count": 87,
   "metadata": {
    "ExecuteTime": {
     "end_time": "2018-06-02T07:38:56.462373Z",
     "start_time": "2018-06-02T07:38:55.517489Z"
    }
   },
   "outputs": [],
   "source": [
    "sims = model.docvecs.most_similar(df.iloc[6422].id, topn=500)\n",
    "sims_id = [n for n,v in sims]"
   ]
  },
  {
   "cell_type": "code",
   "execution_count": 88,
   "metadata": {
    "ExecuteTime": {
     "end_time": "2018-06-02T07:38:56.815732Z",
     "start_time": "2018-06-02T07:38:56.779263Z"
    }
   },
   "outputs": [],
   "source": [
    "df_sims = df[df.id.isin(sims_id)]"
   ]
  },
  {
   "cell_type": "code",
   "execution_count": 89,
   "metadata": {
    "ExecuteTime": {
     "end_time": "2018-06-02T07:38:57.102771Z",
     "start_time": "2018-06-02T07:38:57.097823Z"
    }
   },
   "outputs": [
    {
     "data": {
      "text/plain": [
       "'We introduce state-independent, nonperturbative Hamiltonian quantum speed limits for population leakage and fidelity loss, for a gapped open system interacting with a reservoir. These results hold in the presence of initial correlations between the system and the reservoir, under the sole assumption that their interaction and its commutator with the reservoir Hamiltonian are norm bounded. The reservoir need not be thermal and can be time dependent. We study the significance of energy mismatch between the system and the local degrees of freedom of the reservoir that directly interact with the system. We demonstrate that, in general, by increasing the system gap we may reduce this energy mismatch, and, consequently, drive the system and the reservoir into resonance; this can accelerate fidelity loss, irrespective of the thermal properties or state of the reservoir. This implies that quantum error suppression strategies based on increasing the gap are not uniformly beneficial. Our speed limits also yield an elementary lower bound on the relaxation time of spin systems.'"
      ]
     },
     "execution_count": 89,
     "metadata": {},
     "output_type": "execute_result"
    }
   ],
   "source": [
    "df.iloc[6422].paperAbstract"
   ]
  },
  {
   "cell_type": "code",
   "execution_count": 93,
   "metadata": {
    "ExecuteTime": {
     "end_time": "2018-06-02T07:39:40.899754Z",
     "start_time": "2018-06-02T07:39:40.894703Z"
    }
   },
   "outputs": [
    {
     "data": {
      "text/plain": [
       "'Despite the considerable evidence showing that dispersal between habitat patches is often asymmetric, most of the metapopulation models assume symmetric dispersal. In this paper, we develop a Monte Carlo simulation model to quantify the effect of asymmetric dispersal on metapopulation persistence. Our results suggest that metapopulation extinctions are more likely when dispersal is asymmetric. Metapopulation viability in systems with symmetric dispersal mirrors results from a mean field approximation, where the system persists if the expected per patch colonization probability exceeds the expected per patch local extinction rate. For asymmetric cases, the mean field approximation underestimates the number of patches necessary for maintaining population persistence. If we use a model assuming symmetric dispersal when dispersal is actually asymmetric, the estimation of metapopulation persistence is wrong in more than 50% of the cases. Metapopulation viability depends on patch connectivity in symmetric systems, whereas in the asymmetric case the number of patches is more important. These results have important implications for managing spatially structured populations, when asymmetric dispersal may occur. Future metapopulation models should account for asymmetric dispersal, while empirical work is needed to quantify the patterns and the consequences of asymmetric dispersal in natural metapopulations.'"
      ]
     },
     "execution_count": 93,
     "metadata": {},
     "output_type": "execute_result"
    }
   ],
   "source": [
    "df_sims.iloc[1].paperAbstract"
   ]
  },
  {
   "cell_type": "code",
   "execution_count": 94,
   "metadata": {
    "ExecuteTime": {
     "end_time": "2018-06-02T07:40:17.100285Z",
     "start_time": "2018-06-02T07:40:17.079806Z"
    }
   },
   "outputs": [
    {
     "data": {
      "text/html": [
       "<div>\n",
       "<style scoped>\n",
       "    .dataframe tbody tr th:only-of-type {\n",
       "        vertical-align: middle;\n",
       "    }\n",
       "\n",
       "    .dataframe tbody tr th {\n",
       "        vertical-align: top;\n",
       "    }\n",
       "\n",
       "    .dataframe thead th {\n",
       "        text-align: right;\n",
       "    }\n",
       "</style>\n",
       "<table border=\"1\" class=\"dataframe\">\n",
       "  <thead>\n",
       "    <tr style=\"text-align: right;\">\n",
       "      <th></th>\n",
       "      <th>Unnamed: 0</th>\n",
       "      <th>id</th>\n",
       "      <th>paperAbstract</th>\n",
       "      <th>title</th>\n",
       "      <th>year</th>\n",
       "      <th>lang</th>\n",
       "    </tr>\n",
       "    <tr>\n",
       "      <th>journalName</th>\n",
       "      <th></th>\n",
       "      <th></th>\n",
       "      <th></th>\n",
       "      <th></th>\n",
       "      <th></th>\n",
       "      <th></th>\n",
       "    </tr>\n",
       "  </thead>\n",
       "  <tbody>\n",
       "    <tr>\n",
       "      <th>The Journal of chemical physics</th>\n",
       "      <td>26</td>\n",
       "      <td>26</td>\n",
       "      <td>26</td>\n",
       "      <td>26</td>\n",
       "      <td>26</td>\n",
       "      <td>26</td>\n",
       "    </tr>\n",
       "    <tr>\n",
       "      <th>Physical review. E, Statistical, nonlinear, and soft matter physics</th>\n",
       "      <td>19</td>\n",
       "      <td>19</td>\n",
       "      <td>19</td>\n",
       "      <td>19</td>\n",
       "      <td>19</td>\n",
       "      <td>19</td>\n",
       "    </tr>\n",
       "    <tr>\n",
       "      <th>Physical review letters</th>\n",
       "      <td>17</td>\n",
       "      <td>17</td>\n",
       "      <td>17</td>\n",
       "      <td>17</td>\n",
       "      <td>17</td>\n",
       "      <td>17</td>\n",
       "    </tr>\n",
       "    <tr>\n",
       "      <th>Proceedings of the National Academy of Sciences of the United States of America</th>\n",
       "      <td>14</td>\n",
       "      <td>14</td>\n",
       "      <td>14</td>\n",
       "      <td>14</td>\n",
       "      <td>14</td>\n",
       "      <td>14</td>\n",
       "    </tr>\n",
       "    <tr>\n",
       "      <th>CoRR</th>\n",
       "      <td>13</td>\n",
       "      <td>13</td>\n",
       "      <td>13</td>\n",
       "      <td>13</td>\n",
       "      <td>13</td>\n",
       "      <td>13</td>\n",
       "    </tr>\n",
       "    <tr>\n",
       "      <th>Journal of the American Chemical Society</th>\n",
       "      <td>8</td>\n",
       "      <td>8</td>\n",
       "      <td>8</td>\n",
       "      <td>8</td>\n",
       "      <td>8</td>\n",
       "      <td>8</td>\n",
       "    </tr>\n",
       "    <tr>\n",
       "      <th>Journal of physics. Condensed matter : an Institute of Physics journal</th>\n",
       "      <td>7</td>\n",
       "      <td>7</td>\n",
       "      <td>7</td>\n",
       "      <td>7</td>\n",
       "      <td>7</td>\n",
       "      <td>7</td>\n",
       "    </tr>\n",
       "    <tr>\n",
       "      <th>Physical review. E</th>\n",
       "      <td>7</td>\n",
       "      <td>7</td>\n",
       "      <td>7</td>\n",
       "      <td>7</td>\n",
       "      <td>7</td>\n",
       "      <td>7</td>\n",
       "    </tr>\n",
       "    <tr>\n",
       "      <th>The journal of physical chemistry. B</th>\n",
       "      <td>7</td>\n",
       "      <td>7</td>\n",
       "      <td>7</td>\n",
       "      <td>7</td>\n",
       "      <td>7</td>\n",
       "      <td>7</td>\n",
       "    </tr>\n",
       "    <tr>\n",
       "      <th>Physical chemistry chemical physics : PCCP</th>\n",
       "      <td>6</td>\n",
       "      <td>6</td>\n",
       "      <td>6</td>\n",
       "      <td>6</td>\n",
       "      <td>6</td>\n",
       "      <td>6</td>\n",
       "    </tr>\n",
       "  </tbody>\n",
       "</table>\n",
       "</div>"
      ],
      "text/plain": [
       "                                                    Unnamed: 0  id  \\\n",
       "journalName                                                          \n",
       "The Journal of chemical physics                             26  26   \n",
       "Physical review. E, Statistical, nonlinear, and...          19  19   \n",
       "Physical review letters                                     17  17   \n",
       "Proceedings of the National Academy of Sciences...          14  14   \n",
       "CoRR                                                        13  13   \n",
       "Journal of the American Chemical Society                     8   8   \n",
       "Journal of physics. Condensed matter : an Insti...           7   7   \n",
       "Physical review. E                                           7   7   \n",
       "The journal of physical chemistry. B                         7   7   \n",
       "Physical chemistry chemical physics : PCCP                   6   6   \n",
       "\n",
       "                                                    paperAbstract  title  \\\n",
       "journalName                                                                \n",
       "The Journal of chemical physics                                26     26   \n",
       "Physical review. E, Statistical, nonlinear, and...             19     19   \n",
       "Physical review letters                                        17     17   \n",
       "Proceedings of the National Academy of Sciences...             14     14   \n",
       "CoRR                                                           13     13   \n",
       "Journal of the American Chemical Society                        8      8   \n",
       "Journal of physics. Condensed matter : an Insti...              7      7   \n",
       "Physical review. E                                              7      7   \n",
       "The journal of physical chemistry. B                            7      7   \n",
       "Physical chemistry chemical physics : PCCP                      6      6   \n",
       "\n",
       "                                                    year  lang  \n",
       "journalName                                                     \n",
       "The Journal of chemical physics                       26    26  \n",
       "Physical review. E, Statistical, nonlinear, and...    19    19  \n",
       "Physical review letters                               17    17  \n",
       "Proceedings of the National Academy of Sciences...    14    14  \n",
       "CoRR                                                  13    13  \n",
       "Journal of the American Chemical Society               8     8  \n",
       "Journal of physics. Condensed matter : an Insti...     7     7  \n",
       "Physical review. E                                     7     7  \n",
       "The journal of physical chemistry. B                   7     7  \n",
       "Physical chemistry chemical physics : PCCP             6     6  "
      ]
     },
     "execution_count": 94,
     "metadata": {},
     "output_type": "execute_result"
    }
   ],
   "source": [
    "df_sims.groupby('journalName').count().sort_values(by='id', ascending=False).head(10)"
   ]
  },
  {
   "cell_type": "markdown",
   "metadata": {},
   "source": [
    "PRL is there, and most of the journals are in either condensed matter or physical chemistry. There are obviosly not enough samples and using the full dataset should fix that. I also need of think of a way to normalize things by the total number of publication in a journal (i.e if there is a publication with tons of papers that are somwhat similar to our abstract it will be ranked high)\n",
    "\n",
    "Next, lets try a random abstract from 'Human Genetics' I pulled from google:"
   ]
  },
  {
   "cell_type": "code",
   "execution_count": 95,
   "metadata": {
    "ExecuteTime": {
     "end_time": "2018-06-02T07:43:52.100059Z",
     "start_time": "2018-06-02T07:43:52.093239Z"
    }
   },
   "outputs": [],
   "source": [
    "abst = 'Single nucleotide polymorphisms (SNPs) constitute the bulk of human genetic variation, occurring with an average density of ∼1/1000 nucleotides of a genotype. SNPs are either neutral allelic variants or are under selection of various strengths, and the impact of SNPs on fitness remains unknown. Identification of SNPs affecting human phenotype, especially leading to risks of complex disorders, is one of the key problems of medical genetics. SNPs in protein-coding regions that cause amino acid variants (non-synonymous cSNPs) are most likely to affect phenotypes. We have developed a straightforward and reliable method based on physical and comparative considerations that estimates the impact of an amino acid replacement on the three-dimensional structure and function of the protein. We estimate that ∼20% of common human non-synonymous SNPs damage the protein. The average minor allele frequency of such SNPs in our data set was two times lower than that of benign non-synonymous SNPs. The average human genotype carries approximately 103 damaging non-synonymous SNPs that together cause a substantial reduction in fitness.'"
   ]
  },
  {
   "cell_type": "code",
   "execution_count": 96,
   "metadata": {
    "ExecuteTime": {
     "end_time": "2018-06-02T07:43:52.715508Z",
     "start_time": "2018-06-02T07:43:52.710670Z"
    }
   },
   "outputs": [],
   "source": [
    "abst2 = abst.lower().split(' ')"
   ]
  },
  {
   "cell_type": "code",
   "execution_count": 97,
   "metadata": {
    "ExecuteTime": {
     "end_time": "2018-06-02T07:43:53.245919Z",
     "start_time": "2018-06-02T07:43:53.233925Z"
    }
   },
   "outputs": [],
   "source": [
    "bb = model.infer_vector(abst2)"
   ]
  },
  {
   "cell_type": "code",
   "execution_count": 98,
   "metadata": {
    "ExecuteTime": {
     "end_time": "2018-06-02T07:43:53.690366Z",
     "start_time": "2018-06-02T07:43:53.602540Z"
    }
   },
   "outputs": [],
   "source": [
    "sims = model.docvecs.most_similar(positive=[model.infer_vector(abst2)], topn=5000)\n",
    "sims_id = [n for n,v in sims]"
   ]
  },
  {
   "cell_type": "code",
   "execution_count": 99,
   "metadata": {
    "ExecuteTime": {
     "end_time": "2018-06-02T07:43:54.125317Z",
     "start_time": "2018-06-02T07:43:54.048665Z"
    }
   },
   "outputs": [],
   "source": [
    "df_sims = df[df.id.isin(sims_id)]"
   ]
  },
  {
   "cell_type": "code",
   "execution_count": 100,
   "metadata": {
    "ExecuteTime": {
     "end_time": "2018-06-02T07:43:54.477832Z",
     "start_time": "2018-06-02T07:43:54.452405Z"
    }
   },
   "outputs": [
    {
     "data": {
      "text/html": [
       "<div>\n",
       "<style scoped>\n",
       "    .dataframe tbody tr th:only-of-type {\n",
       "        vertical-align: middle;\n",
       "    }\n",
       "\n",
       "    .dataframe tbody tr th {\n",
       "        vertical-align: top;\n",
       "    }\n",
       "\n",
       "    .dataframe thead th {\n",
       "        text-align: right;\n",
       "    }\n",
       "</style>\n",
       "<table border=\"1\" class=\"dataframe\">\n",
       "  <thead>\n",
       "    <tr style=\"text-align: right;\">\n",
       "      <th></th>\n",
       "      <th>Unnamed: 0</th>\n",
       "      <th>id</th>\n",
       "      <th>paperAbstract</th>\n",
       "      <th>title</th>\n",
       "      <th>year</th>\n",
       "      <th>lang</th>\n",
       "    </tr>\n",
       "    <tr>\n",
       "      <th>journalName</th>\n",
       "      <th></th>\n",
       "      <th></th>\n",
       "      <th></th>\n",
       "      <th></th>\n",
       "      <th></th>\n",
       "      <th></th>\n",
       "    </tr>\n",
       "  </thead>\n",
       "  <tbody>\n",
       "    <tr>\n",
       "      <th>Proceedings of the National Academy of Sciences of the United States of America</th>\n",
       "      <td>67</td>\n",
       "      <td>67</td>\n",
       "      <td>67</td>\n",
       "      <td>67</td>\n",
       "      <td>67</td>\n",
       "      <td>67</td>\n",
       "    </tr>\n",
       "    <tr>\n",
       "      <th>The Journal of biological chemistry</th>\n",
       "      <td>53</td>\n",
       "      <td>53</td>\n",
       "      <td>53</td>\n",
       "      <td>53</td>\n",
       "      <td>53</td>\n",
       "      <td>53</td>\n",
       "    </tr>\n",
       "    <tr>\n",
       "      <th>Genetics</th>\n",
       "      <td>29</td>\n",
       "      <td>29</td>\n",
       "      <td>29</td>\n",
       "      <td>29</td>\n",
       "      <td>29</td>\n",
       "      <td>29</td>\n",
       "    </tr>\n",
       "    <tr>\n",
       "      <th>Gene</th>\n",
       "      <td>27</td>\n",
       "      <td>27</td>\n",
       "      <td>27</td>\n",
       "      <td>27</td>\n",
       "      <td>27</td>\n",
       "      <td>27</td>\n",
       "    </tr>\n",
       "    <tr>\n",
       "      <th>Human Genetics</th>\n",
       "      <td>24</td>\n",
       "      <td>24</td>\n",
       "      <td>24</td>\n",
       "      <td>24</td>\n",
       "      <td>24</td>\n",
       "      <td>24</td>\n",
       "    </tr>\n",
       "    <tr>\n",
       "      <th>Biochemical and biophysical research communications</th>\n",
       "      <td>23</td>\n",
       "      <td>23</td>\n",
       "      <td>23</td>\n",
       "      <td>23</td>\n",
       "      <td>23</td>\n",
       "      <td>23</td>\n",
       "    </tr>\n",
       "    <tr>\n",
       "      <th>American journal of human genetics</th>\n",
       "      <td>23</td>\n",
       "      <td>23</td>\n",
       "      <td>23</td>\n",
       "      <td>23</td>\n",
       "      <td>23</td>\n",
       "      <td>23</td>\n",
       "    </tr>\n",
       "    <tr>\n",
       "      <th>Genome research</th>\n",
       "      <td>23</td>\n",
       "      <td>23</td>\n",
       "      <td>23</td>\n",
       "      <td>23</td>\n",
       "      <td>23</td>\n",
       "      <td>23</td>\n",
       "    </tr>\n",
       "    <tr>\n",
       "      <th>Nature</th>\n",
       "      <td>22</td>\n",
       "      <td>22</td>\n",
       "      <td>22</td>\n",
       "      <td>22</td>\n",
       "      <td>22</td>\n",
       "      <td>22</td>\n",
       "    </tr>\n",
       "    <tr>\n",
       "      <th>Genomics</th>\n",
       "      <td>22</td>\n",
       "      <td>22</td>\n",
       "      <td>22</td>\n",
       "      <td>22</td>\n",
       "      <td>22</td>\n",
       "      <td>22</td>\n",
       "    </tr>\n",
       "    <tr>\n",
       "      <th>Human molecular genetics</th>\n",
       "      <td>22</td>\n",
       "      <td>22</td>\n",
       "      <td>22</td>\n",
       "      <td>22</td>\n",
       "      <td>22</td>\n",
       "      <td>22</td>\n",
       "    </tr>\n",
       "    <tr>\n",
       "      <th>Methods in molecular biology</th>\n",
       "      <td>21</td>\n",
       "      <td>21</td>\n",
       "      <td>21</td>\n",
       "      <td>21</td>\n",
       "      <td>21</td>\n",
       "      <td>21</td>\n",
       "    </tr>\n",
       "    <tr>\n",
       "      <th>Journal of chromatography. B, Analytical technologies in the biomedical and life sciences</th>\n",
       "      <td>21</td>\n",
       "      <td>21</td>\n",
       "      <td>21</td>\n",
       "      <td>21</td>\n",
       "      <td>21</td>\n",
       "      <td>21</td>\n",
       "    </tr>\n",
       "    <tr>\n",
       "      <th>CoRR</th>\n",
       "      <td>19</td>\n",
       "      <td>19</td>\n",
       "      <td>19</td>\n",
       "      <td>19</td>\n",
       "      <td>19</td>\n",
       "      <td>19</td>\n",
       "    </tr>\n",
       "    <tr>\n",
       "      <th>Cancer research</th>\n",
       "      <td>18</td>\n",
       "      <td>18</td>\n",
       "      <td>18</td>\n",
       "      <td>18</td>\n",
       "      <td>18</td>\n",
       "      <td>18</td>\n",
       "    </tr>\n",
       "  </tbody>\n",
       "</table>\n",
       "</div>"
      ],
      "text/plain": [
       "                                                    Unnamed: 0  id  \\\n",
       "journalName                                                          \n",
       "Proceedings of the National Academy of Sciences...          67  67   \n",
       "The Journal of biological chemistry                         53  53   \n",
       "Genetics                                                    29  29   \n",
       "Gene                                                        27  27   \n",
       "Human Genetics                                              24  24   \n",
       "Biochemical and biophysical research communicat...          23  23   \n",
       "American journal of human genetics                          23  23   \n",
       "Genome research                                             23  23   \n",
       "Nature                                                      22  22   \n",
       "Genomics                                                    22  22   \n",
       "Human molecular genetics                                    22  22   \n",
       "Methods in molecular biology                                21  21   \n",
       "Journal of chromatography. B, Analytical techno...          21  21   \n",
       "CoRR                                                        19  19   \n",
       "Cancer research                                             18  18   \n",
       "\n",
       "                                                    paperAbstract  title  \\\n",
       "journalName                                                                \n",
       "Proceedings of the National Academy of Sciences...             67     67   \n",
       "The Journal of biological chemistry                            53     53   \n",
       "Genetics                                                       29     29   \n",
       "Gene                                                           27     27   \n",
       "Human Genetics                                                 24     24   \n",
       "Biochemical and biophysical research communicat...             23     23   \n",
       "American journal of human genetics                             23     23   \n",
       "Genome research                                                23     23   \n",
       "Nature                                                         22     22   \n",
       "Genomics                                                       22     22   \n",
       "Human molecular genetics                                       22     22   \n",
       "Methods in molecular biology                                   21     21   \n",
       "Journal of chromatography. B, Analytical techno...             21     21   \n",
       "CoRR                                                           19     19   \n",
       "Cancer research                                                18     18   \n",
       "\n",
       "                                                    year  lang  \n",
       "journalName                                                     \n",
       "Proceedings of the National Academy of Sciences...    67    67  \n",
       "The Journal of biological chemistry                   53    53  \n",
       "Genetics                                              29    29  \n",
       "Gene                                                  27    27  \n",
       "Human Genetics                                        24    24  \n",
       "Biochemical and biophysical research communicat...    23    23  \n",
       "American journal of human genetics                    23    23  \n",
       "Genome research                                       23    23  \n",
       "Nature                                                22    22  \n",
       "Genomics                                              22    22  \n",
       "Human molecular genetics                              22    22  \n",
       "Methods in molecular biology                          21    21  \n",
       "Journal of chromatography. B, Analytical techno...    21    21  \n",
       "CoRR                                                  19    19  \n",
       "Cancer research                                       18    18  "
      ]
     },
     "execution_count": 100,
     "metadata": {},
     "output_type": "execute_result"
    }
   ],
   "source": [
    "df_sims.groupby('journalName').count().sort_values(by='id', ascending=False).head(15)"
   ]
  },
  {
   "cell_type": "markdown",
   "metadata": {},
   "source": [
    "I have absolutly no knoladge in the field but it seems reasonable.\n",
    "\n",
    "Lastly, I'm gonna try one of my papers:"
   ]
  },
  {
   "cell_type": "code",
   "execution_count": 101,
   "metadata": {
    "ExecuteTime": {
     "end_time": "2018-06-02T07:44:40.926260Z",
     "start_time": "2018-06-02T07:44:40.912806Z"
    }
   },
   "outputs": [],
   "source": [
    "abst= 'The main challenge in predicting sliding friction is related to the complexity of highly \\\n",
    "nonequilibrium processes, the kinetics of which are controlled by the interface temperature. \\\n",
    "Our experiments reveal a nonmonotonic enhancement of dry nanoscale friction at cryogenic \\\n",
    "temperatures for different material classes. Concerted simulations show that it emerges from \\\n",
    "two competing processes acting at the interface: the thermally activated formation as well as \\\n",
    "rupturing of an ensemble of atomic contacts. These results provide a new conceptual \\\n",
    "framework to describe the dynamics of dry friction'"
   ]
  },
  {
   "cell_type": "code",
   "execution_count": 102,
   "metadata": {
    "ExecuteTime": {
     "end_time": "2018-06-02T07:44:41.919648Z",
     "start_time": "2018-06-02T07:44:41.730358Z"
    }
   },
   "outputs": [
    {
     "data": {
      "text/html": [
       "<div>\n",
       "<style scoped>\n",
       "    .dataframe tbody tr th:only-of-type {\n",
       "        vertical-align: middle;\n",
       "    }\n",
       "\n",
       "    .dataframe tbody tr th {\n",
       "        vertical-align: top;\n",
       "    }\n",
       "\n",
       "    .dataframe thead th {\n",
       "        text-align: right;\n",
       "    }\n",
       "</style>\n",
       "<table border=\"1\" class=\"dataframe\">\n",
       "  <thead>\n",
       "    <tr style=\"text-align: right;\">\n",
       "      <th></th>\n",
       "      <th>Unnamed: 0</th>\n",
       "      <th>id</th>\n",
       "      <th>paperAbstract</th>\n",
       "      <th>title</th>\n",
       "      <th>year</th>\n",
       "      <th>lang</th>\n",
       "    </tr>\n",
       "    <tr>\n",
       "      <th>journalName</th>\n",
       "      <th></th>\n",
       "      <th></th>\n",
       "      <th></th>\n",
       "      <th></th>\n",
       "      <th></th>\n",
       "      <th></th>\n",
       "    </tr>\n",
       "  </thead>\n",
       "  <tbody>\n",
       "    <tr>\n",
       "      <th>The Journal of biological chemistry</th>\n",
       "      <td>115</td>\n",
       "      <td>115</td>\n",
       "      <td>115</td>\n",
       "      <td>115</td>\n",
       "      <td>115</td>\n",
       "      <td>115</td>\n",
       "    </tr>\n",
       "    <tr>\n",
       "      <th>Langmuir : the ACS journal of surfaces and colloids</th>\n",
       "      <td>97</td>\n",
       "      <td>97</td>\n",
       "      <td>97</td>\n",
       "      <td>97</td>\n",
       "      <td>97</td>\n",
       "      <td>97</td>\n",
       "    </tr>\n",
       "    <tr>\n",
       "      <th>Proceedings of the National Academy of Sciences of the United States of America</th>\n",
       "      <td>94</td>\n",
       "      <td>94</td>\n",
       "      <td>94</td>\n",
       "      <td>94</td>\n",
       "      <td>94</td>\n",
       "      <td>94</td>\n",
       "    </tr>\n",
       "    <tr>\n",
       "      <th>The Journal of chemical physics</th>\n",
       "      <td>92</td>\n",
       "      <td>92</td>\n",
       "      <td>92</td>\n",
       "      <td>92</td>\n",
       "      <td>92</td>\n",
       "      <td>92</td>\n",
       "    </tr>\n",
       "    <tr>\n",
       "      <th>Journal of the American Chemical Society</th>\n",
       "      <td>83</td>\n",
       "      <td>83</td>\n",
       "      <td>83</td>\n",
       "      <td>83</td>\n",
       "      <td>83</td>\n",
       "      <td>83</td>\n",
       "    </tr>\n",
       "    <tr>\n",
       "      <th>Biochemistry</th>\n",
       "      <td>81</td>\n",
       "      <td>81</td>\n",
       "      <td>81</td>\n",
       "      <td>81</td>\n",
       "      <td>81</td>\n",
       "      <td>81</td>\n",
       "    </tr>\n",
       "    <tr>\n",
       "      <th>Physical chemistry chemical physics : PCCP</th>\n",
       "      <td>79</td>\n",
       "      <td>79</td>\n",
       "      <td>79</td>\n",
       "      <td>79</td>\n",
       "      <td>79</td>\n",
       "      <td>79</td>\n",
       "    </tr>\n",
       "    <tr>\n",
       "      <th>Physical review. E, Statistical, nonlinear, and soft matter physics</th>\n",
       "      <td>76</td>\n",
       "      <td>76</td>\n",
       "      <td>76</td>\n",
       "      <td>76</td>\n",
       "      <td>76</td>\n",
       "      <td>76</td>\n",
       "    </tr>\n",
       "    <tr>\n",
       "      <th>The journal of physical chemistry. B</th>\n",
       "      <td>73</td>\n",
       "      <td>73</td>\n",
       "      <td>73</td>\n",
       "      <td>73</td>\n",
       "      <td>73</td>\n",
       "      <td>73</td>\n",
       "    </tr>\n",
       "    <tr>\n",
       "      <th>ACS applied materials &amp; interfaces</th>\n",
       "      <td>60</td>\n",
       "      <td>60</td>\n",
       "      <td>60</td>\n",
       "      <td>60</td>\n",
       "      <td>60</td>\n",
       "      <td>60</td>\n",
       "    </tr>\n",
       "    <tr>\n",
       "      <th>Biochimica et biophysica acta</th>\n",
       "      <td>59</td>\n",
       "      <td>59</td>\n",
       "      <td>59</td>\n",
       "      <td>59</td>\n",
       "      <td>59</td>\n",
       "      <td>59</td>\n",
       "    </tr>\n",
       "    <tr>\n",
       "      <th>Biophysical journal</th>\n",
       "      <td>53</td>\n",
       "      <td>53</td>\n",
       "      <td>53</td>\n",
       "      <td>53</td>\n",
       "      <td>53</td>\n",
       "      <td>53</td>\n",
       "    </tr>\n",
       "    <tr>\n",
       "      <th>The journal of physical chemistry. A</th>\n",
       "      <td>51</td>\n",
       "      <td>51</td>\n",
       "      <td>51</td>\n",
       "      <td>51</td>\n",
       "      <td>51</td>\n",
       "      <td>51</td>\n",
       "    </tr>\n",
       "    <tr>\n",
       "      <th>Journal of colloid and interface science</th>\n",
       "      <td>50</td>\n",
       "      <td>50</td>\n",
       "      <td>50</td>\n",
       "      <td>50</td>\n",
       "      <td>50</td>\n",
       "      <td>50</td>\n",
       "    </tr>\n",
       "    <tr>\n",
       "      <th>Nature</th>\n",
       "      <td>48</td>\n",
       "      <td>48</td>\n",
       "      <td>48</td>\n",
       "      <td>48</td>\n",
       "      <td>48</td>\n",
       "      <td>48</td>\n",
       "    </tr>\n",
       "  </tbody>\n",
       "</table>\n",
       "</div>"
      ],
      "text/plain": [
       "                                                    Unnamed: 0   id  \\\n",
       "journalName                                                           \n",
       "The Journal of biological chemistry                        115  115   \n",
       "Langmuir : the ACS journal of surfaces and coll...          97   97   \n",
       "Proceedings of the National Academy of Sciences...          94   94   \n",
       "The Journal of chemical physics                             92   92   \n",
       "Journal of the American Chemical Society                    83   83   \n",
       "Biochemistry                                                81   81   \n",
       "Physical chemistry chemical physics : PCCP                  79   79   \n",
       "Physical review. E, Statistical, nonlinear, and...          76   76   \n",
       "The journal of physical chemistry. B                        73   73   \n",
       "ACS applied materials & interfaces                          60   60   \n",
       "Biochimica et biophysica acta                               59   59   \n",
       "Biophysical journal                                         53   53   \n",
       "The journal of physical chemistry. A                        51   51   \n",
       "Journal of colloid and interface science                    50   50   \n",
       "Nature                                                      48   48   \n",
       "\n",
       "                                                    paperAbstract  title  \\\n",
       "journalName                                                                \n",
       "The Journal of biological chemistry                           115    115   \n",
       "Langmuir : the ACS journal of surfaces and coll...             97     97   \n",
       "Proceedings of the National Academy of Sciences...             94     94   \n",
       "The Journal of chemical physics                                92     92   \n",
       "Journal of the American Chemical Society                       83     83   \n",
       "Biochemistry                                                   81     81   \n",
       "Physical chemistry chemical physics : PCCP                     79     79   \n",
       "Physical review. E, Statistical, nonlinear, and...             76     76   \n",
       "The journal of physical chemistry. B                           73     73   \n",
       "ACS applied materials & interfaces                             60     60   \n",
       "Biochimica et biophysica acta                                  59     59   \n",
       "Biophysical journal                                            53     53   \n",
       "The journal of physical chemistry. A                           51     51   \n",
       "Journal of colloid and interface science                       50     50   \n",
       "Nature                                                         48     48   \n",
       "\n",
       "                                                    year  lang  \n",
       "journalName                                                     \n",
       "The Journal of biological chemistry                  115   115  \n",
       "Langmuir : the ACS journal of surfaces and coll...    97    97  \n",
       "Proceedings of the National Academy of Sciences...    94    94  \n",
       "The Journal of chemical physics                       92    92  \n",
       "Journal of the American Chemical Society              83    83  \n",
       "Biochemistry                                          81    81  \n",
       "Physical chemistry chemical physics : PCCP            79    79  \n",
       "Physical review. E, Statistical, nonlinear, and...    76    76  \n",
       "The journal of physical chemistry. B                  73    73  \n",
       "ACS applied materials & interfaces                    60    60  \n",
       "Biochimica et biophysica acta                         59    59  \n",
       "Biophysical journal                                   53    53  \n",
       "The journal of physical chemistry. A                  51    51  \n",
       "Journal of colloid and interface science              50    50  \n",
       "Nature                                                48    48  "
      ]
     },
     "execution_count": 102,
     "metadata": {},
     "output_type": "execute_result"
    }
   ],
   "source": [
    "abst2 = abst.lower().split(' ')\n",
    "bb = model.infer_vector(abst2)\n",
    "sims = model.docvecs.most_similar(positive=[model.infer_vector(abst2)], topn=5000)\n",
    "sims_id = [n for n,v in sims]\n",
    "df_sims = df[df.id.isin(sims_id)]\n",
    "df_sims.groupby('journalName').count().sort_values(by='id', ascending=False).head(15)"
   ]
  },
  {
   "cell_type": "markdown",
   "metadata": {},
   "source": [
    "Except from Biochemistry all of them are journals that are fit for this publication. This was actually published in PRL which is not here, but it was an exception and the novelty of the discovery is what put it there otherwise we would have send it to one of the journals above. "
   ]
  },
  {
   "cell_type": "markdown",
   "metadata": {},
   "source": [
    "So... This needs more work, but it seems like it's going in the right direction. Next I'll train a Glove model and test the mean vectors distance for similarity, there is some reaserch which suggests this can work better for short documents)"
   ]
  },
  {
   "cell_type": "code",
   "execution_count": null,
   "metadata": {},
   "outputs": [],
   "source": []
  }
 ],
 "metadata": {
  "kernelspec": {
   "display_name": "Python 3",
   "language": "python",
   "name": "python3"
  },
  "language_info": {
   "codemirror_mode": {
    "name": "ipython",
    "version": 3
   },
   "file_extension": ".py",
   "mimetype": "text/x-python",
   "name": "python",
   "nbconvert_exporter": "python",
   "pygments_lexer": "ipython3",
   "version": "3.6.4"
  },
  "varInspector": {
   "cols": {
    "lenName": 16,
    "lenType": 16,
    "lenVar": 40
   },
   "kernels_config": {
    "python": {
     "delete_cmd_postfix": "",
     "delete_cmd_prefix": "del ",
     "library": "var_list.py",
     "varRefreshCmd": "print(var_dic_list())"
    },
    "r": {
     "delete_cmd_postfix": ") ",
     "delete_cmd_prefix": "rm(",
     "library": "var_list.r",
     "varRefreshCmd": "cat(var_dic_list()) "
    }
   },
   "types_to_exclude": [
    "module",
    "function",
    "builtin_function_or_method",
    "instance",
    "_Feature"
   ],
   "window_display": false
  }
 },
 "nbformat": 4,
 "nbformat_minor": 1
}
