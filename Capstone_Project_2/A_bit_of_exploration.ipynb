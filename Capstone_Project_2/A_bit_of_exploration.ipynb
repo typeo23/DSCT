{
 "cells": [
  {
   "cell_type": "code",
   "execution_count": 3,
   "metadata": {
    "ExecuteTime": {
     "end_time": "2018-06-01T02:46:15.995448Z",
     "start_time": "2018-06-01T02:46:15.989167Z"
    }
   },
   "outputs": [],
   "source": [
    "import pandas as pd\n",
    "import matplotlib.pyplot as plt\n",
    "import numpy as np\n",
    "import seaborn as sns"
   ]
  },
  {
   "cell_type": "code",
   "execution_count": 4,
   "metadata": {
    "ExecuteTime": {
     "end_time": "2018-06-01T02:46:24.702123Z",
     "start_time": "2018-06-01T02:46:16.005024Z"
    }
   },
   "outputs": [],
   "source": [
    "df = pd.read_csv('data/csv/s2-corpus-002_lang.csv')"
   ]
  },
  {
   "cell_type": "markdown",
   "metadata": {},
   "source": [
    "# A bit of EDA on the data\n",
    "\n",
    "This has been done on only one file out of 40, this one file contains million records.\n",
    "As a pre-processing the following steps were preformed:\n",
    "\n",
    "* Entries with empty abstract were removed. (see `/src/trainTex/trainingFunction.py`)\n",
    "* Abstracts with less then five sentances (done by splitting at '.' and checking the length) were removed . (see `/utilityScripts/create_reduced_dataset_one_file.py`)\n",
    "* Abstracts were passed through `polyglot` language detector and a *Language* column was added (see `/utilityScripts/add_language.py`)"
   ]
  },
  {
   "cell_type": "markdown",
   "metadata": {},
   "source": [
    "Lets check how many record we are left with:"
   ]
  },
  {
   "cell_type": "code",
   "execution_count": 5,
   "metadata": {
    "ExecuteTime": {
     "end_time": "2018-06-01T02:46:24.903979Z",
     "start_time": "2018-06-01T02:46:24.705338Z"
    }
   },
   "outputs": [
    {
     "name": "stdout",
     "output_type": "stream",
     "text": [
      "<class 'pandas.core.frame.DataFrame'>\n",
      "RangeIndex: 350202 entries, 0 to 350201\n",
      "Data columns (total 7 columns):\n",
      "Unnamed: 0       350202 non-null int64\n",
      "id               350202 non-null object\n",
      "paperAbstract    350202 non-null object\n",
      "title            350202 non-null object\n",
      "year             350024 non-null float64\n",
      "journalName      350202 non-null object\n",
      "lang             350202 non-null object\n",
      "dtypes: float64(1), int64(1), object(5)\n",
      "memory usage: 18.7+ MB\n"
     ]
    }
   ],
   "source": [
    "df.info()"
   ]
  },
  {
   "cell_type": "markdown",
   "metadata": {},
   "source": [
    "Almost 600K records. There are two wiredly named columns there that were added in my **heroic** battle with several bugs in pandas/python/internal csv library and the fact that some of the abstracts have non standard characters. They cannot be removed and for the purpose of EDA they can stay there. <br>\n",
    "Lets check out the language of the abstracts:"
   ]
  },
  {
   "cell_type": "code",
   "execution_count": 6,
   "metadata": {
    "ExecuteTime": {
     "end_time": "2018-06-01T02:46:24.949043Z",
     "start_time": "2018-06-01T02:46:24.906711Z"
    }
   },
   "outputs": [
    {
     "name": "stdout",
     "output_type": "stream",
     "text": [
      "lang\n",
      "Afrikaans                 2\n",
      "Azerbaijani               1\n",
      "Chinese                   4\n",
      "Croatian                  1\n",
      "Czech                     2\n",
      "Danish                    4\n",
      "Dutch                    36\n",
      "English              345490\n",
      "Estonian                  1\n",
      "French                  421\n",
      "Galician                  1\n",
      "German                 3832\n",
      "Italian                  26\n",
      "Japanese                  2\n",
      "Korean                    1\n",
      "Latin                     4\n",
      "Luxembourgish             1\n",
      "Norwegian Nynorsk         2\n",
      "Polish                    1\n",
      "Portuguese               14\n",
      "Russian                  42\n",
      "Scots                     2\n",
      "Slovak                    1\n",
      "Slovenian                 1\n",
      "Spanish                 166\n",
      "Turkish                   3\n",
      "Ukrainian                 1\n",
      "un                        2\n",
      "unKnown                 138\n",
      "Name: lang, dtype: int64\n"
     ]
    }
   ],
   "source": [
    "lang_count = df.groupby('lang').lang.count()\n",
    "print(lang_count)"
   ]
  },
  {
   "cell_type": "markdown",
   "metadata": {},
   "source": [
    "Quite the list..... <br>\n",
    "As expected the vast majority of abstracts are in English. \n",
    "German have more then 1000 abstracts, which I think makes sense as it used to be one of the main acdemic languages.\n",
    "Lets check some German abstracts to see if they are indeed German:"
   ]
  },
  {
   "cell_type": "code",
   "execution_count": 7,
   "metadata": {
    "ExecuteTime": {
     "end_time": "2018-06-01T02:46:25.078820Z",
     "start_time": "2018-06-01T02:46:24.951556Z"
    }
   },
   "outputs": [
    {
     "data": {
      "text/plain": [
       "'Ab^r.irt: Human \\\\olunt<’crs were exposed. unt.li’r nn-dical surveillance. ro 34 g of a 5°o formulation cOEisisting of 5\"o Mubam’1\"^ (t-iK-n^othienyI-^-irK-thylcarbamatft’’ in pyr;ix powder \\\\\\\\v;wi lo evaluate ihe foimnlation’h porcniial valm-’ as a louse toxicant. The icst was conciucKid at tlic Republic of Keif-a’;! Anny Disciplinary Cunicr. .it Kwangju. iirai Sroul. Korea fioin Jainiary to -\\\\Lirc:i 1\"K9. TIie u-si ptinicipanfi were divided .into ^ groups *>f 100 mrn carli and dusted once in ihc followinij; manner; the control grouu was (.iustrd with an average of 17 g pyrax powder; the CCM group was treated wilh an a\\\\Tiagc of 31 g of the lesc formulation; and a tliild positive control group was dustfd wilh ;m average of 20 q of Po malalhion in iiu’rc powder. Applications of Mobam’lS dust usiing'"
      ]
     },
     "execution_count": 7,
     "metadata": {},
     "output_type": "execute_result"
    }
   ],
   "source": [
    "df[df.lang == 'Azerbaijani'].paperAbstract.iloc[0]"
   ]
  },
  {
   "cell_type": "markdown",
   "metadata": {},
   "source": [
    "All the journal names seems to be German (except from the 'European Journal of Wood and Wood products', it is now became my life goal to publish something there...) There are actually a few misses, but they are a few from a small fraction anyway so we can safely ignore them. \n",
    "\n",
    "While I don't see any reason why there will not be publications in Luxembourgish (which I totaly knew is the official language of Luxembourg https://en.wikipedia.org/wiki/Luxembourgish)  the fact that there is just one abstract in this language makes it obvious that this is a misclassification. <br>\n",
    "Lets check this out:"
   ]
  },
  {
   "cell_type": "code",
   "execution_count": 8,
   "metadata": {
    "ExecuteTime": {
     "end_time": "2018-06-01T02:46:25.235384Z",
     "start_time": "2018-06-01T02:46:25.081249Z"
    }
   },
   "outputs": [
    {
     "data": {
      "text/plain": [
       "122972    1. Rupert, P.B. & Ferré-D’Amaré, A.R. Nature, ...\n",
       "Name: paperAbstract, dtype: object"
      ]
     },
     "execution_count": 8,
     "metadata": {},
     "output_type": "execute_result"
    }
   ],
   "source": [
    "df[df.lang == 'Luxembourgish'].paperAbstract"
   ]
  },
  {
   "cell_type": "markdown",
   "metadata": {},
   "source": [
    "While I only understand Nature but I'm pretty sure this is not Luxembourgish. It looks like nonsense that passed the length check as it contains more then five `.` which translates to more then five sentences. <br>\n",
    "I'll have to decide weather to take care of this stuff here or at the conversion time (probably not count sentences shorter then a threshold, this will also take care of stuff like : 'Rupert P.B'). It may be too time consuming to pass all strings through this check and the language classification seems to filter them quite good. <br>\n",
    "from now I'll assume that every language with less then 4 publications is just misclassification or nonsense <br>\n",
    "\n",
    "Some abstracts have both English and some native language, for example:"
   ]
  },
  {
   "cell_type": "code",
   "execution_count": 9,
   "metadata": {
    "ExecuteTime": {
     "end_time": "2018-06-01T02:46:25.390488Z",
     "start_time": "2018-06-01T02:46:25.238118Z"
    }
   },
   "outputs": [
    {
     "data": {
      "text/plain": [
       "'Any digital signal processing algorithm or processor can be reasonably described as a digital filter. The main advantage of an infinite impulse response filter is that it can provide a much better performance than the finite impulse response filter having the same number of coefficients. However, they might have a multi-modal error surface. Differential Evolution (DE) algorithm is a new heuristic approach mainly having three advantages; finding the true global minimum of a multi modal search space, fast convergence, and using a few control parameters. In this work, DE algorithm has been applied to the design of digital IIR filters and compared its performance to that of genetic algorithm. 1. Giriş Sayısal süzgeçler genel olarak iki grupta sınıflandırılırlar : geribeslemesiz ve geribeslemeli süzgeçler. Geribeslemesiz veya sonlu darbe cevaplı süzgeçlerin cevapları giriş işaretinin sadece o andaki ve geçmişteki değerlerine bağımlıdır. Geribeslemeli veya sonsuz darbe cevaplı süzgeçlerin cevapları ise sadece giriş işaretine değil aynı zamanda bir yada daha fazla geçmiş çıkış değerinede bağımlıdır. IIR süzgeç tasarımının bazı zorlukları vardır. En önemli problem, bu süzgeçler çok modlu hata yüzeyine sahip olabilirler. Bir diğer problem ise, adaptasyon sürecinde süzgecin kararsız duruma gelebilmesidir. Kararsızlık problemi parametre uzayını sınırlandırmak suretiyle kolaylıkla çözülebilir. Fakat ilk problemin üstesinden gelebilmek için, çok modlu bir hata yüzeyi içerisinde evrensel minimumları bulabilen bir tasarım metoduna ihtiyaç duyulur. Bununla birlikte, gradyent tabanlı geleneksel metotlar hata yüzeyindeki yerel minimalara takılabilirler. Bu nedenle, tasarım metotlarının geliştirilmesi için genetik algoritma (GA) gibi modern evrensel optimizasyon algoritmaları önerilmiştir. Temel bir GA, seleksiyon operatörü, çaprazlama operatörü ve mutasyon operatörünü ihtiva etmektedir. Paralel yapısından dolayı, GA, geniş araştırma uzayını etkin bir şekilde araştırabilir ve operatörleri içerisinde geçiş kurallarını uygular. Bununla birlikte, standart bir GA iki dezavantaja sahiptir : yerel araştırma yetenekleri yeterli değildir ve erken yakınsamaya maruz kalabilirler. Genetik algoritmanın bu dezavantajlarını gidermek için, Storn ve Price tarafından Diferansiyel gelişim algoritması önerilmiştir [1]. Genetik algoritmaya benzer olarak DE algoritması da popülasyon tabanlı bir algoritmadır ve benzer operatörleri : seleksiyon, çaprazlama ve mutasyon ihtiva etmektedir. DE algoritmasının optimal sayısal süzgeçlerin tasarımına uygulanması ile ilgili literatürde çok az sayıda çalışma bulunmaktadır [2]. 2. Diferansiyel Gelişim Algoritması D sayıda parametreyi içeren bir optimizasyon işlemi, D boyutlu bir vektör ile gösterilebilir. DE algoritmasında, NP çözüm vektöründen oluşan bir popülasyon başlangıçta rasgele üretilir. Bu popülasyon, mutasyon, çaprazlama ve seleksiyon operatörleri ile iyi bir şekilde geliştirilir. Bir DE algoritmasının temel adımları aşağıdaki gibidir, Başlangıç popülasyonunun oluşturulması Değerlendirme Aşağıdaki adımları durma kriteri sağlanıncaya kadar tekrarla Mutasyon Yeniden birleşme Değerlendirme Seleksiyon'"
      ]
     },
     "execution_count": 9,
     "metadata": {},
     "output_type": "execute_result"
    }
   ],
   "source": [
    "df[df.lang == 'Turkish'].paperAbstract.iloc[0]"
   ]
  },
  {
   "cell_type": "markdown",
   "metadata": {},
   "source": [
    "In the final analisys only the abstracts that were identified as English will be taken into account. Mixed abstracts will be removed as the foreign words will just inflate the classifier corpus. Few as they are it does not worth the time nvestment trying to seperate them."
   ]
  },
  {
   "cell_type": "code",
   "execution_count": 10,
   "metadata": {
    "ExecuteTime": {
     "end_time": "2018-06-01T02:46:32.152147Z",
     "start_time": "2018-06-01T02:46:25.392824Z"
    }
   },
   "outputs": [],
   "source": [
    "df_filt = df[df.lang.map(lambda x: lang_count[x] > 4)]\n",
    "df_filt = df_filt[~(df_filt.lang.str.contains('un'))]\n",
    "df_filt = df_filt[~(df_filt.lang.str.contains('unKnown'))]"
   ]
  },
  {
   "cell_type": "markdown",
   "metadata": {},
   "source": [
    "## And some graphical EDA\n",
    "\n",
    "Abstract count by language (on a log scale otherwise English just dwarfs everything)"
   ]
  },
  {
   "cell_type": "code",
   "execution_count": 11,
   "metadata": {
    "ExecuteTime": {
     "end_time": "2018-06-01T02:46:32.204258Z",
     "start_time": "2018-06-01T02:46:32.159675Z"
    }
   },
   "outputs": [],
   "source": [
    "lang_count = df_filt.groupby('lang').lang.count()"
   ]
  },
  {
   "cell_type": "code",
   "execution_count": 12,
   "metadata": {
    "ExecuteTime": {
     "end_time": "2018-06-01T02:46:33.181575Z",
     "start_time": "2018-06-01T02:46:32.206626Z"
    }
   },
   "outputs": [
    {
     "data": {
      "text/plain": [
       "Text(0.5,0,'Number of Abstracts')"
      ]
     },
     "execution_count": 12,
     "metadata": {},
     "output_type": "execute_result"
    },
    {
     "data": {
      "image/png": "[encoded data removed]",
      "text/plain": [
       "<Figure size 576x576 with 1 Axes>"
      ]
     },
     "metadata": {},
     "output_type": "display_data"
    }
   ],
   "source": [
    "f, ax = plt.subplots(figsize=(8, 8))\n",
    "sns.barplot(y=lang_count.index, x=lang_count, palette='Blues')\n",
    "ax.set_xscale('log')\n",
    "plt.xlabel('Number of Abstracts')"
   ]
  },
  {
   "cell_type": "markdown",
   "metadata": {
    "ExecuteTime": {
     "end_time": "2018-05-27T04:54:27.556864Z",
     "start_time": "2018-05-27T04:54:27.551755Z"
    }
   },
   "source": [
    "This is a logaritmic scale, so English have not real compatitors, why are there so many Turkish publications??? <br>\n",
    "Next we will check publication counts per year:"
   ]
  },
  {
   "cell_type": "markdown",
   "metadata": {},
   "source": [
    "### And a scatter plot of papers count per year:"
   ]
  },
  {
   "cell_type": "code",
   "execution_count": 13,
   "metadata": {
    "ExecuteTime": {
     "end_time": "2018-06-01T02:46:33.198473Z",
     "start_time": "2018-06-01T02:46:33.184107Z"
    }
   },
   "outputs": [],
   "source": [
    "year_count = df.groupby('year')['year'].count()"
   ]
  },
  {
   "cell_type": "code",
   "execution_count": 14,
   "metadata": {
    "ExecuteTime": {
     "end_time": "2018-06-01T02:46:33.684344Z",
     "start_time": "2018-06-01T02:46:33.200694Z"
    }
   },
   "outputs": [
    {
     "data": {
      "image/png": "[encoded data removed]",
      "text/plain": [
       "<Figure size 1296x576 with 1 Axes>"
      ]
     },
     "metadata": {},
     "output_type": "display_data"
    }
   ],
   "source": [
    "f, ax = plt.subplots(figsize=(18, 8))\n",
    "\n",
    "_=plt.scatter(x=year_count.index.values, y=year_count)\n",
    "plt.xlabel('Year');\n",
    "plt.ylabel('Number of Publications');"
   ]
  },
  {
   "cell_type": "markdown",
   "metadata": {
    "ExecuteTime": {
     "end_time": "2018-05-27T05:20:03.603232Z",
     "start_time": "2018-05-27T05:20:03.593566Z"
    }
   },
   "source": [
    "Seems like there is a huge jump in the late 70's when personal computers entered the market. Another jump when the internet became popular, and it seems to be growing  exponentially. I'm leaving academia on time :)"
   ]
  },
  {
   "cell_type": "markdown",
   "metadata": {},
   "source": [
    "# Checking the publication distribution by journal"
   ]
  },
  {
   "cell_type": "code",
   "execution_count": 15,
   "metadata": {
    "ExecuteTime": {
     "end_time": "2018-06-01T02:46:34.008749Z",
     "start_time": "2018-06-01T02:46:33.686829Z"
    }
   },
   "outputs": [],
   "source": [
    "journal_count = year_count = df.groupby('journalName').count().sort_values(by='id', ascending=False).id"
   ]
  },
  {
   "cell_type": "code",
   "execution_count": 16,
   "metadata": {
    "ExecuteTime": {
     "end_time": "2018-06-01T02:46:34.014696Z",
     "start_time": "2018-06-01T02:46:34.011298Z"
    }
   },
   "outputs": [
    {
     "name": "stdout",
     "output_type": "stream",
     "text": [
      "There are 20207 different journals in the database\n"
     ]
    }
   ],
   "source": [
    "print('There are {} different journals in the database'.format(journal_count.shape[0]))"
   ]
  },
  {
   "cell_type": "code",
   "execution_count": 17,
   "metadata": {
    "ExecuteTime": {
     "end_time": "2018-06-01T02:46:34.625162Z",
     "start_time": "2018-06-01T02:46:34.016559Z"
    }
   },
   "outputs": [
    {
     "data": {
      "text/plain": [
       "Text(0.5,0,'Number of publication')"
      ]
     },
     "execution_count": 17,
     "metadata": {},
     "output_type": "execute_result"
    },
    {
     "data": {
      "image/png": "[encoded data removed]",
      "text/plain": [
       "<Figure size 576x576 with 1 Axes>"
      ]
     },
     "metadata": {},
     "output_type": "display_data"
    }
   ],
   "source": [
    "f, ax = plt.subplots(figsize=(8, 8))\n",
    "sns.barplot(y=journal_count.head(15).index, x=journal_count.head(15), palette='Blues')\n",
    "plt.xlabel('Number of publication')"
   ]
  },
  {
   "cell_type": "code",
   "execution_count": 28,
   "metadata": {
    "ExecuteTime": {
     "end_time": "2018-06-01T02:49:25.383867Z",
     "start_time": "2018-06-01T02:49:24.801722Z"
    }
   },
   "outputs": [
    {
     "data": {
      "image/png": "[encoded data removed]",
      "text/plain": [
       "<Figure size 576x576 with 1 Axes>"
      ]
     },
     "metadata": {},
     "output_type": "display_data"
    }
   ],
   "source": [
    "f, ax = plt.subplots(figsize=(8, 8))\n",
    "plt.plot((journal_count.values))\n",
    "plt.xlabel('Journal id')\n",
    "ax.set_yscale('log')"
   ]
  },
  {
   "cell_type": "code",
   "execution_count": 25,
   "metadata": {
    "ExecuteTime": {
     "end_time": "2018-06-01T02:48:35.650576Z",
     "start_time": "2018-06-01T02:48:35.641433Z"
    }
   },
   "outputs": [
    {
     "data": {
      "text/plain": [
       "journalName\n",
       "The Journal of biological chemistry                                                             3554\n",
       "Proceedings of the National Academy of Sciences of the United States of America                 2173\n",
       "Nature                                                                                          1376\n",
       "Biochimica et biophysica acta                                                                   1327\n",
       "Journal of immunology                                                                           1226\n",
       "Biochemistry                                                                                    1214\n",
       "CoRR                                                                                            1088\n",
       "Cancer research                                                                                  989\n",
       "Biochemical and biophysical research communications                                              972\n",
       "Journal of clinical oncology : official journal of the American Society of Clinical Oncology     926\n",
       "The American journal of physiology                                                               919\n",
       "Brain research                                                                                   891\n",
       "Journal of virology                                                                              858\n",
       "Journal of bacteriology                                                                          851\n",
       "The Journal of neuroscience : the official journal of the Society for Neuroscience               820\n",
       "Blood                                                                                            769\n",
       "The Biochemical journal                                                                          745\n",
       "Circulation                                                                                      739\n",
       "Pediatric Research                                                                               677\n",
       "Cancer                                                                                           659\n",
       "Name: id, dtype: int64"
      ]
     },
     "execution_count": 25,
     "metadata": {},
     "output_type": "execute_result"
    }
   ],
   "source": [
    "journal_count.head(20)"
   ]
  },
  {
   "cell_type": "code",
   "execution_count": null,
   "metadata": {},
   "outputs": [],
   "source": []
  }
 ],
 "metadata": {
  "kernelspec": {
   "display_name": "Python 3",
   "language": "python",
   "name": "python3"
  },
  "language_info": {
   "codemirror_mode": {
    "name": "ipython",
    "version": 3
   },
   "file_extension": ".py",
   "mimetype": "text/x-python",
   "name": "python",
   "nbconvert_exporter": "python",
   "pygments_lexer": "ipython3",
   "version": "3.6.4"
  },
  "varInspector": {
   "cols": {
    "lenName": 16,
    "lenType": 16,
    "lenVar": 40
   },
   "kernels_config": {
    "python": {
     "delete_cmd_postfix": "",
     "delete_cmd_prefix": "del ",
     "library": "var_list.py",
     "varRefreshCmd": "print(var_dic_list())"
    },
    "r": {
     "delete_cmd_postfix": ") ",
     "delete_cmd_prefix": "rm(",
     "library": "var_list.r",
     "varRefreshCmd": "cat(var_dic_list()) "
    }
   },
   "types_to_exclude": [
    "module",
    "function",
    "builtin_function_or_method",
    "instance",
    "_Feature"
   ],
   "window_display": false
  }
 },
 "nbformat": 4,
 "nbformat_minor": 2
}
